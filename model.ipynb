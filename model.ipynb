{
 "cells": [
  {
   "cell_type": "code",
   "execution_count": 109,
   "id": "35dc9fd4-3914-4017-ad46-5db994e5620c",
   "metadata": {},
   "outputs": [],
   "source": [
    "import warnings\n",
    "warnings.filterwarnings(\"ignore\")\n",
    "\n",
    "import numpy as np\n",
    "import pandas as pd\n",
    "\n",
    "from datetime import datetime\n",
    "from sklearn.metrics import mean_squared_error\n",
    "from math import sqrt\n",
    "\n",
    "import matplotlib.pyplot as plt\n",
    "import seaborn as sns\n",
    "from pandas.plotting import register_matplotlib_converters\n",
    "\n",
    "import statsmodels.api as sm\n",
    "from statsmodels.tsa.api import Holt\n",
    "\n",
    "import acquire\n",
    "import prepare"
   ]
  },
  {
   "cell_type": "code",
   "execution_count": 2,
   "id": "9d1a9fcc-0f71-4897-b597-38d7252bd4d7",
   "metadata": {},
   "outputs": [],
   "source": [
    "df = pd.read_csv('saas.csv')\n",
    "df.columns = [col.lower() for col in df.columns]"
   ]
  },
  {
   "cell_type": "code",
   "execution_count": 3,
   "id": "ca02d599-25e9-491b-8b76-cab483c2a2b6",
   "metadata": {},
   "outputs": [],
   "source": [
    "df.index = pd.to_datetime(df.month_invoiced)\n",
    "df = df.drop(columns=['month_invoiced'])"
   ]
  },
  {
   "cell_type": "code",
   "execution_count": 4,
   "id": "6c6fc2d0-1b42-4bcc-ab79-b02019b106b0",
   "metadata": {},
   "outputs": [],
   "source": [
    "# split into train, validation, test\n",
    "train = df.loc[:'2016-01-31']\n",
    "validate = df.loc['2016-01-31':'2017-01-31']\n",
    "test = df.loc['2017-01-31': ]"
   ]
  },
  {
   "cell_type": "code",
   "execution_count": 5,
   "id": "5efa5a9b-6bde-4671-a51f-8d7eed5918b7",
   "metadata": {},
   "outputs": [
    {
     "data": {
      "image/png": "[encoded data removed]",
      "text/plain": [
       "<Figure size 864x288 with 1 Axes>"
      ]
     },
     "metadata": {
      "needs_background": "light"
     },
     "output_type": "display_data"
    }
   ],
   "source": [
    "col = 'amount'\n",
    "resample_by = 'M'\n",
    "plt.figure(figsize=(12,4))\n",
    "train.resample(resample_by).sum().amount.plot()\n",
    "validate.resample(resample_by).sum().amount.plot()\n",
    "test.resample(resample_by).sum().amount.plot()\n",
    "plt.ylabel(col)\n",
    "plt.title(col)\n",
    "plt.show()\n"
   ]
  },
  {
   "cell_type": "code",
   "execution_count": 6,
   "id": "1c4278eb-7cf5-4173-bc89-452ef1050877",
   "metadata": {},
   "outputs": [],
   "source": [
    "train = train.resample('M').sum()\n",
    "validate = validate.resample('M').sum()\n",
    "test = test.resample('M').sum()"
   ]
  },
  {
   "cell_type": "code",
   "execution_count": 7,
   "id": "7b4d1596-32d3-43c0-981e-1e8c9bfc08fc",
   "metadata": {},
   "outputs": [],
   "source": [
    "# evaluation function to compute rmse\n",
    "def evaluate(target_var):\n",
    "    rmse = round(sqrt(mean_squared_error(validate[target_var], yhat_df[target_var])), 0)\n",
    "    return rmse\n",
    "# plot and evaluate \n",
    "def plot_and_eval(target_var):\n",
    "    plt.figure(figsize = (12,4))\n",
    "    plt.plot(train[target_var], label = 'Train', linewidth = 1)\n",
    "    plt.plot(validate[target_var], label = 'Validate', linewidth = 1)\n",
    "    plt.plot(yhat_df[target_var], label = 'Predicted')\n",
    "    plt.title(target_var)\n",
    "    plt.legend()\n",
    "    rmse = evaluate(target_var)\n",
    "    print(target_var, '-- RMSE: {:.0f}'.format(rmse))\n",
    "    plt.show()\n",
    "    \n",
    "# Create the empty dataframe\n",
    "eval_df = pd.DataFrame(columns=['model_type', 'target_var', 'rmse'])\n",
    "\n",
    "# function to store rmse for comparison purposes\n",
    "def append_eval_df(model_type, target_var):\n",
    "    rmse = evaluate(target_var)\n",
    "    d = {'model_type': [model_type], 'target_var': [target_var], 'rmse': [rmse]}\n",
    "    d = pd.DataFrame(d)\n",
    "    return eval_df.append(d, ignore_index = True)\n"
   ]
  },
  {
   "cell_type": "code",
   "execution_count": 8,
   "id": "29d1958f-b115-4be1-9963-ba053caf0525",
   "metadata": {},
   "outputs": [
    {
     "data": {
      "text/html": [
       "<div>\n",
       "<style scoped>\n",
       "    .dataframe tbody tr th:only-of-type {\n",
       "        vertical-align: middle;\n",
       "    }\n",
       "\n",
       "    .dataframe tbody tr th {\n",
       "        vertical-align: top;\n",
       "    }\n",
       "\n",
       "    .dataframe thead th {\n",
       "        text-align: right;\n",
       "    }\n",
       "</style>\n",
       "<table border=\"1\" class=\"dataframe\">\n",
       "  <thead>\n",
       "    <tr style=\"text-align: right;\">\n",
       "      <th></th>\n",
       "      <th>amount</th>\n",
       "    </tr>\n",
       "    <tr>\n",
       "      <th>month_invoiced</th>\n",
       "      <th></th>\n",
       "    </tr>\n",
       "  </thead>\n",
       "  <tbody>\n",
       "    <tr>\n",
       "      <th>2016-01-31</th>\n",
       "      <td>51955.0</td>\n",
       "    </tr>\n",
       "    <tr>\n",
       "      <th>2016-02-29</th>\n",
       "      <td>51955.0</td>\n",
       "    </tr>\n",
       "  </tbody>\n",
       "</table>\n",
       "</div>"
      ],
      "text/plain": [
       "                 amount\n",
       "month_invoiced         \n",
       "2016-01-31      51955.0\n",
       "2016-02-29      51955.0"
      ]
     },
     "execution_count": 8,
     "metadata": {},
     "output_type": "execute_result"
    }
   ],
   "source": [
    "amount = train.resample('M').amount.sum()[-1:][0]\n",
    "\n",
    "yhat_df = pd.DataFrame({'amount': [amount]}, \n",
    "                       index = validate.index)\n",
    "\n",
    "yhat_df.head(2)\n"
   ]
  },
  {
   "cell_type": "code",
   "execution_count": 9,
   "id": "7d240b04-2a42-4c4d-b53b-34b12d2aff53",
   "metadata": {},
   "outputs": [
    {
     "name": "stdout",
     "output_type": "stream",
     "text": [
      "amount -- RMSE: 897\n"
     ]
    },
    {
     "data": {
      "image/png": "[encoded data removed]",
      "text/plain": [
       "<Figure size 864x288 with 1 Axes>"
      ]
     },
     "metadata": {
      "needs_background": "light"
     },
     "output_type": "display_data"
    }
   ],
   "source": [
    "plot_and_eval('amount')"
   ]
  },
  {
   "cell_type": "code",
   "execution_count": 10,
   "id": "e0c6e714-7177-4ea8-9495-462726bb66b6",
   "metadata": {},
   "outputs": [],
   "source": [
    "eval_df = append_eval_df(model_type='last_observed_value', target_var = 'amount')"
   ]
  },
  {
   "cell_type": "code",
   "execution_count": 11,
   "id": "d7a5f77b-782d-425d-8749-97b2d41c544f",
   "metadata": {},
   "outputs": [
    {
     "data": {
      "text/html": [
       "<div>\n",
       "<style scoped>\n",
       "    .dataframe tbody tr th:only-of-type {\n",
       "        vertical-align: middle;\n",
       "    }\n",
       "\n",
       "    .dataframe tbody tr th {\n",
       "        vertical-align: top;\n",
       "    }\n",
       "\n",
       "    .dataframe thead th {\n",
       "        text-align: right;\n",
       "    }\n",
       "</style>\n",
       "<table border=\"1\" class=\"dataframe\">\n",
       "  <thead>\n",
       "    <tr style=\"text-align: right;\">\n",
       "      <th></th>\n",
       "      <th>model_type</th>\n",
       "      <th>target_var</th>\n",
       "      <th>rmse</th>\n",
       "    </tr>\n",
       "  </thead>\n",
       "  <tbody>\n",
       "    <tr>\n",
       "      <th>0</th>\n",
       "      <td>last_observed_value</td>\n",
       "      <td>amount</td>\n",
       "      <td>897.0</td>\n",
       "    </tr>\n",
       "  </tbody>\n",
       "</table>\n",
       "</div>"
      ],
      "text/plain": [
       "            model_type target_var   rmse\n",
       "0  last_observed_value     amount  897.0"
      ]
     },
     "execution_count": 11,
     "metadata": {},
     "output_type": "execute_result"
    }
   ],
   "source": [
    "eval_df"
   ]
  },
  {
   "cell_type": "markdown",
   "id": "7f774ade-2c2e-4233-9256-01b7025bd1cc",
   "metadata": {},
   "source": [
    "Simple average"
   ]
  },
  {
   "cell_type": "code",
   "execution_count": 12,
   "id": "0a342459-5193-483c-9113-96e1401a7ccc",
   "metadata": {},
   "outputs": [
    {
     "data": {
      "text/html": [
       "<div>\n",
       "<style scoped>\n",
       "    .dataframe tbody tr th:only-of-type {\n",
       "        vertical-align: middle;\n",
       "    }\n",
       "\n",
       "    .dataframe tbody tr th {\n",
       "        vertical-align: top;\n",
       "    }\n",
       "\n",
       "    .dataframe thead th {\n",
       "        text-align: right;\n",
       "    }\n",
       "</style>\n",
       "<table border=\"1\" class=\"dataframe\">\n",
       "  <thead>\n",
       "    <tr style=\"text-align: right;\">\n",
       "      <th></th>\n",
       "      <th>amount</th>\n",
       "    </tr>\n",
       "    <tr>\n",
       "      <th>month_invoiced</th>\n",
       "      <th></th>\n",
       "    </tr>\n",
       "  </thead>\n",
       "  <tbody>\n",
       "    <tr>\n",
       "      <th>2016-01-31</th>\n",
       "      <td>45824.0</td>\n",
       "    </tr>\n",
       "    <tr>\n",
       "      <th>2016-02-29</th>\n",
       "      <td>45824.0</td>\n",
       "    </tr>\n",
       "  </tbody>\n",
       "</table>\n",
       "</div>"
      ],
      "text/plain": [
       "                 amount\n",
       "month_invoiced         \n",
       "2016-01-31      45824.0\n",
       "2016-02-29      45824.0"
      ]
     },
     "execution_count": 12,
     "metadata": {},
     "output_type": "execute_result"
    }
   ],
   "source": [
    "amount = train.resample('M').amount.sum().mean()\n",
    "\n",
    "yhat_df = pd.DataFrame({'amount': [amount]}, \n",
    "                       index = validate.index)\n",
    "\n",
    "yhat_df.head(2)"
   ]
  },
  {
   "cell_type": "code",
   "execution_count": 13,
   "id": "6a00083f-3457-410d-a878-836d7b07f0ee",
   "metadata": {},
   "outputs": [
    {
     "name": "stdout",
     "output_type": "stream",
     "text": [
      "amount -- RMSE: 6870\n"
     ]
    },
    {
     "data": {
      "image/png": "[encoded data removed]",
      "text/plain": [
       "<Figure size 864x288 with 1 Axes>"
      ]
     },
     "metadata": {
      "needs_background": "light"
     },
     "output_type": "display_data"
    }
   ],
   "source": [
    "plot_and_eval('amount')"
   ]
  },
  {
   "cell_type": "code",
   "execution_count": 14,
   "id": "78481369-5d26-40ee-ab0d-ac0926c3bf48",
   "metadata": {},
   "outputs": [],
   "source": [
    "eval_df = append_eval_df(model_type='simple_average', \n",
    "                             target_var = col)"
   ]
  },
  {
   "cell_type": "code",
   "execution_count": 15,
   "id": "81745c5d-f427-4fc4-9d35-cd602f66d148",
   "metadata": {},
   "outputs": [
    {
     "data": {
      "text/html": [
       "<div>\n",
       "<style scoped>\n",
       "    .dataframe tbody tr th:only-of-type {\n",
       "        vertical-align: middle;\n",
       "    }\n",
       "\n",
       "    .dataframe tbody tr th {\n",
       "        vertical-align: top;\n",
       "    }\n",
       "\n",
       "    .dataframe thead th {\n",
       "        text-align: right;\n",
       "    }\n",
       "</style>\n",
       "<table border=\"1\" class=\"dataframe\">\n",
       "  <thead>\n",
       "    <tr style=\"text-align: right;\">\n",
       "      <th></th>\n",
       "      <th>model_type</th>\n",
       "      <th>target_var</th>\n",
       "      <th>rmse</th>\n",
       "    </tr>\n",
       "  </thead>\n",
       "  <tbody>\n",
       "    <tr>\n",
       "      <th>0</th>\n",
       "      <td>last_observed_value</td>\n",
       "      <td>amount</td>\n",
       "      <td>897.0</td>\n",
       "    </tr>\n",
       "    <tr>\n",
       "      <th>1</th>\n",
       "      <td>simple_average</td>\n",
       "      <td>amount</td>\n",
       "      <td>6870.0</td>\n",
       "    </tr>\n",
       "  </tbody>\n",
       "</table>\n",
       "</div>"
      ],
      "text/plain": [
       "            model_type target_var    rmse\n",
       "0  last_observed_value     amount   897.0\n",
       "1       simple_average     amount  6870.0"
      ]
     },
     "execution_count": 15,
     "metadata": {},
     "output_type": "execute_result"
    }
   ],
   "source": [
    "eval_df"
   ]
  },
  {
   "cell_type": "code",
   "execution_count": 16,
   "id": "d0ade3b1-7d03-45ed-b7c4-d934afaaafb3",
   "metadata": {},
   "outputs": [
    {
     "data": {
      "text/html": [
       "<div>\n",
       "<style scoped>\n",
       "    .dataframe tbody tr th:only-of-type {\n",
       "        vertical-align: middle;\n",
       "    }\n",
       "\n",
       "    .dataframe tbody tr th {\n",
       "        vertical-align: top;\n",
       "    }\n",
       "\n",
       "    .dataframe thead th {\n",
       "        text-align: right;\n",
       "    }\n",
       "</style>\n",
       "<table border=\"1\" class=\"dataframe\">\n",
       "  <thead>\n",
       "    <tr style=\"text-align: right;\">\n",
       "      <th></th>\n",
       "      <th>amount</th>\n",
       "    </tr>\n",
       "    <tr>\n",
       "      <th>month_invoiced</th>\n",
       "      <th></th>\n",
       "    </tr>\n",
       "  </thead>\n",
       "  <tbody>\n",
       "    <tr>\n",
       "      <th>2016-01-31</th>\n",
       "      <td>50482.0</td>\n",
       "    </tr>\n",
       "    <tr>\n",
       "      <th>2016-02-29</th>\n",
       "      <td>50482.0</td>\n",
       "    </tr>\n",
       "  </tbody>\n",
       "</table>\n",
       "</div>"
      ],
      "text/plain": [
       "                 amount\n",
       "month_invoiced         \n",
       "2016-01-31      50482.0\n",
       "2016-02-29      50482.0"
      ]
     },
     "execution_count": 16,
     "metadata": {},
     "output_type": "execute_result"
    }
   ],
   "source": [
    "# compute a 30 day rolling average, \n",
    "# use the most recent/last 30 day period value to predict forward. \n",
    "\n",
    "period = 10\n",
    "\n",
    "amount = round(train.resample('M').amount.sum().rolling(period).mean().iloc[-1], 2)\n",
    "\n",
    "# yhat_df = make_predictions()\n",
    "\n",
    "yhat_df = pd.DataFrame({'amount': [amount],\n",
    "                           }, index = validate.index)\n",
    "yhat_df.head(2)"
   ]
  },
  {
   "cell_type": "code",
   "execution_count": 17,
   "id": "906794ba-2b7e-4e27-9e2c-dba65ea258f3",
   "metadata": {},
   "outputs": [
    {
     "name": "stdout",
     "output_type": "stream",
     "text": [
      "amount -- RMSE: 2256\n"
     ]
    },
    {
     "data": {
      "image/png": "[encoded data removed]",
      "text/plain": [
       "<Figure size 864x288 with 1 Axes>"
      ]
     },
     "metadata": {
      "needs_background": "light"
     },
     "output_type": "display_data"
    }
   ],
   "source": [
    "plot_and_eval('amount')"
   ]
  },
  {
   "cell_type": "code",
   "execution_count": 18,
   "id": "0cb206c4-8bb4-4d01-a57e-3d28690ddc1a",
   "metadata": {},
   "outputs": [
    {
     "data": {
      "text/html": [
       "<div>\n",
       "<style scoped>\n",
       "    .dataframe tbody tr th:only-of-type {\n",
       "        vertical-align: middle;\n",
       "    }\n",
       "\n",
       "    .dataframe tbody tr th {\n",
       "        vertical-align: top;\n",
       "    }\n",
       "\n",
       "    .dataframe thead th {\n",
       "        text-align: right;\n",
       "    }\n",
       "</style>\n",
       "<table border=\"1\" class=\"dataframe\">\n",
       "  <thead>\n",
       "    <tr style=\"text-align: right;\">\n",
       "      <th></th>\n",
       "      <th>model_type</th>\n",
       "      <th>target_var</th>\n",
       "      <th>rmse</th>\n",
       "    </tr>\n",
       "  </thead>\n",
       "  <tbody>\n",
       "    <tr>\n",
       "      <th>0</th>\n",
       "      <td>last_observed_value</td>\n",
       "      <td>amount</td>\n",
       "      <td>897.0</td>\n",
       "    </tr>\n",
       "    <tr>\n",
       "      <th>1</th>\n",
       "      <td>simple_average</td>\n",
       "      <td>amount</td>\n",
       "      <td>6870.0</td>\n",
       "    </tr>\n",
       "    <tr>\n",
       "      <th>2</th>\n",
       "      <td>10M moving average</td>\n",
       "      <td>amount</td>\n",
       "      <td>2256.0</td>\n",
       "    </tr>\n",
       "  </tbody>\n",
       "</table>\n",
       "</div>"
      ],
      "text/plain": [
       "            model_type target_var    rmse\n",
       "0  last_observed_value     amount   897.0\n",
       "1       simple_average     amount  6870.0\n",
       "2   10M moving average     amount  2256.0"
      ]
     },
     "execution_count": 18,
     "metadata": {},
     "output_type": "execute_result"
    }
   ],
   "source": [
    "append_eval_df(model_type='10M moving average',target_var='amount')"
   ]
  },
  {
   "cell_type": "code",
   "execution_count": 19,
   "id": "19d4e546-23aa-45b0-8700-e4b893c491e0",
   "metadata": {},
   "outputs": [],
   "source": [
    "periods = range(1,12)\n",
    "\n",
    "for p in periods:\n",
    "    \n",
    "\n",
    "    amount = round(train.resample('M').amount.sum().rolling(p).mean().iloc[-1], 2)\n",
    "\n",
    "    # yhat_df = make_predictions()\n",
    "\n",
    "    yhat_df = pd.DataFrame({'amount': [amount],\n",
    "                               }, index = validate.index)\n",
    "\n",
    "    model_type = str(p) + 'M moving average'\n",
    "    eval_df = append_eval_df(model_type = model_type,\n",
    "                             target_var = 'amount'\n",
    "                            )\n"
   ]
  },
  {
   "cell_type": "code",
   "execution_count": 25,
   "id": "b95f60c6-baae-4ac9-b7e6-525f42b7cba6",
   "metadata": {},
   "outputs": [
    {
     "data": {
      "image/png": "[encoded data removed]",
      "text/plain": [
       "<Figure size 432x288 with 4 Axes>"
      ]
     },
     "metadata": {
      "needs_background": "light"
     },
     "output_type": "display_data"
    }
   ],
   "source": [
    "sm.tsa.seasonal_decompose(train.amount).plot()\n",
    "None"
   ]
  },
  {
   "cell_type": "code",
   "execution_count": 26,
   "id": "6b561911-efde-49fd-9f4c-0337c428bb41",
   "metadata": {},
   "outputs": [],
   "source": [
    "\n",
    "model = Holt(train.amount, exponential = False)\n",
    "model = model.fit(smoothing_level = .1, \n",
    "                  smoothing_slope = .1, \n",
    "                  optimized = False)\n",
    "yhat_items = model.predict(start = validate.index[0], \n",
    "                           end = validate.index[-1])\n",
    "yhat_df['amount'] = round(yhat_items, 2)\n"
   ]
  },
  {
   "cell_type": "code",
   "execution_count": 27,
   "id": "e48df4e2-2b69-4097-8f75-27ac7e553668",
   "metadata": {},
   "outputs": [
    {
     "name": "stdout",
     "output_type": "stream",
     "text": [
      "amount -- RMSE: 7114\n"
     ]
    },
    {
     "data": {
      "image/png": "[encoded data removed]",
      "text/plain": [
       "<Figure size 864x288 with 1 Axes>"
      ]
     },
     "metadata": {
      "needs_background": "light"
     },
     "output_type": "display_data"
    }
   ],
   "source": [
    "plot_and_eval('amount')"
   ]
  },
  {
   "cell_type": "code",
   "execution_count": 30,
   "id": "8d7805c9-1b4b-4eef-b9ba-f0742191ee8d",
   "metadata": {},
   "outputs": [
    {
     "data": {
      "text/html": [
       "<div>\n",
       "<style scoped>\n",
       "    .dataframe tbody tr th:only-of-type {\n",
       "        vertical-align: middle;\n",
       "    }\n",
       "\n",
       "    .dataframe tbody tr th {\n",
       "        vertical-align: top;\n",
       "    }\n",
       "\n",
       "    .dataframe thead th {\n",
       "        text-align: right;\n",
       "    }\n",
       "</style>\n",
       "<table border=\"1\" class=\"dataframe\">\n",
       "  <thead>\n",
       "    <tr style=\"text-align: right;\">\n",
       "      <th></th>\n",
       "      <th>model_type</th>\n",
       "      <th>target_var</th>\n",
       "      <th>rmse</th>\n",
       "    </tr>\n",
       "  </thead>\n",
       "  <tbody>\n",
       "    <tr>\n",
       "      <th>0</th>\n",
       "      <td>last_observed_value</td>\n",
       "      <td>amount</td>\n",
       "      <td>897.0</td>\n",
       "    </tr>\n",
       "    <tr>\n",
       "      <th>1</th>\n",
       "      <td>simple_average</td>\n",
       "      <td>amount</td>\n",
       "      <td>6870.0</td>\n",
       "    </tr>\n",
       "    <tr>\n",
       "      <th>2</th>\n",
       "      <td>1M moving average</td>\n",
       "      <td>amount</td>\n",
       "      <td>897.0</td>\n",
       "    </tr>\n",
       "    <tr>\n",
       "      <th>3</th>\n",
       "      <td>2M moving average</td>\n",
       "      <td>amount</td>\n",
       "      <td>1086.0</td>\n",
       "    </tr>\n",
       "    <tr>\n",
       "      <th>4</th>\n",
       "      <td>3M moving average</td>\n",
       "      <td>amount</td>\n",
       "      <td>1224.0</td>\n",
       "    </tr>\n",
       "    <tr>\n",
       "      <th>5</th>\n",
       "      <td>4M moving average</td>\n",
       "      <td>amount</td>\n",
       "      <td>1253.0</td>\n",
       "    </tr>\n",
       "    <tr>\n",
       "      <th>6</th>\n",
       "      <td>5M moving average</td>\n",
       "      <td>amount</td>\n",
       "      <td>1354.0</td>\n",
       "    </tr>\n",
       "    <tr>\n",
       "      <th>7</th>\n",
       "      <td>6M moving average</td>\n",
       "      <td>amount</td>\n",
       "      <td>1499.0</td>\n",
       "    </tr>\n",
       "    <tr>\n",
       "      <th>8</th>\n",
       "      <td>7M moving average</td>\n",
       "      <td>amount</td>\n",
       "      <td>1656.0</td>\n",
       "    </tr>\n",
       "    <tr>\n",
       "      <th>9</th>\n",
       "      <td>8M moving average</td>\n",
       "      <td>amount</td>\n",
       "      <td>1849.0</td>\n",
       "    </tr>\n",
       "    <tr>\n",
       "      <th>10</th>\n",
       "      <td>9M moving average</td>\n",
       "      <td>amount</td>\n",
       "      <td>2049.0</td>\n",
       "    </tr>\n",
       "    <tr>\n",
       "      <th>11</th>\n",
       "      <td>10M moving average</td>\n",
       "      <td>amount</td>\n",
       "      <td>2256.0</td>\n",
       "    </tr>\n",
       "    <tr>\n",
       "      <th>12</th>\n",
       "      <td>11M moving average</td>\n",
       "      <td>amount</td>\n",
       "      <td>2474.0</td>\n",
       "    </tr>\n",
       "    <tr>\n",
       "      <th>13</th>\n",
       "      <td>Holts</td>\n",
       "      <td>amount</td>\n",
       "      <td>7114.0</td>\n",
       "    </tr>\n",
       "  </tbody>\n",
       "</table>\n",
       "</div>"
      ],
      "text/plain": [
       "             model_type target_var    rmse\n",
       "0   last_observed_value     amount   897.0\n",
       "1        simple_average     amount  6870.0\n",
       "2     1M moving average     amount   897.0\n",
       "3     2M moving average     amount  1086.0\n",
       "4     3M moving average     amount  1224.0\n",
       "5     4M moving average     amount  1253.0\n",
       "6     5M moving average     amount  1354.0\n",
       "7     6M moving average     amount  1499.0\n",
       "8     7M moving average     amount  1656.0\n",
       "9     8M moving average     amount  1849.0\n",
       "10    9M moving average     amount  2049.0\n",
       "11   10M moving average     amount  2256.0\n",
       "12   11M moving average     amount  2474.0\n",
       "13                Holts     amount  7114.0"
      ]
     },
     "execution_count": 30,
     "metadata": {},
     "output_type": "execute_result"
    }
   ],
   "source": [
    "append_eval_df(model_type='Holts', target_var='amount')"
   ]
  },
  {
   "cell_type": "markdown",
   "id": "3ebcb1e8-1f07-4f38-b6d1-6e3ef2447b37",
   "metadata": {},
   "source": [
    "Use previous cycle"
   ]
  },
  {
   "cell_type": "code",
   "execution_count": 90,
   "id": "35c4c3f6-759b-4a95-ae28-b987fa58740a",
   "metadata": {},
   "outputs": [],
   "source": [
    "train = df[:'2015']\n",
    "validate = df['2016']\n",
    "test = df['2017']"
   ]
  },
  {
   "cell_type": "code",
   "execution_count": 91,
   "id": "c5def577-1d6b-4ca5-a734-4d511c9560ec",
   "metadata": {},
   "outputs": [],
   "source": [
    "train = train.resample('M').sum()\n",
    "validate = validate.resample('M').sum()\n",
    "test = test.resample('M').sum()"
   ]
  },
  {
   "cell_type": "code",
   "execution_count": 92,
   "id": "a949a487-831c-4b4d-8063-c423c0f90d33",
   "metadata": {},
   "outputs": [],
   "source": [
    "yhat_df = train['2015'] + train.diff(12).mean()"
   ]
  },
  {
   "cell_type": "code",
   "execution_count": 93,
   "id": "6ff71eb6-b3d4-4826-a508-105f1d1686c8",
   "metadata": {},
   "outputs": [
    {
     "data": {
      "text/html": [
       "<div>\n",
       "<style scoped>\n",
       "    .dataframe tbody tr th:only-of-type {\n",
       "        vertical-align: middle;\n",
       "    }\n",
       "\n",
       "    .dataframe tbody tr th {\n",
       "        vertical-align: top;\n",
       "    }\n",
       "\n",
       "    .dataframe thead th {\n",
       "        text-align: right;\n",
       "    }\n",
       "</style>\n",
       "<table border=\"1\" class=\"dataframe\">\n",
       "  <thead>\n",
       "    <tr style=\"text-align: right;\">\n",
       "      <th></th>\n",
       "      <th>customer_id</th>\n",
       "      <th>invoice_id</th>\n",
       "      <th>subscription_type</th>\n",
       "      <th>amount</th>\n",
       "    </tr>\n",
       "    <tr>\n",
       "      <th>month_invoiced</th>\n",
       "      <th></th>\n",
       "      <th></th>\n",
       "      <th></th>\n",
       "      <th></th>\n",
       "    </tr>\n",
       "  </thead>\n",
       "  <tbody>\n",
       "    <tr>\n",
       "      <th>2015-01-31</th>\n",
       "      <td>1.610465e+10</td>\n",
       "      <td>8.715585e+10</td>\n",
       "      <td>11006.75</td>\n",
       "      <td>55033.75</td>\n",
       "    </tr>\n",
       "    <tr>\n",
       "      <th>2015-02-28</th>\n",
       "      <td>1.595642e+10</td>\n",
       "      <td>8.668951e+10</td>\n",
       "      <td>11121.75</td>\n",
       "      <td>55608.75</td>\n",
       "    </tr>\n",
       "    <tr>\n",
       "      <th>2015-03-31</th>\n",
       "      <td>1.580715e+10</td>\n",
       "      <td>8.621000e+10</td>\n",
       "      <td>11222.75</td>\n",
       "      <td>56113.75</td>\n",
       "    </tr>\n",
       "    <tr>\n",
       "      <th>2015-04-30</th>\n",
       "      <td>1.565336e+10</td>\n",
       "      <td>8.570140e+10</td>\n",
       "      <td>11329.75</td>\n",
       "      <td>56648.75</td>\n",
       "    </tr>\n",
       "    <tr>\n",
       "      <th>2015-05-31</th>\n",
       "      <td>1.550303e+10</td>\n",
       "      <td>8.520072e+10</td>\n",
       "      <td>11422.75</td>\n",
       "      <td>57113.75</td>\n",
       "    </tr>\n",
       "    <tr>\n",
       "      <th>2015-06-30</th>\n",
       "      <td>1.536759e+10</td>\n",
       "      <td>8.477223e+10</td>\n",
       "      <td>11514.75</td>\n",
       "      <td>57573.75</td>\n",
       "    </tr>\n",
       "    <tr>\n",
       "      <th>2015-07-31</th>\n",
       "      <td>1.523028e+10</td>\n",
       "      <td>8.432606e+10</td>\n",
       "      <td>11638.75</td>\n",
       "      <td>58193.75</td>\n",
       "    </tr>\n",
       "    <tr>\n",
       "      <th>2015-08-31</th>\n",
       "      <td>1.509680e+10</td>\n",
       "      <td>8.389434e+10</td>\n",
       "      <td>11716.75</td>\n",
       "      <td>58583.75</td>\n",
       "    </tr>\n",
       "    <tr>\n",
       "      <th>2015-09-30</th>\n",
       "      <td>1.495113e+10</td>\n",
       "      <td>8.339126e+10</td>\n",
       "      <td>11814.75</td>\n",
       "      <td>59073.75</td>\n",
       "    </tr>\n",
       "    <tr>\n",
       "      <th>2015-10-31</th>\n",
       "      <td>1.480961e+10</td>\n",
       "      <td>8.290248e+10</td>\n",
       "      <td>11906.75</td>\n",
       "      <td>59533.75</td>\n",
       "    </tr>\n",
       "    <tr>\n",
       "      <th>2015-11-30</th>\n",
       "      <td>1.466858e+10</td>\n",
       "      <td>8.240666e+10</td>\n",
       "      <td>11869.75</td>\n",
       "      <td>59348.75</td>\n",
       "    </tr>\n",
       "    <tr>\n",
       "      <th>2015-12-31</th>\n",
       "      <td>1.455051e+10</td>\n",
       "      <td>8.202879e+10</td>\n",
       "      <td>11918.75</td>\n",
       "      <td>59593.75</td>\n",
       "    </tr>\n",
       "  </tbody>\n",
       "</table>\n",
       "</div>"
      ],
      "text/plain": [
       "                 customer_id    invoice_id  subscription_type    amount\n",
       "month_invoiced                                                         \n",
       "2015-01-31      1.610465e+10  8.715585e+10           11006.75  55033.75\n",
       "2015-02-28      1.595642e+10  8.668951e+10           11121.75  55608.75\n",
       "2015-03-31      1.580715e+10  8.621000e+10           11222.75  56113.75\n",
       "2015-04-30      1.565336e+10  8.570140e+10           11329.75  56648.75\n",
       "2015-05-31      1.550303e+10  8.520072e+10           11422.75  57113.75\n",
       "2015-06-30      1.536759e+10  8.477223e+10           11514.75  57573.75\n",
       "2015-07-31      1.523028e+10  8.432606e+10           11638.75  58193.75\n",
       "2015-08-31      1.509680e+10  8.389434e+10           11716.75  58583.75\n",
       "2015-09-30      1.495113e+10  8.339126e+10           11814.75  59073.75\n",
       "2015-10-31      1.480961e+10  8.290248e+10           11906.75  59533.75\n",
       "2015-11-30      1.466858e+10  8.240666e+10           11869.75  59348.75\n",
       "2015-12-31      1.455051e+10  8.202879e+10           11918.75  59593.75"
      ]
     },
     "execution_count": 93,
     "metadata": {},
     "output_type": "execute_result"
    }
   ],
   "source": [
    "yhat_df"
   ]
  },
  {
   "cell_type": "code",
   "execution_count": 94,
   "id": "2ccdb4a5-b846-4517-968c-3cbb73fe34dc",
   "metadata": {},
   "outputs": [
    {
     "data": {
      "text/html": [
       "<div>\n",
       "<style scoped>\n",
       "    .dataframe tbody tr th:only-of-type {\n",
       "        vertical-align: middle;\n",
       "    }\n",
       "\n",
       "    .dataframe tbody tr th {\n",
       "        vertical-align: top;\n",
       "    }\n",
       "\n",
       "    .dataframe thead th {\n",
       "        text-align: right;\n",
       "    }\n",
       "</style>\n",
       "<table border=\"1\" class=\"dataframe\">\n",
       "  <thead>\n",
       "    <tr style=\"text-align: right;\">\n",
       "      <th></th>\n",
       "      <th>customer_id</th>\n",
       "      <th>invoice_id</th>\n",
       "      <th>subscription_type</th>\n",
       "      <th>amount</th>\n",
       "    </tr>\n",
       "    <tr>\n",
       "      <th>month_invoiced</th>\n",
       "      <th></th>\n",
       "      <th></th>\n",
       "      <th></th>\n",
       "      <th></th>\n",
       "    </tr>\n",
       "  </thead>\n",
       "  <tbody>\n",
       "    <tr>\n",
       "      <th>2015-01-31</th>\n",
       "      <td>1.610465e+10</td>\n",
       "      <td>8.715585e+10</td>\n",
       "      <td>11006.75</td>\n",
       "      <td>55033.75</td>\n",
       "    </tr>\n",
       "    <tr>\n",
       "      <th>2016-01-31</th>\n",
       "      <td>1.635248e+10</td>\n",
       "      <td>8.781191e+10</td>\n",
       "      <td>10391.00</td>\n",
       "      <td>51955.00</td>\n",
       "    </tr>\n",
       "  </tbody>\n",
       "</table>\n",
       "</div>"
      ],
      "text/plain": [
       "                 customer_id    invoice_id  subscription_type    amount\n",
       "month_invoiced                                                         \n",
       "2015-01-31      1.610465e+10  8.715585e+10           11006.75  55033.75\n",
       "2016-01-31      1.635248e+10  8.781191e+10           10391.00  51955.00"
      ]
     },
     "execution_count": 94,
     "metadata": {},
     "output_type": "execute_result"
    }
   ],
   "source": [
    "pd.concat([yhat_df.head(1), validate.head(1)])"
   ]
  },
  {
   "cell_type": "code",
   "execution_count": 95,
   "id": "728c5f70-5c6d-4820-872a-652022f3808f",
   "metadata": {},
   "outputs": [],
   "source": [
    "yhat_df.index = validate.index"
   ]
  },
  {
   "cell_type": "code",
   "execution_count": 96,
   "id": "353550d1-67f1-4501-949b-bf438521549f",
   "metadata": {},
   "outputs": [],
   "source": [
    "yhat_df = pd.DataFrame(yhat_df)"
   ]
  },
  {
   "cell_type": "code",
   "execution_count": 99,
   "id": "1393e73d-d8b2-4af1-a864-49a12ec5fa57",
   "metadata": {},
   "outputs": [
    {
     "name": "stdout",
     "output_type": "stream",
     "text": [
      "amount -- RMSE: 5192\n"
     ]
    },
    {
     "data": {
      "image/png": "[encoded data removed]",
      "text/plain": [
       "<Figure size 864x288 with 1 Axes>"
      ]
     },
     "metadata": {
      "needs_background": "light"
     },
     "output_type": "display_data"
    }
   ],
   "source": [
    "plot_and_eval('amount')\n",
    "eval_df = append_eval_df(model_type='previous_year', target_var='amount')"
   ]
  },
  {
   "cell_type": "code",
   "execution_count": 103,
   "id": "c9c592d2-9053-4451-a2d7-f50bf9ff7693",
   "metadata": {},
   "outputs": [
    {
     "data": {
      "text/html": [
       "<div>\n",
       "<style scoped>\n",
       "    .dataframe tbody tr th:only-of-type {\n",
       "        vertical-align: middle;\n",
       "    }\n",
       "\n",
       "    .dataframe tbody tr th {\n",
       "        vertical-align: top;\n",
       "    }\n",
       "\n",
       "    .dataframe thead th {\n",
       "        text-align: right;\n",
       "    }\n",
       "</style>\n",
       "<table border=\"1\" class=\"dataframe\">\n",
       "  <thead>\n",
       "    <tr style=\"text-align: right;\">\n",
       "      <th></th>\n",
       "      <th>model_type</th>\n",
       "      <th>target_var</th>\n",
       "      <th>rmse</th>\n",
       "    </tr>\n",
       "  </thead>\n",
       "  <tbody>\n",
       "    <tr>\n",
       "      <th>0</th>\n",
       "      <td>last_observed_value</td>\n",
       "      <td>amount</td>\n",
       "      <td>897.0</td>\n",
       "    </tr>\n",
       "    <tr>\n",
       "      <th>2</th>\n",
       "      <td>1M moving average</td>\n",
       "      <td>amount</td>\n",
       "      <td>897.0</td>\n",
       "    </tr>\n",
       "  </tbody>\n",
       "</table>\n",
       "</div>"
      ],
      "text/plain": [
       "            model_type target_var   rmse\n",
       "0  last_observed_value     amount  897.0\n",
       "2    1M moving average     amount  897.0"
      ]
     },
     "execution_count": 103,
     "metadata": {},
     "output_type": "execute_result"
    }
   ],
   "source": [
    "# get the min rmse for each variable\n",
    "\n",
    "min_rmse_amount = eval_df.groupby('target_var')['rmse'].min()[0]\n",
    "\n",
    "# filter only the rows that match those rmse to find out \n",
    "# which models are best thus far\n",
    "eval_df[((eval_df.rmse == min_rmse_amount)\n",
    "        )]\n"
   ]
  },
  {
   "cell_type": "code",
   "execution_count": 105,
   "id": "a6690093-1936-4b41-9839-5418d91bb7c3",
   "metadata": {},
   "outputs": [
    {
     "data": {
      "image/png": "[encoded data removed]",
      "text/plain": [
       "<Figure size 864x432 with 1 Axes>"
      ]
     },
     "metadata": {
      "needs_background": "light"
     },
     "output_type": "display_data"
    }
   ],
   "source": [
    "x = eval_df[eval_df.target_var == 'amount']['model_type']\n",
    "y = eval_df[eval_df.target_var == 'amount']['rmse']\n",
    "plt.figure(figsize=(12, 6))\n",
    "sns.barplot(x, y)\n",
    "plt.title(col)\n",
    "plt.ylabel('RMSE')\n",
    "plt.xticks(rotation=45)\n",
    "plt.show()"
   ]
  },
  {
   "cell_type": "code",
   "execution_count": 107,
   "id": "1f49e8bc-1717-40de-8d7a-951c82a80dea",
   "metadata": {},
   "outputs": [
    {
     "data": {
      "text/html": [
       "<div>\n",
       "<style scoped>\n",
       "    .dataframe tbody tr th:only-of-type {\n",
       "        vertical-align: middle;\n",
       "    }\n",
       "\n",
       "    .dataframe tbody tr th {\n",
       "        vertical-align: top;\n",
       "    }\n",
       "\n",
       "    .dataframe thead th {\n",
       "        text-align: right;\n",
       "    }\n",
       "</style>\n",
       "<table border=\"1\" class=\"dataframe\">\n",
       "  <thead>\n",
       "    <tr style=\"text-align: right;\">\n",
       "      <th></th>\n",
       "      <th>customer_id</th>\n",
       "      <th>invoice_id</th>\n",
       "      <th>subscription_type</th>\n",
       "      <th>amount</th>\n",
       "    </tr>\n",
       "    <tr>\n",
       "      <th>month_invoiced</th>\n",
       "      <th></th>\n",
       "      <th></th>\n",
       "      <th></th>\n",
       "      <th></th>\n",
       "    </tr>\n",
       "  </thead>\n",
       "  <tbody>\n",
       "    <tr>\n",
       "      <th>2014-01-31</th>\n",
       "      <td>20199990000</td>\n",
       "      <td>100199990000</td>\n",
       "      <td>7170.0</td>\n",
       "      <td>35850.0</td>\n",
       "    </tr>\n",
       "    <tr>\n",
       "      <th>2014-02-28</th>\n",
       "      <td>20000052061</td>\n",
       "      <td>99592010100</td>\n",
       "      <td>7438.0</td>\n",
       "      <td>37190.0</td>\n",
       "    </tr>\n",
       "    <tr>\n",
       "      <th>2014-03-31</th>\n",
       "      <td>19799172212</td>\n",
       "      <td>98967090801</td>\n",
       "      <td>7659.0</td>\n",
       "      <td>38295.0</td>\n",
       "    </tr>\n",
       "    <tr>\n",
       "      <th>2014-04-30</th>\n",
       "      <td>19613251862</td>\n",
       "      <td>98406535365</td>\n",
       "      <td>7851.0</td>\n",
       "      <td>39255.0</td>\n",
       "    </tr>\n",
       "    <tr>\n",
       "      <th>2014-05-31</th>\n",
       "      <td>19421255289</td>\n",
       "      <td>97804559262</td>\n",
       "      <td>8071.0</td>\n",
       "      <td>40355.0</td>\n",
       "    </tr>\n",
       "    <tr>\n",
       "      <th>2014-06-30</th>\n",
       "      <td>19238538842</td>\n",
       "      <td>97237565457</td>\n",
       "      <td>8251.0</td>\n",
       "      <td>41255.0</td>\n",
       "    </tr>\n",
       "    <tr>\n",
       "      <th>2014-07-31</th>\n",
       "      <td>19051670683</td>\n",
       "      <td>96639576096</td>\n",
       "      <td>8434.0</td>\n",
       "      <td>42170.0</td>\n",
       "    </tr>\n",
       "    <tr>\n",
       "      <th>2014-08-31</th>\n",
       "      <td>18873025377</td>\n",
       "      <td>96072248040</td>\n",
       "      <td>8642.0</td>\n",
       "      <td>43210.0</td>\n",
       "    </tr>\n",
       "    <tr>\n",
       "      <th>2014-09-30</th>\n",
       "      <td>18695106282</td>\n",
       "      <td>95500066207</td>\n",
       "      <td>8815.0</td>\n",
       "      <td>44075.0</td>\n",
       "    </tr>\n",
       "    <tr>\n",
       "      <th>2014-10-31</th>\n",
       "      <td>18514309921</td>\n",
       "      <td>94902434372</td>\n",
       "      <td>8976.0</td>\n",
       "      <td>44880.0</td>\n",
       "    </tr>\n",
       "    <tr>\n",
       "      <th>2014-11-30</th>\n",
       "      <td>18346828951</td>\n",
       "      <td>94362582585</td>\n",
       "      <td>9109.0</td>\n",
       "      <td>45545.0</td>\n",
       "    </tr>\n",
       "    <tr>\n",
       "      <th>2014-12-31</th>\n",
       "      <td>18198514412</td>\n",
       "      <td>93912908826</td>\n",
       "      <td>9242.0</td>\n",
       "      <td>46210.0</td>\n",
       "    </tr>\n",
       "    <tr>\n",
       "      <th>2015-01-31</th>\n",
       "      <td>18031844959</td>\n",
       "      <td>93360774024</td>\n",
       "      <td>9389.0</td>\n",
       "      <td>46945.0</td>\n",
       "    </tr>\n",
       "    <tr>\n",
       "      <th>2015-02-28</th>\n",
       "      <td>17883615820</td>\n",
       "      <td>92894441640</td>\n",
       "      <td>9504.0</td>\n",
       "      <td>47520.0</td>\n",
       "    </tr>\n",
       "    <tr>\n",
       "      <th>2015-03-31</th>\n",
       "      <td>17734338621</td>\n",
       "      <td>92414925715</td>\n",
       "      <td>9605.0</td>\n",
       "      <td>48025.0</td>\n",
       "    </tr>\n",
       "    <tr>\n",
       "      <th>2015-04-30</th>\n",
       "      <td>17580553993</td>\n",
       "      <td>91906329456</td>\n",
       "      <td>9712.0</td>\n",
       "      <td>48560.0</td>\n",
       "    </tr>\n",
       "    <tr>\n",
       "      <th>2015-05-31</th>\n",
       "      <td>17430221951</td>\n",
       "      <td>91405651025</td>\n",
       "      <td>9805.0</td>\n",
       "      <td>49025.0</td>\n",
       "    </tr>\n",
       "    <tr>\n",
       "      <th>2015-06-30</th>\n",
       "      <td>17294778904</td>\n",
       "      <td>90977153614</td>\n",
       "      <td>9897.0</td>\n",
       "      <td>49485.0</td>\n",
       "    </tr>\n",
       "    <tr>\n",
       "      <th>2015-07-31</th>\n",
       "      <td>17157470319</td>\n",
       "      <td>90530985446</td>\n",
       "      <td>10021.0</td>\n",
       "      <td>50105.0</td>\n",
       "    </tr>\n",
       "    <tr>\n",
       "      <th>2015-08-31</th>\n",
       "      <td>17023990262</td>\n",
       "      <td>90099263710</td>\n",
       "      <td>10099.0</td>\n",
       "      <td>50495.0</td>\n",
       "    </tr>\n",
       "    <tr>\n",
       "      <th>2015-09-30</th>\n",
       "      <td>16878325806</td>\n",
       "      <td>89596188954</td>\n",
       "      <td>10197.0</td>\n",
       "      <td>50985.0</td>\n",
       "    </tr>\n",
       "    <tr>\n",
       "      <th>2015-10-31</th>\n",
       "      <td>16736799370</td>\n",
       "      <td>89107409246</td>\n",
       "      <td>10289.0</td>\n",
       "      <td>51445.0</td>\n",
       "    </tr>\n",
       "    <tr>\n",
       "      <th>2015-11-30</th>\n",
       "      <td>16595772166</td>\n",
       "      <td>88611588184</td>\n",
       "      <td>10252.0</td>\n",
       "      <td>51260.0</td>\n",
       "    </tr>\n",
       "    <tr>\n",
       "      <th>2015-12-31</th>\n",
       "      <td>16477700903</td>\n",
       "      <td>88233719546</td>\n",
       "      <td>10301.0</td>\n",
       "      <td>51505.0</td>\n",
       "    </tr>\n",
       "    <tr>\n",
       "      <th>2016-01-31</th>\n",
       "      <td>16352484087</td>\n",
       "      <td>87811906959</td>\n",
       "      <td>10391.0</td>\n",
       "      <td>51955.0</td>\n",
       "    </tr>\n",
       "    <tr>\n",
       "      <th>2016-02-29</th>\n",
       "      <td>16230363306</td>\n",
       "      <td>87400384855</td>\n",
       "      <td>10391.0</td>\n",
       "      <td>51955.0</td>\n",
       "    </tr>\n",
       "    <tr>\n",
       "      <th>2016-03-31</th>\n",
       "      <td>16107134469</td>\n",
       "      <td>86977471790</td>\n",
       "      <td>10400.0</td>\n",
       "      <td>52000.0</td>\n",
       "    </tr>\n",
       "    <tr>\n",
       "      <th>2016-04-30</th>\n",
       "      <td>15990024367</td>\n",
       "      <td>86581620126</td>\n",
       "      <td>10438.0</td>\n",
       "      <td>52190.0</td>\n",
       "    </tr>\n",
       "    <tr>\n",
       "      <th>2016-05-31</th>\n",
       "      <td>15899268139</td>\n",
       "      <td>86323479765</td>\n",
       "      <td>10465.0</td>\n",
       "      <td>52325.0</td>\n",
       "    </tr>\n",
       "    <tr>\n",
       "      <th>2016-06-30</th>\n",
       "      <td>15786094863</td>\n",
       "      <td>85939416487</td>\n",
       "      <td>10487.0</td>\n",
       "      <td>52435.0</td>\n",
       "    </tr>\n",
       "    <tr>\n",
       "      <th>2016-07-31</th>\n",
       "      <td>15676165058</td>\n",
       "      <td>85566655250</td>\n",
       "      <td>10539.0</td>\n",
       "      <td>52695.0</td>\n",
       "    </tr>\n",
       "    <tr>\n",
       "      <th>2016-08-31</th>\n",
       "      <td>15572096757</td>\n",
       "      <td>85222092600</td>\n",
       "      <td>10588.0</td>\n",
       "      <td>52940.0</td>\n",
       "    </tr>\n",
       "    <tr>\n",
       "      <th>2016-09-30</th>\n",
       "      <td>15458019466</td>\n",
       "      <td>84816962700</td>\n",
       "      <td>10595.0</td>\n",
       "      <td>52975.0</td>\n",
       "    </tr>\n",
       "    <tr>\n",
       "      <th>2016-10-31</th>\n",
       "      <td>15363158565</td>\n",
       "      <td>84512750268</td>\n",
       "      <td>10638.0</td>\n",
       "      <td>53190.0</td>\n",
       "    </tr>\n",
       "    <tr>\n",
       "      <th>2016-11-30</th>\n",
       "      <td>15269114685</td>\n",
       "      <td>84209779594</td>\n",
       "      <td>10675.0</td>\n",
       "      <td>53375.0</td>\n",
       "    </tr>\n",
       "    <tr>\n",
       "      <th>2016-12-31</th>\n",
       "      <td>15158997779</td>\n",
       "      <td>83812629131</td>\n",
       "      <td>10664.0</td>\n",
       "      <td>53320.0</td>\n",
       "    </tr>\n",
       "    <tr>\n",
       "      <th>2017-01-31</th>\n",
       "      <td>15061820113</td>\n",
       "      <td>83483733340</td>\n",
       "      <td>10679.0</td>\n",
       "      <td>53395.0</td>\n",
       "    </tr>\n",
       "    <tr>\n",
       "      <th>2017-02-28</th>\n",
       "      <td>14963781540</td>\n",
       "      <td>83144826839</td>\n",
       "      <td>10688.0</td>\n",
       "      <td>53440.0</td>\n",
       "    </tr>\n",
       "    <tr>\n",
       "      <th>2017-03-31</th>\n",
       "      <td>14888950475</td>\n",
       "      <td>82931777530</td>\n",
       "      <td>10696.0</td>\n",
       "      <td>53480.0</td>\n",
       "    </tr>\n",
       "    <tr>\n",
       "      <th>2017-04-30</th>\n",
       "      <td>14801144590</td>\n",
       "      <td>82641583640</td>\n",
       "      <td>10670.0</td>\n",
       "      <td>53350.0</td>\n",
       "    </tr>\n",
       "    <tr>\n",
       "      <th>2017-05-31</th>\n",
       "      <td>14701144969</td>\n",
       "      <td>82279200300</td>\n",
       "      <td>10668.0</td>\n",
       "      <td>53340.0</td>\n",
       "    </tr>\n",
       "    <tr>\n",
       "      <th>2017-06-30</th>\n",
       "      <td>14627547534</td>\n",
       "      <td>82060783200</td>\n",
       "      <td>10681.0</td>\n",
       "      <td>53405.0</td>\n",
       "    </tr>\n",
       "    <tr>\n",
       "      <th>2017-07-31</th>\n",
       "      <td>14540621396</td>\n",
       "      <td>81764763708</td>\n",
       "      <td>10736.0</td>\n",
       "      <td>53680.0</td>\n",
       "    </tr>\n",
       "    <tr>\n",
       "      <th>2017-08-31</th>\n",
       "      <td>14438425414</td>\n",
       "      <td>81378949938</td>\n",
       "      <td>10764.0</td>\n",
       "      <td>53820.0</td>\n",
       "    </tr>\n",
       "    <tr>\n",
       "      <th>2017-09-30</th>\n",
       "      <td>14361705193</td>\n",
       "      <td>81132458212</td>\n",
       "      <td>10785.0</td>\n",
       "      <td>53925.0</td>\n",
       "    </tr>\n",
       "    <tr>\n",
       "      <th>2017-10-31</th>\n",
       "      <td>14272654724</td>\n",
       "      <td>80813509058</td>\n",
       "      <td>10770.0</td>\n",
       "      <td>53850.0</td>\n",
       "    </tr>\n",
       "    <tr>\n",
       "      <th>2017-11-30</th>\n",
       "      <td>14218270764</td>\n",
       "      <td>80687170735</td>\n",
       "      <td>10772.0</td>\n",
       "      <td>53860.0</td>\n",
       "    </tr>\n",
       "    <tr>\n",
       "      <th>2017-12-31</th>\n",
       "      <td>14148715257</td>\n",
       "      <td>80471625957</td>\n",
       "      <td>10761.0</td>\n",
       "      <td>53805.0</td>\n",
       "    </tr>\n",
       "  </tbody>\n",
       "</table>\n",
       "</div>"
      ],
      "text/plain": [
       "                customer_id    invoice_id  subscription_type   amount\n",
       "month_invoiced                                                       \n",
       "2014-01-31      20199990000  100199990000             7170.0  35850.0\n",
       "2014-02-28      20000052061   99592010100             7438.0  37190.0\n",
       "2014-03-31      19799172212   98967090801             7659.0  38295.0\n",
       "2014-04-30      19613251862   98406535365             7851.0  39255.0\n",
       "2014-05-31      19421255289   97804559262             8071.0  40355.0\n",
       "2014-06-30      19238538842   97237565457             8251.0  41255.0\n",
       "2014-07-31      19051670683   96639576096             8434.0  42170.0\n",
       "2014-08-31      18873025377   96072248040             8642.0  43210.0\n",
       "2014-09-30      18695106282   95500066207             8815.0  44075.0\n",
       "2014-10-31      18514309921   94902434372             8976.0  44880.0\n",
       "2014-11-30      18346828951   94362582585             9109.0  45545.0\n",
       "2014-12-31      18198514412   93912908826             9242.0  46210.0\n",
       "2015-01-31      18031844959   93360774024             9389.0  46945.0\n",
       "2015-02-28      17883615820   92894441640             9504.0  47520.0\n",
       "2015-03-31      17734338621   92414925715             9605.0  48025.0\n",
       "2015-04-30      17580553993   91906329456             9712.0  48560.0\n",
       "2015-05-31      17430221951   91405651025             9805.0  49025.0\n",
       "2015-06-30      17294778904   90977153614             9897.0  49485.0\n",
       "2015-07-31      17157470319   90530985446            10021.0  50105.0\n",
       "2015-08-31      17023990262   90099263710            10099.0  50495.0\n",
       "2015-09-30      16878325806   89596188954            10197.0  50985.0\n",
       "2015-10-31      16736799370   89107409246            10289.0  51445.0\n",
       "2015-11-30      16595772166   88611588184            10252.0  51260.0\n",
       "2015-12-31      16477700903   88233719546            10301.0  51505.0\n",
       "2016-01-31      16352484087   87811906959            10391.0  51955.0\n",
       "2016-02-29      16230363306   87400384855            10391.0  51955.0\n",
       "2016-03-31      16107134469   86977471790            10400.0  52000.0\n",
       "2016-04-30      15990024367   86581620126            10438.0  52190.0\n",
       "2016-05-31      15899268139   86323479765            10465.0  52325.0\n",
       "2016-06-30      15786094863   85939416487            10487.0  52435.0\n",
       "2016-07-31      15676165058   85566655250            10539.0  52695.0\n",
       "2016-08-31      15572096757   85222092600            10588.0  52940.0\n",
       "2016-09-30      15458019466   84816962700            10595.0  52975.0\n",
       "2016-10-31      15363158565   84512750268            10638.0  53190.0\n",
       "2016-11-30      15269114685   84209779594            10675.0  53375.0\n",
       "2016-12-31      15158997779   83812629131            10664.0  53320.0\n",
       "2017-01-31      15061820113   83483733340            10679.0  53395.0\n",
       "2017-02-28      14963781540   83144826839            10688.0  53440.0\n",
       "2017-03-31      14888950475   82931777530            10696.0  53480.0\n",
       "2017-04-30      14801144590   82641583640            10670.0  53350.0\n",
       "2017-05-31      14701144969   82279200300            10668.0  53340.0\n",
       "2017-06-30      14627547534   82060783200            10681.0  53405.0\n",
       "2017-07-31      14540621396   81764763708            10736.0  53680.0\n",
       "2017-08-31      14438425414   81378949938            10764.0  53820.0\n",
       "2017-09-30      14361705193   81132458212            10785.0  53925.0\n",
       "2017-10-31      14272654724   80813509058            10770.0  53850.0\n",
       "2017-11-30      14218270764   80687170735            10772.0  53860.0\n",
       "2017-12-31      14148715257   80471625957            10761.0  53805.0"
      ]
     },
     "execution_count": 107,
     "metadata": {},
     "output_type": "execute_result"
    }
   ],
   "source": [
    "df.resample('M').sum()"
   ]
  },
  {
   "cell_type": "code",
   "execution_count": 111,
   "id": "750505a3-e0e7-47b7-bac7-7e766f5f39f5",
   "metadata": {},
   "outputs": [],
   "source": [
    "store = acquire.acquire_all()\n",
    "store = prepare.prepare_store(store)"
   ]
  },
  {
   "cell_type": "code",
   "execution_count": 116,
   "id": "82c1bf04-475d-473b-9783-8f2d539b5b2c",
   "metadata": {},
   "outputs": [
    {
     "data": {
      "text/plain": [
       "DatetimeIndex(['2013-01-01', '2013-01-01', '2013-01-01', '2013-01-01',\n",
       "               '2013-01-01', '2013-01-01', '2013-01-01', '2013-01-01',\n",
       "               '2013-01-01', '2013-01-01',\n",
       "               ...\n",
       "               '2017-12-31', '2017-12-31', '2017-12-31', '2017-12-31',\n",
       "               '2017-12-31', '2017-12-31', '2017-12-31', '2017-12-31',\n",
       "               '2017-12-31', '2017-12-31'],\n",
       "              dtype='datetime64[ns]', name='sale_date', length=913000, freq=None)"
      ]
     },
     "execution_count": 116,
     "metadata": {},
     "output_type": "execute_result"
    }
   ],
   "source": [
    "store.index"
   ]
  },
  {
   "cell_type": "code",
   "execution_count": null,
   "id": "40abc8c7-45ef-45de-8045-4813cec650d4",
   "metadata": {},
   "outputs": [],
   "source": []
  }
 ],
 "metadata": {
  "kernelspec": {
   "display_name": "Python 3.9.7 64-bit ('base': conda)",
   "language": "python",
   "name": "python397jvsc74a57bd038cca0c38332a56087b24af0bc80247f4fced29cb4f7f437d91dc159adec9c4e"
  },
  "language_info": {
   "codemirror_mode": {
    "name": "ipython",
    "version": 3
   },
   "file_extension": ".py",
   "mimetype": "text/x-python",
   "name": "python",
   "nbconvert_exporter": "python",
   "pygments_lexer": "ipython3",
   "version": "3.9.7"
  }
 },
 "nbformat": 4,
 "nbformat_minor": 5
}
