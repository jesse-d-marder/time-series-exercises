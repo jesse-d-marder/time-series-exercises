{
 "cells": [
  {
   "cell_type": "code",
   "execution_count": 1,
   "id": "35dc9fd4-3914-4017-ad46-5db994e5620c",
   "metadata": {},
   "outputs": [],
   "source": [
    "import warnings\n",
    "warnings.filterwarnings(\"ignore\")\n",
    "\n",
    "import numpy as np\n",
    "import pandas as pd\n",
    "\n",
    "from datetime import datetime\n",
    "from sklearn.metrics import mean_squared_error\n",
    "from math import sqrt\n",
    "\n",
    "import matplotlib.pyplot as plt\n",
    "import seaborn as sns\n",
    "from pandas.plotting import register_matplotlib_converters\n",
    "\n",
    "import statsmodels.api as sm\n",
    "from statsmodels.tsa.api import Holt\n",
    "\n",
    "import acquire\n",
    "import prepare"
   ]
  },
  {
   "cell_type": "code",
   "execution_count": 53,
   "id": "9d1a9fcc-0f71-4897-b597-38d7252bd4d7",
   "metadata": {},
   "outputs": [],
   "source": [
    "df = pd.read_csv('saas.csv')\n",
    "df.columns = [col.lower() for col in df.columns]"
   ]
  },
  {
   "cell_type": "code",
   "execution_count": 54,
   "id": "ca02d599-25e9-491b-8b76-cab483c2a2b6",
   "metadata": {},
   "outputs": [],
   "source": [
    "df.index = pd.to_datetime(df.month_invoiced)\n",
    "df = df.drop(columns=['month_invoiced'])"
   ]
  },
  {
   "cell_type": "code",
   "execution_count": 57,
   "id": "6c6fc2d0-1b42-4bcc-ab79-b02019b106b0",
   "metadata": {},
   "outputs": [],
   "source": [
    "# split into train, validation, test\n",
    "train = df.loc[:'2016-01-31']\n",
    "validate = df.loc['2016-01-31':'2017-01-31']\n",
    "test = df.loc['2017-01-31': ]"
   ]
  },
  {
   "cell_type": "code",
   "execution_count": 58,
   "id": "5efa5a9b-6bde-4671-a51f-8d7eed5918b7",
   "metadata": {},
   "outputs": [
    {
     "data": {
      "image/png": "[encoded data removed]",
      "text/plain": [
       "<Figure size 864x288 with 1 Axes>"
      ]
     },
     "metadata": {
      "needs_background": "light"
     },
     "output_type": "display_data"
    }
   ],
   "source": [
    "col = 'amount'\n",
    "resample_by = 'M'\n",
    "plt.figure(figsize=(12,4))\n",
    "train.resample(resample_by).sum().amount.plot()\n",
    "validate.resample(resample_by).sum().amount.plot()\n",
    "test.resample(resample_by).sum().amount.plot()\n",
    "plt.ylabel(col)\n",
    "plt.title(col)\n",
    "plt.show()\n"
   ]
  },
  {
   "cell_type": "code",
   "execution_count": 6,
   "id": "1c4278eb-7cf5-4173-bc89-452ef1050877",
   "metadata": {},
   "outputs": [],
   "source": [
    "train = train.resample('M').sum()\n",
    "validate = validate.resample('M').sum()\n",
    "test = test.resample('M').sum()"
   ]
  },
  {
   "cell_type": "code",
   "execution_count": 7,
   "id": "7b4d1596-32d3-43c0-981e-1e8c9bfc08fc",
   "metadata": {},
   "outputs": [],
   "source": [
    "# evaluation function to compute rmse\n",
    "def evaluate(target_var):\n",
    "    rmse = round(sqrt(mean_squared_error(validate[target_var], yhat_df[target_var])), 0)\n",
    "    return rmse\n",
    "# plot and evaluate \n",
    "def plot_and_eval(target_var):\n",
    "    plt.figure(figsize = (12,4))\n",
    "    plt.plot(train[target_var], label = 'Train', linewidth = 1)\n",
    "    plt.plot(validate[target_var], label = 'Validate', linewidth = 1)\n",
    "    plt.plot(yhat_df[target_var], label = 'Predicted')\n",
    "    plt.title(target_var)\n",
    "    plt.legend()\n",
    "    rmse = evaluate(target_var)\n",
    "    print(target_var, '-- RMSE: {:.0f}'.format(rmse))\n",
    "    plt.show()\n",
    "    \n",
    "# Create the empty dataframe\n",
    "eval_df = pd.DataFrame(columns=['model_type', 'target_var', 'rmse'])\n",
    "\n",
    "# function to store rmse for comparison purposes\n",
    "def append_eval_df(model_type, target_var):\n",
    "    rmse = evaluate(target_var)\n",
    "    d = {'model_type': [model_type], 'target_var': [target_var], 'rmse': [rmse]}\n",
    "    d = pd.DataFrame(d)\n",
    "    return eval_df.append(d, ignore_index = True)\n"
   ]
  },
  {
   "cell_type": "code",
   "execution_count": 8,
   "id": "29d1958f-b115-4be1-9963-ba053caf0525",
   "metadata": {},
   "outputs": [
    {
     "data": {
      "text/html": [
       "<div>\n",
       "<style scoped>\n",
       "    .dataframe tbody tr th:only-of-type {\n",
       "        vertical-align: middle;\n",
       "    }\n",
       "\n",
       "    .dataframe tbody tr th {\n",
       "        vertical-align: top;\n",
       "    }\n",
       "\n",
       "    .dataframe thead th {\n",
       "        text-align: right;\n",
       "    }\n",
       "</style>\n",
       "<table border=\"1\" class=\"dataframe\">\n",
       "  <thead>\n",
       "    <tr style=\"text-align: right;\">\n",
       "      <th></th>\n",
       "      <th>amount</th>\n",
       "    </tr>\n",
       "    <tr>\n",
       "      <th>month_invoiced</th>\n",
       "      <th></th>\n",
       "    </tr>\n",
       "  </thead>\n",
       "  <tbody>\n",
       "    <tr>\n",
       "      <th>2016-01-31</th>\n",
       "      <td>51955.0</td>\n",
       "    </tr>\n",
       "    <tr>\n",
       "      <th>2016-02-29</th>\n",
       "      <td>51955.0</td>\n",
       "    </tr>\n",
       "  </tbody>\n",
       "</table>\n",
       "</div>"
      ],
      "text/plain": [
       "                 amount\n",
       "month_invoiced         \n",
       "2016-01-31      51955.0\n",
       "2016-02-29      51955.0"
      ]
     },
     "execution_count": 8,
     "metadata": {},
     "output_type": "execute_result"
    }
   ],
   "source": [
    "amount = train.resample('M').amount.sum()[-1:][0]\n",
    "\n",
    "yhat_df = pd.DataFrame({'amount': [amount]}, \n",
    "                       index = validate.index)\n",
    "\n",
    "yhat_df.head(2)\n"
   ]
  },
  {
   "cell_type": "code",
   "execution_count": 9,
   "id": "7d240b04-2a42-4c4d-b53b-34b12d2aff53",
   "metadata": {},
   "outputs": [
    {
     "name": "stdout",
     "output_type": "stream",
     "text": [
      "amount -- RMSE: 897\n"
     ]
    },
    {
     "data": {
      "image/png": "[encoded data removed]",
      "text/plain": [
       "<Figure size 864x288 with 1 Axes>"
      ]
     },
     "metadata": {
      "needs_background": "light"
     },
     "output_type": "display_data"
    }
   ],
   "source": [
    "plot_and_eval('amount')"
   ]
  },
  {
   "cell_type": "code",
   "execution_count": 10,
   "id": "e0c6e714-7177-4ea8-9495-462726bb66b6",
   "metadata": {},
   "outputs": [],
   "source": [
    "eval_df = append_eval_df(model_type='last_observed_value', target_var = 'amount')"
   ]
  },
  {
   "cell_type": "code",
   "execution_count": 11,
   "id": "d7a5f77b-782d-425d-8749-97b2d41c544f",
   "metadata": {},
   "outputs": [
    {
     "data": {
      "text/html": [
       "<div>\n",
       "<style scoped>\n",
       "    .dataframe tbody tr th:only-of-type {\n",
       "        vertical-align: middle;\n",
       "    }\n",
       "\n",
       "    .dataframe tbody tr th {\n",
       "        vertical-align: top;\n",
       "    }\n",
       "\n",
       "    .dataframe thead th {\n",
       "        text-align: right;\n",
       "    }\n",
       "</style>\n",
       "<table border=\"1\" class=\"dataframe\">\n",
       "  <thead>\n",
       "    <tr style=\"text-align: right;\">\n",
       "      <th></th>\n",
       "      <th>model_type</th>\n",
       "      <th>target_var</th>\n",
       "      <th>rmse</th>\n",
       "    </tr>\n",
       "  </thead>\n",
       "  <tbody>\n",
       "    <tr>\n",
       "      <th>0</th>\n",
       "      <td>last_observed_value</td>\n",
       "      <td>amount</td>\n",
       "      <td>897.0</td>\n",
       "    </tr>\n",
       "  </tbody>\n",
       "</table>\n",
       "</div>"
      ],
      "text/plain": [
       "            model_type target_var   rmse\n",
       "0  last_observed_value     amount  897.0"
      ]
     },
     "execution_count": 11,
     "metadata": {},
     "output_type": "execute_result"
    }
   ],
   "source": [
    "eval_df"
   ]
  },
  {
   "cell_type": "markdown",
   "id": "7f774ade-2c2e-4233-9256-01b7025bd1cc",
   "metadata": {},
   "source": [
    "Simple average"
   ]
  },
  {
   "cell_type": "code",
   "execution_count": 12,
   "id": "0a342459-5193-483c-9113-96e1401a7ccc",
   "metadata": {},
   "outputs": [
    {
     "data": {
      "text/html": [
       "<div>\n",
       "<style scoped>\n",
       "    .dataframe tbody tr th:only-of-type {\n",
       "        vertical-align: middle;\n",
       "    }\n",
       "\n",
       "    .dataframe tbody tr th {\n",
       "        vertical-align: top;\n",
       "    }\n",
       "\n",
       "    .dataframe thead th {\n",
       "        text-align: right;\n",
       "    }\n",
       "</style>\n",
       "<table border=\"1\" class=\"dataframe\">\n",
       "  <thead>\n",
       "    <tr style=\"text-align: right;\">\n",
       "      <th></th>\n",
       "      <th>amount</th>\n",
       "    </tr>\n",
       "    <tr>\n",
       "      <th>month_invoiced</th>\n",
       "      <th></th>\n",
       "    </tr>\n",
       "  </thead>\n",
       "  <tbody>\n",
       "    <tr>\n",
       "      <th>2016-01-31</th>\n",
       "      <td>45824.0</td>\n",
       "    </tr>\n",
       "    <tr>\n",
       "      <th>2016-02-29</th>\n",
       "      <td>45824.0</td>\n",
       "    </tr>\n",
       "  </tbody>\n",
       "</table>\n",
       "</div>"
      ],
      "text/plain": [
       "                 amount\n",
       "month_invoiced         \n",
       "2016-01-31      45824.0\n",
       "2016-02-29      45824.0"
      ]
     },
     "execution_count": 12,
     "metadata": {},
     "output_type": "execute_result"
    }
   ],
   "source": [
    "amount = train.resample('M').amount.sum().mean()\n",
    "\n",
    "yhat_df = pd.DataFrame({'amount': [amount]}, \n",
    "                       index = validate.index)\n",
    "\n",
    "yhat_df.head(2)"
   ]
  },
  {
   "cell_type": "code",
   "execution_count": 13,
   "id": "6a00083f-3457-410d-a878-836d7b07f0ee",
   "metadata": {},
   "outputs": [
    {
     "name": "stdout",
     "output_type": "stream",
     "text": [
      "amount -- RMSE: 6870\n"
     ]
    },
    {
     "data": {
      "image/png": "[encoded data removed]",
      "text/plain": [
       "<Figure size 864x288 with 1 Axes>"
      ]
     },
     "metadata": {
      "needs_background": "light"
     },
     "output_type": "display_data"
    }
   ],
   "source": [
    "plot_and_eval('amount')"
   ]
  },
  {
   "cell_type": "code",
   "execution_count": 14,
   "id": "78481369-5d26-40ee-ab0d-ac0926c3bf48",
   "metadata": {},
   "outputs": [],
   "source": [
    "eval_df = append_eval_df(model_type='simple_average', \n",
    "                             target_var = col)"
   ]
  },
  {
   "cell_type": "code",
   "execution_count": 15,
   "id": "81745c5d-f427-4fc4-9d35-cd602f66d148",
   "metadata": {},
   "outputs": [
    {
     "data": {
      "text/html": [
       "<div>\n",
       "<style scoped>\n",
       "    .dataframe tbody tr th:only-of-type {\n",
       "        vertical-align: middle;\n",
       "    }\n",
       "\n",
       "    .dataframe tbody tr th {\n",
       "        vertical-align: top;\n",
       "    }\n",
       "\n",
       "    .dataframe thead th {\n",
       "        text-align: right;\n",
       "    }\n",
       "</style>\n",
       "<table border=\"1\" class=\"dataframe\">\n",
       "  <thead>\n",
       "    <tr style=\"text-align: right;\">\n",
       "      <th></th>\n",
       "      <th>model_type</th>\n",
       "      <th>target_var</th>\n",
       "      <th>rmse</th>\n",
       "    </tr>\n",
       "  </thead>\n",
       "  <tbody>\n",
       "    <tr>\n",
       "      <th>0</th>\n",
       "      <td>last_observed_value</td>\n",
       "      <td>amount</td>\n",
       "      <td>897.0</td>\n",
       "    </tr>\n",
       "    <tr>\n",
       "      <th>1</th>\n",
       "      <td>simple_average</td>\n",
       "      <td>amount</td>\n",
       "      <td>6870.0</td>\n",
       "    </tr>\n",
       "  </tbody>\n",
       "</table>\n",
       "</div>"
      ],
      "text/plain": [
       "            model_type target_var    rmse\n",
       "0  last_observed_value     amount   897.0\n",
       "1       simple_average     amount  6870.0"
      ]
     },
     "execution_count": 15,
     "metadata": {},
     "output_type": "execute_result"
    }
   ],
   "source": [
    "eval_df"
   ]
  },
  {
   "cell_type": "code",
   "execution_count": 16,
   "id": "d0ade3b1-7d03-45ed-b7c4-d934afaaafb3",
   "metadata": {},
   "outputs": [
    {
     "data": {
      "text/html": [
       "<div>\n",
       "<style scoped>\n",
       "    .dataframe tbody tr th:only-of-type {\n",
       "        vertical-align: middle;\n",
       "    }\n",
       "\n",
       "    .dataframe tbody tr th {\n",
       "        vertical-align: top;\n",
       "    }\n",
       "\n",
       "    .dataframe thead th {\n",
       "        text-align: right;\n",
       "    }\n",
       "</style>\n",
       "<table border=\"1\" class=\"dataframe\">\n",
       "  <thead>\n",
       "    <tr style=\"text-align: right;\">\n",
       "      <th></th>\n",
       "      <th>amount</th>\n",
       "    </tr>\n",
       "    <tr>\n",
       "      <th>month_invoiced</th>\n",
       "      <th></th>\n",
       "    </tr>\n",
       "  </thead>\n",
       "  <tbody>\n",
       "    <tr>\n",
       "      <th>2016-01-31</th>\n",
       "      <td>50482.0</td>\n",
       "    </tr>\n",
       "    <tr>\n",
       "      <th>2016-02-29</th>\n",
       "      <td>50482.0</td>\n",
       "    </tr>\n",
       "  </tbody>\n",
       "</table>\n",
       "</div>"
      ],
      "text/plain": [
       "                 amount\n",
       "month_invoiced         \n",
       "2016-01-31      50482.0\n",
       "2016-02-29      50482.0"
      ]
     },
     "execution_count": 16,
     "metadata": {},
     "output_type": "execute_result"
    }
   ],
   "source": [
    "# compute a 30 day rolling average, \n",
    "# use the most recent/last 30 day period value to predict forward. \n",
    "\n",
    "period = 10\n",
    "\n",
    "amount = round(train.resample('M').amount.sum().rolling(period).mean().iloc[-1], 2)\n",
    "\n",
    "# yhat_df = make_predictions()\n",
    "\n",
    "yhat_df = pd.DataFrame({'amount': [amount],\n",
    "                           }, index = validate.index)\n",
    "yhat_df.head(2)"
   ]
  },
  {
   "cell_type": "code",
   "execution_count": 17,
   "id": "906794ba-2b7e-4e27-9e2c-dba65ea258f3",
   "metadata": {},
   "outputs": [
    {
     "name": "stdout",
     "output_type": "stream",
     "text": [
      "amount -- RMSE: 2256\n"
     ]
    },
    {
     "data": {
      "image/png": "[encoded data removed]",
      "text/plain": [
       "<Figure size 864x288 with 1 Axes>"
      ]
     },
     "metadata": {
      "needs_background": "light"
     },
     "output_type": "display_data"
    }
   ],
   "source": [
    "plot_and_eval('amount')"
   ]
  },
  {
   "cell_type": "code",
   "execution_count": 18,
   "id": "0cb206c4-8bb4-4d01-a57e-3d28690ddc1a",
   "metadata": {},
   "outputs": [
    {
     "data": {
      "text/html": [
       "<div>\n",
       "<style scoped>\n",
       "    .dataframe tbody tr th:only-of-type {\n",
       "        vertical-align: middle;\n",
       "    }\n",
       "\n",
       "    .dataframe tbody tr th {\n",
       "        vertical-align: top;\n",
       "    }\n",
       "\n",
       "    .dataframe thead th {\n",
       "        text-align: right;\n",
       "    }\n",
       "</style>\n",
       "<table border=\"1\" class=\"dataframe\">\n",
       "  <thead>\n",
       "    <tr style=\"text-align: right;\">\n",
       "      <th></th>\n",
       "      <th>model_type</th>\n",
       "      <th>target_var</th>\n",
       "      <th>rmse</th>\n",
       "    </tr>\n",
       "  </thead>\n",
       "  <tbody>\n",
       "    <tr>\n",
       "      <th>0</th>\n",
       "      <td>last_observed_value</td>\n",
       "      <td>amount</td>\n",
       "      <td>897.0</td>\n",
       "    </tr>\n",
       "    <tr>\n",
       "      <th>1</th>\n",
       "      <td>simple_average</td>\n",
       "      <td>amount</td>\n",
       "      <td>6870.0</td>\n",
       "    </tr>\n",
       "    <tr>\n",
       "      <th>2</th>\n",
       "      <td>10M moving average</td>\n",
       "      <td>amount</td>\n",
       "      <td>2256.0</td>\n",
       "    </tr>\n",
       "  </tbody>\n",
       "</table>\n",
       "</div>"
      ],
      "text/plain": [
       "            model_type target_var    rmse\n",
       "0  last_observed_value     amount   897.0\n",
       "1       simple_average     amount  6870.0\n",
       "2   10M moving average     amount  2256.0"
      ]
     },
     "execution_count": 18,
     "metadata": {},
     "output_type": "execute_result"
    }
   ],
   "source": [
    "append_eval_df(model_type='10M moving average',target_var='amount')"
   ]
  },
  {
   "cell_type": "code",
   "execution_count": 19,
   "id": "19d4e546-23aa-45b0-8700-e4b893c491e0",
   "metadata": {},
   "outputs": [],
   "source": [
    "periods = range(1,12)\n",
    "\n",
    "for p in periods:\n",
    "    \n",
    "\n",
    "    amount = round(train.resample('M').amount.sum().rolling(p).mean().iloc[-1], 2)\n",
    "\n",
    "    # yhat_df = make_predictions()\n",
    "\n",
    "    yhat_df = pd.DataFrame({'amount': [amount],\n",
    "                               }, index = validate.index)\n",
    "\n",
    "    model_type = str(p) + 'M moving average'\n",
    "    eval_df = append_eval_df(model_type = model_type,\n",
    "                             target_var = 'amount'\n",
    "                            )\n"
   ]
  },
  {
   "cell_type": "code",
   "execution_count": 20,
   "id": "b95f60c6-baae-4ac9-b7e6-525f42b7cba6",
   "metadata": {},
   "outputs": [
    {
     "data": {
      "image/png": "[encoded data removed]",
      "text/plain": [
       "<Figure size 432x288 with 4 Axes>"
      ]
     },
     "metadata": {
      "needs_background": "light"
     },
     "output_type": "display_data"
    }
   ],
   "source": [
    "sm.tsa.seasonal_decompose(train.amount).plot()\n",
    "None"
   ]
  },
  {
   "cell_type": "code",
   "execution_count": 21,
   "id": "6b561911-efde-49fd-9f4c-0337c428bb41",
   "metadata": {},
   "outputs": [],
   "source": [
    "\n",
    "model = Holt(train.amount, exponential = False, damped=True)\n",
    "model = model.fit(optimized = True)\n",
    "yhat_items = model.predict(start = validate.index[0], \n",
    "                           end = validate.index[-1])\n",
    "yhat_df['amount'] = round(yhat_items, 2)\n"
   ]
  },
  {
   "cell_type": "code",
   "execution_count": 22,
   "id": "e48df4e2-2b69-4097-8f75-27ac7e553668",
   "metadata": {},
   "outputs": [
    {
     "name": "stdout",
     "output_type": "stream",
     "text": [
      "amount -- RMSE: 553\n"
     ]
    },
    {
     "data": {
      "image/png": "[encoded data removed]",
      "text/plain": [
       "<Figure size 864x288 with 1 Axes>"
      ]
     },
     "metadata": {
      "needs_background": "light"
     },
     "output_type": "display_data"
    }
   ],
   "source": [
    "plot_and_eval('amount')"
   ]
  },
  {
   "cell_type": "code",
   "execution_count": 23,
   "id": "8d7805c9-1b4b-4eef-b9ba-f0742191ee8d",
   "metadata": {},
   "outputs": [],
   "source": [
    "eval_df=append_eval_df(model_type='Holts', target_var='amount')"
   ]
  },
  {
   "cell_type": "code",
   "execution_count": 25,
   "id": "c0e86d71-fe2e-4fbe-8380-41f7a2fe4749",
   "metadata": {},
   "outputs": [],
   "source": [
    "train_h = train\n",
    "validate_h = validate\n",
    "test_h = test"
   ]
  },
  {
   "cell_type": "markdown",
   "id": "3ebcb1e8-1f07-4f38-b6d1-6e3ef2447b37",
   "metadata": {},
   "source": [
    "Use previous cycle"
   ]
  },
  {
   "cell_type": "code",
   "execution_count": 26,
   "id": "35c4c3f6-759b-4a95-ae28-b987fa58740a",
   "metadata": {},
   "outputs": [],
   "source": [
    "train = df[:'2015']\n",
    "validate = df['2016']\n",
    "test = df['2017']"
   ]
  },
  {
   "cell_type": "code",
   "execution_count": 27,
   "id": "c5def577-1d6b-4ca5-a734-4d511c9560ec",
   "metadata": {},
   "outputs": [],
   "source": [
    "train = train.resample('M').sum()\n",
    "validate = validate.resample('M').sum()\n",
    "test = test.resample('M').sum()"
   ]
  },
  {
   "cell_type": "code",
   "execution_count": 28,
   "id": "a949a487-831c-4b4d-8063-c423c0f90d33",
   "metadata": {},
   "outputs": [],
   "source": [
    "yhat_df = train['2015'] + train.diff(12).mean()"
   ]
  },
  {
   "cell_type": "code",
   "execution_count": 29,
   "id": "6ff71eb6-b3d4-4826-a508-105f1d1686c8",
   "metadata": {},
   "outputs": [
    {
     "data": {
      "text/html": [
       "<div>\n",
       "<style scoped>\n",
       "    .dataframe tbody tr th:only-of-type {\n",
       "        vertical-align: middle;\n",
       "    }\n",
       "\n",
       "    .dataframe tbody tr th {\n",
       "        vertical-align: top;\n",
       "    }\n",
       "\n",
       "    .dataframe thead th {\n",
       "        text-align: right;\n",
       "    }\n",
       "</style>\n",
       "<table border=\"1\" class=\"dataframe\">\n",
       "  <thead>\n",
       "    <tr style=\"text-align: right;\">\n",
       "      <th></th>\n",
       "      <th>customer_id</th>\n",
       "      <th>invoice_id</th>\n",
       "      <th>subscription_type</th>\n",
       "      <th>amount</th>\n",
       "    </tr>\n",
       "    <tr>\n",
       "      <th>month_invoiced</th>\n",
       "      <th></th>\n",
       "      <th></th>\n",
       "      <th></th>\n",
       "      <th></th>\n",
       "    </tr>\n",
       "  </thead>\n",
       "  <tbody>\n",
       "    <tr>\n",
       "      <th>2015-01-31</th>\n",
       "      <td>1.610465e+10</td>\n",
       "      <td>8.715585e+10</td>\n",
       "      <td>11006.75</td>\n",
       "      <td>55033.75</td>\n",
       "    </tr>\n",
       "    <tr>\n",
       "      <th>2015-02-28</th>\n",
       "      <td>1.595642e+10</td>\n",
       "      <td>8.668951e+10</td>\n",
       "      <td>11121.75</td>\n",
       "      <td>55608.75</td>\n",
       "    </tr>\n",
       "    <tr>\n",
       "      <th>2015-03-31</th>\n",
       "      <td>1.580715e+10</td>\n",
       "      <td>8.621000e+10</td>\n",
       "      <td>11222.75</td>\n",
       "      <td>56113.75</td>\n",
       "    </tr>\n",
       "    <tr>\n",
       "      <th>2015-04-30</th>\n",
       "      <td>1.565336e+10</td>\n",
       "      <td>8.570140e+10</td>\n",
       "      <td>11329.75</td>\n",
       "      <td>56648.75</td>\n",
       "    </tr>\n",
       "    <tr>\n",
       "      <th>2015-05-31</th>\n",
       "      <td>1.550303e+10</td>\n",
       "      <td>8.520072e+10</td>\n",
       "      <td>11422.75</td>\n",
       "      <td>57113.75</td>\n",
       "    </tr>\n",
       "    <tr>\n",
       "      <th>2015-06-30</th>\n",
       "      <td>1.536759e+10</td>\n",
       "      <td>8.477223e+10</td>\n",
       "      <td>11514.75</td>\n",
       "      <td>57573.75</td>\n",
       "    </tr>\n",
       "    <tr>\n",
       "      <th>2015-07-31</th>\n",
       "      <td>1.523028e+10</td>\n",
       "      <td>8.432606e+10</td>\n",
       "      <td>11638.75</td>\n",
       "      <td>58193.75</td>\n",
       "    </tr>\n",
       "    <tr>\n",
       "      <th>2015-08-31</th>\n",
       "      <td>1.509680e+10</td>\n",
       "      <td>8.389434e+10</td>\n",
       "      <td>11716.75</td>\n",
       "      <td>58583.75</td>\n",
       "    </tr>\n",
       "    <tr>\n",
       "      <th>2015-09-30</th>\n",
       "      <td>1.495113e+10</td>\n",
       "      <td>8.339126e+10</td>\n",
       "      <td>11814.75</td>\n",
       "      <td>59073.75</td>\n",
       "    </tr>\n",
       "    <tr>\n",
       "      <th>2015-10-31</th>\n",
       "      <td>1.480961e+10</td>\n",
       "      <td>8.290248e+10</td>\n",
       "      <td>11906.75</td>\n",
       "      <td>59533.75</td>\n",
       "    </tr>\n",
       "    <tr>\n",
       "      <th>2015-11-30</th>\n",
       "      <td>1.466858e+10</td>\n",
       "      <td>8.240666e+10</td>\n",
       "      <td>11869.75</td>\n",
       "      <td>59348.75</td>\n",
       "    </tr>\n",
       "    <tr>\n",
       "      <th>2015-12-31</th>\n",
       "      <td>1.455051e+10</td>\n",
       "      <td>8.202879e+10</td>\n",
       "      <td>11918.75</td>\n",
       "      <td>59593.75</td>\n",
       "    </tr>\n",
       "  </tbody>\n",
       "</table>\n",
       "</div>"
      ],
      "text/plain": [
       "                 customer_id    invoice_id  subscription_type    amount\n",
       "month_invoiced                                                         \n",
       "2015-01-31      1.610465e+10  8.715585e+10           11006.75  55033.75\n",
       "2015-02-28      1.595642e+10  8.668951e+10           11121.75  55608.75\n",
       "2015-03-31      1.580715e+10  8.621000e+10           11222.75  56113.75\n",
       "2015-04-30      1.565336e+10  8.570140e+10           11329.75  56648.75\n",
       "2015-05-31      1.550303e+10  8.520072e+10           11422.75  57113.75\n",
       "2015-06-30      1.536759e+10  8.477223e+10           11514.75  57573.75\n",
       "2015-07-31      1.523028e+10  8.432606e+10           11638.75  58193.75\n",
       "2015-08-31      1.509680e+10  8.389434e+10           11716.75  58583.75\n",
       "2015-09-30      1.495113e+10  8.339126e+10           11814.75  59073.75\n",
       "2015-10-31      1.480961e+10  8.290248e+10           11906.75  59533.75\n",
       "2015-11-30      1.466858e+10  8.240666e+10           11869.75  59348.75\n",
       "2015-12-31      1.455051e+10  8.202879e+10           11918.75  59593.75"
      ]
     },
     "execution_count": 29,
     "metadata": {},
     "output_type": "execute_result"
    }
   ],
   "source": [
    "yhat_df"
   ]
  },
  {
   "cell_type": "code",
   "execution_count": 30,
   "id": "2ccdb4a5-b846-4517-968c-3cbb73fe34dc",
   "metadata": {},
   "outputs": [
    {
     "data": {
      "text/html": [
       "<div>\n",
       "<style scoped>\n",
       "    .dataframe tbody tr th:only-of-type {\n",
       "        vertical-align: middle;\n",
       "    }\n",
       "\n",
       "    .dataframe tbody tr th {\n",
       "        vertical-align: top;\n",
       "    }\n",
       "\n",
       "    .dataframe thead th {\n",
       "        text-align: right;\n",
       "    }\n",
       "</style>\n",
       "<table border=\"1\" class=\"dataframe\">\n",
       "  <thead>\n",
       "    <tr style=\"text-align: right;\">\n",
       "      <th></th>\n",
       "      <th>customer_id</th>\n",
       "      <th>invoice_id</th>\n",
       "      <th>subscription_type</th>\n",
       "      <th>amount</th>\n",
       "    </tr>\n",
       "    <tr>\n",
       "      <th>month_invoiced</th>\n",
       "      <th></th>\n",
       "      <th></th>\n",
       "      <th></th>\n",
       "      <th></th>\n",
       "    </tr>\n",
       "  </thead>\n",
       "  <tbody>\n",
       "    <tr>\n",
       "      <th>2015-01-31</th>\n",
       "      <td>1.610465e+10</td>\n",
       "      <td>8.715585e+10</td>\n",
       "      <td>11006.75</td>\n",
       "      <td>55033.75</td>\n",
       "    </tr>\n",
       "    <tr>\n",
       "      <th>2016-01-31</th>\n",
       "      <td>1.635248e+10</td>\n",
       "      <td>8.781191e+10</td>\n",
       "      <td>10391.00</td>\n",
       "      <td>51955.00</td>\n",
       "    </tr>\n",
       "  </tbody>\n",
       "</table>\n",
       "</div>"
      ],
      "text/plain": [
       "                 customer_id    invoice_id  subscription_type    amount\n",
       "month_invoiced                                                         \n",
       "2015-01-31      1.610465e+10  8.715585e+10           11006.75  55033.75\n",
       "2016-01-31      1.635248e+10  8.781191e+10           10391.00  51955.00"
      ]
     },
     "execution_count": 30,
     "metadata": {},
     "output_type": "execute_result"
    }
   ],
   "source": [
    "pd.concat([yhat_df.head(1), validate.head(1)])"
   ]
  },
  {
   "cell_type": "code",
   "execution_count": 31,
   "id": "728c5f70-5c6d-4820-872a-652022f3808f",
   "metadata": {},
   "outputs": [],
   "source": [
    "yhat_df.index = validate.index"
   ]
  },
  {
   "cell_type": "code",
   "execution_count": 32,
   "id": "353550d1-67f1-4501-949b-bf438521549f",
   "metadata": {},
   "outputs": [],
   "source": [
    "yhat_df = pd.DataFrame(yhat_df)"
   ]
  },
  {
   "cell_type": "code",
   "execution_count": 33,
   "id": "1393e73d-d8b2-4af1-a864-49a12ec5fa57",
   "metadata": {},
   "outputs": [
    {
     "name": "stdout",
     "output_type": "stream",
     "text": [
      "amount -- RMSE: 5192\n"
     ]
    },
    {
     "data": {
      "image/png": "[encoded data removed]",
      "text/plain": [
       "<Figure size 864x288 with 1 Axes>"
      ]
     },
     "metadata": {
      "needs_background": "light"
     },
     "output_type": "display_data"
    }
   ],
   "source": [
    "plot_and_eval('amount')\n",
    "eval_df = append_eval_df(model_type='previous_year', target_var='amount')"
   ]
  },
  {
   "cell_type": "code",
   "execution_count": 34,
   "id": "c9c592d2-9053-4451-a2d7-f50bf9ff7693",
   "metadata": {},
   "outputs": [
    {
     "data": {
      "text/html": [
       "<div>\n",
       "<style scoped>\n",
       "    .dataframe tbody tr th:only-of-type {\n",
       "        vertical-align: middle;\n",
       "    }\n",
       "\n",
       "    .dataframe tbody tr th {\n",
       "        vertical-align: top;\n",
       "    }\n",
       "\n",
       "    .dataframe thead th {\n",
       "        text-align: right;\n",
       "    }\n",
       "</style>\n",
       "<table border=\"1\" class=\"dataframe\">\n",
       "  <thead>\n",
       "    <tr style=\"text-align: right;\">\n",
       "      <th></th>\n",
       "      <th>model_type</th>\n",
       "      <th>target_var</th>\n",
       "      <th>rmse</th>\n",
       "    </tr>\n",
       "  </thead>\n",
       "  <tbody>\n",
       "    <tr>\n",
       "      <th>13</th>\n",
       "      <td>Holts</td>\n",
       "      <td>amount</td>\n",
       "      <td>553.0</td>\n",
       "    </tr>\n",
       "  </tbody>\n",
       "</table>\n",
       "</div>"
      ],
      "text/plain": [
       "   model_type target_var   rmse\n",
       "13      Holts     amount  553.0"
      ]
     },
     "execution_count": 34,
     "metadata": {},
     "output_type": "execute_result"
    }
   ],
   "source": [
    "# get the min rmse for each variable\n",
    "\n",
    "min_rmse_amount = eval_df.groupby('target_var')['rmse'].min()[0]\n",
    "\n",
    "# filter only the rows that match those rmse to find out \n",
    "# which models are best thus far\n",
    "eval_df[((eval_df.rmse == min_rmse_amount)\n",
    "        )]\n"
   ]
  },
  {
   "cell_type": "code",
   "execution_count": 35,
   "id": "a6690093-1936-4b41-9839-5418d91bb7c3",
   "metadata": {},
   "outputs": [
    {
     "data": {
      "image/png": "[encoded data removed]",
      "text/plain": [
       "<Figure size 864x432 with 1 Axes>"
      ]
     },
     "metadata": {
      "needs_background": "light"
     },
     "output_type": "display_data"
    }
   ],
   "source": [
    "x = eval_df[eval_df.target_var == 'amount']['model_type']\n",
    "y = eval_df[eval_df.target_var == 'amount']['rmse']\n",
    "plt.figure(figsize=(12, 6))\n",
    "sns.barplot(x, y)\n",
    "plt.title(col)\n",
    "plt.ylabel('RMSE')\n",
    "plt.xticks(rotation=45)\n",
    "plt.show()"
   ]
  },
  {
   "cell_type": "markdown",
   "id": "0f648248-97d1-4f9a-94a5-e69a79d18dfe",
   "metadata": {},
   "source": [
    "## Predict using best model on TEST"
   ]
  },
  {
   "cell_type": "code",
   "execution_count": 39,
   "id": "2841df48-c744-4065-a793-14952e51b441",
   "metadata": {},
   "outputs": [],
   "source": [
    "\n",
    "model = Holt(train_h.amount, exponential = False, damped=True)\n",
    "model = model.fit(optimized = True)\n",
    "yhat_items = model.predict(start = validate_h.index[0], \n",
    "                           end = validate_h.index[-1])\n",
    "yhat_df['amount'] = round(yhat_items, 2)\n",
    "\n"
   ]
  },
  {
   "cell_type": "code",
   "execution_count": 40,
   "id": "43a60b7d-6d38-4739-872b-008be6b876d0",
   "metadata": {},
   "outputs": [],
   "source": [
    "yhat_test = model.predict(start = test.index[0],\n",
    "                          end = test.index[-1])"
   ]
  },
  {
   "cell_type": "code",
   "execution_count": 46,
   "id": "c46e76d2-7b55-41fe-8194-f775151b3824",
   "metadata": {},
   "outputs": [],
   "source": [
    "yhat_test_df = pd.DataFrame(yhat_test, columns = ['amount'])"
   ]
  },
  {
   "cell_type": "code",
   "execution_count": 52,
   "id": "6421e69f-c602-48f6-b122-2989ec50cb55",
   "metadata": {},
   "outputs": [
    {
     "name": "stdout",
     "output_type": "stream",
     "text": [
      "TEST SET amount -- RMSE: 1262\n"
     ]
    },
    {
     "data": {
      "image/png": "[encoded data removed]",
      "text/plain": [
       "<Figure size 864x288 with 1 Axes>"
      ]
     },
     "metadata": {
      "needs_background": "light"
     },
     "output_type": "display_data"
    }
   ],
   "source": [
    "target_var = 'amount'\n",
    "plt.figure(figsize = (12,4))\n",
    "plt.plot(train_h[target_var], label = 'Train', linewidth = 1)\n",
    "plt.plot(validate_h[target_var], label = 'Validate', linewidth = 1)\n",
    "plt.plot(yhat_df[target_var], label = 'Validate_Predicted')\n",
    "plt.plot(test_h[target_var], label = 'Test', linewidth = 1)\n",
    "plt.plot(yhat_test_df[target_var], label = 'Test_Predicted')\n",
    "plt.title(target_var)\n",
    "plt.legend()\n",
    "rmse = mean_squared_error(test_h[target_var],yhat_test_df[target_var], squared=False)\n",
    "print('TEST SET',target_var, '-- RMSE: {:.0f}'.format(rmse))\n",
    "plt.show()"
   ]
  },
  {
   "cell_type": "markdown",
   "id": "a9640294-ce8c-48bc-983f-ecfce7173594",
   "metadata": {},
   "source": [
    "## SVR Model"
   ]
  },
  {
   "cell_type": "code",
   "execution_count": 35,
   "id": "4c6176cb-e534-46d6-ac84-5fdcb6867091",
   "metadata": {},
   "outputs": [],
   "source": [
    "from sklearn import svm\n",
    "from sklearn import metrics"
   ]
  },
  {
   "cell_type": "code",
   "execution_count": 36,
   "id": "750505a3-e0e7-47b7-bac7-7e766f5f39f5",
   "metadata": {},
   "outputs": [],
   "source": [
    "store = acquire.acquire_all()\n",
    "store = prepare.prepare_store(store)"
   ]
  },
  {
   "cell_type": "code",
   "execution_count": 37,
   "id": "82c1bf04-475d-473b-9783-8f2d539b5b2c",
   "metadata": {},
   "outputs": [
    {
     "data": {
      "text/plain": [
       "DatetimeIndex(['2013-01-01', '2013-01-01', '2013-01-01', '2013-01-01',\n",
       "               '2013-01-01', '2013-01-01', '2013-01-01', '2013-01-01',\n",
       "               '2013-01-01', '2013-01-01',\n",
       "               ...\n",
       "               '2017-12-31', '2017-12-31', '2017-12-31', '2017-12-31',\n",
       "               '2017-12-31', '2017-12-31', '2017-12-31', '2017-12-31',\n",
       "               '2017-12-31', '2017-12-31'],\n",
       "              dtype='datetime64[ns]', name='sale_date', length=913000, freq=None)"
      ]
     },
     "execution_count": 37,
     "metadata": {},
     "output_type": "execute_result"
    }
   ],
   "source": [
    "store.index"
   ]
  },
  {
   "cell_type": "code",
   "execution_count": 38,
   "id": "40abc8c7-45ef-45de-8045-4813cec650d4",
   "metadata": {},
   "outputs": [],
   "source": [
    "daily_df = store.quantity.resample('D').agg('mean')"
   ]
  },
  {
   "cell_type": "code",
   "execution_count": 39,
   "id": "6f5b2417-3af4-44ad-a64e-6b8192589e74",
   "metadata": {},
   "outputs": [],
   "source": [
    "train = np.array(daily_df[:'2016'])\n",
    "test = np.array(daily_df['2017':])"
   ]
  },
  {
   "cell_type": "code",
   "execution_count": 40,
   "id": "75037ae7-b6a7-4a7c-8317-5f85ce3f0cdb",
   "metadata": {},
   "outputs": [],
   "source": [
    "def embed_data(x, steps):\n",
    "    n = len(x)\n",
    "    xout = np.zeros((n-steps, steps))\n",
    "    yout = x[steps:]\n",
    "    for i in np.arange(steps, n):\n",
    "        xout[i-steps] = x[i-steps:i]\n",
    "    return xout, yout\n"
   ]
  },
  {
   "cell_type": "code",
   "execution_count": 41,
   "id": "6f5e1a99-6822-4eb5-80a9-8f3c2d28ec67",
   "metadata": {},
   "outputs": [],
   "source": [
    "xtrain, ytrain = embed_data(train, 50)"
   ]
  },
  {
   "cell_type": "code",
   "execution_count": 42,
   "id": "933fed90-89f0-461b-b85b-be50c6829730",
   "metadata": {},
   "outputs": [],
   "source": [
    "xtest, ytest = embed_data(test, 50)"
   ]
  },
  {
   "cell_type": "code",
   "execution_count": 43,
   "id": "fa74b1c3-df92-49b9-b9fc-1557f173d68a",
   "metadata": {},
   "outputs": [],
   "source": [
    "m = svm.SVR(gamma = 0.1)\n",
    "m_fit = m.fit(xtrain,ytrain)"
   ]
  },
  {
   "cell_type": "code",
   "execution_count": 44,
   "id": "8f55089b-5a07-4008-b312-8739ce15a150",
   "metadata": {},
   "outputs": [],
   "source": [
    "y_pred = m_fit.predict(xtrain)"
   ]
  },
  {
   "cell_type": "code",
   "execution_count": 45,
   "id": "fa5a897c-27cd-498b-988f-df7308fd0d33",
   "metadata": {},
   "outputs": [],
   "source": [
    "mse = metrics.mean_squared_error(y_pred, ytrain, squared=False)"
   ]
  },
  {
   "cell_type": "code",
   "execution_count": 46,
   "id": "ea157b8c-5e2f-4b20-b55f-3f506427be4b",
   "metadata": {},
   "outputs": [
    {
     "name": "stdout",
     "output_type": "stream",
     "text": [
      "11.042692098498623\n"
     ]
    }
   ],
   "source": [
    "print(mse)"
   ]
  },
  {
   "cell_type": "code",
   "execution_count": 47,
   "id": "5d80be8a-9a97-4121-a3a2-8814c362c8a0",
   "metadata": {},
   "outputs": [
    {
     "data": {
      "text/plain": [
       "<matplotlib.legend.Legend at 0x7fe578c376a0>"
      ]
     },
     "execution_count": 47,
     "metadata": {},
     "output_type": "execute_result"
    },
    {
     "data": {
      "image/png": "[encoded data removed]",
      "text/plain": [
       "<Figure size 432x288 with 1 Axes>"
      ]
     },
     "metadata": {
      "needs_background": "light"
     },
     "output_type": "display_data"
    }
   ],
   "source": [
    "plt.plot(y_pred, 'b-', label = 'prediction')\n",
    "plt.plot(ytrain, 'r-', label = 'actual')\n",
    "plt.legend()"
   ]
  },
  {
   "cell_type": "code",
   "execution_count": 48,
   "id": "1f5c0215-dace-4acb-af53-e37b80bd582e",
   "metadata": {},
   "outputs": [
    {
     "data": {
      "text/plain": [
       "[<matplotlib.lines.Line2D at 0x7fe5886a27f0>]"
      ]
     },
     "execution_count": 48,
     "metadata": {},
     "output_type": "execute_result"
    },
    {
     "data": {
      "image/png": "[encoded data removed]",
      "text/plain": [
       "<Figure size 432x288 with 1 Axes>"
      ]
     },
     "metadata": {
      "needs_background": "light"
     },
     "output_type": "display_data"
    }
   ],
   "source": [
    "plt.plot(y_pred, ytrain, '.')"
   ]
  },
  {
   "cell_type": "code",
   "execution_count": 49,
   "id": "a63b1677-af33-4f6d-83a8-5207fe60a4e5",
   "metadata": {},
   "outputs": [],
   "source": [
    "y_test_pred = m_fit.predict(xtest)"
   ]
  },
  {
   "cell_type": "code",
   "execution_count": 50,
   "id": "f996f7a9-1abf-4647-8d1a-c78aaf31931f",
   "metadata": {},
   "outputs": [
    {
     "data": {
      "text/plain": [
       "15.839347691215357"
      ]
     },
     "execution_count": 50,
     "metadata": {},
     "output_type": "execute_result"
    }
   ],
   "source": [
    "metrics.mean_squared_error(y_test_pred, ytest, squared=False)"
   ]
  },
  {
   "cell_type": "code",
   "execution_count": 51,
   "id": "ca85cd18-6d31-4fc1-93ce-d6dca77103f9",
   "metadata": {},
   "outputs": [
    {
     "data": {
      "text/plain": [
       "<matplotlib.legend.Legend at 0x7fe58868b250>"
      ]
     },
     "execution_count": 51,
     "metadata": {},
     "output_type": "execute_result"
    },
    {
     "data": {
      "image/png": "[encoded data removed]",
      "text/plain": [
       "<Figure size 432x288 with 1 Axes>"
      ]
     },
     "metadata": {
      "needs_background": "light"
     },
     "output_type": "display_data"
    }
   ],
   "source": [
    "plt.plot(y_test_pred,'b-', label = 'prediction')\n",
    "plt.plot(ytest, 'r-', label = 'test')\n",
    "plt.legend()"
   ]
  },
  {
   "cell_type": "markdown",
   "id": "875a51b3-8716-40c7-890b-ba3adde1f81d",
   "metadata": {},
   "source": [
    "## SARIMA"
   ]
  },
  {
   "cell_type": "code",
   "execution_count": 52,
   "id": "6c6721a0-73dd-4ba9-a6d9-d55c0d249c2c",
   "metadata": {},
   "outputs": [],
   "source": [
    "from statsmodels.tsa.ar_model import AR\n",
    "from statsmodels.tsa.api import ExponentialSmoothing, SimpleExpSmoothing, Holt\n",
    "import itertools as it"
   ]
  },
  {
   "cell_type": "code",
   "execution_count": 53,
   "id": "d53633ee-034b-4fdb-80d5-19274e36ed0d",
   "metadata": {},
   "outputs": [],
   "source": [
    "train=store[:'2016'].quantity.resample('D').agg('mean')\n",
    "test=store['2017':].quantity.resample('D').agg('mean')"
   ]
  },
  {
   "cell_type": "code",
   "execution_count": 54,
   "id": "2014fda9-b17d-4295-976d-842dc383f9dc",
   "metadata": {},
   "outputs": [],
   "source": [
    "p=d=q = range(0,2)"
   ]
  },
  {
   "cell_type": "code",
   "execution_count": 55,
   "id": "a0908d6f-e590-4b9b-8f37-a5a6d8d6f2f7",
   "metadata": {},
   "outputs": [],
   "source": [
    "pdq = list(it.product(p,d,q))"
   ]
  },
  {
   "cell_type": "code",
   "execution_count": 56,
   "id": "c1003e61-9a6e-4ead-8473-35b0824e0494",
   "metadata": {},
   "outputs": [],
   "source": [
    "seasonal_pdq = [(x[0], x[1], x[2], 12) for x in list(it.product(p, d, q))]"
   ]
  },
  {
   "cell_type": "code",
   "execution_count": 57,
   "id": "e75f6a81-8230-4f7e-a2dc-831369cbe066",
   "metadata": {},
   "outputs": [
    {
     "data": {
      "text/plain": [
       "[(0, 0, 0, 12),\n",
       " (0, 0, 1, 12),\n",
       " (0, 1, 0, 12),\n",
       " (0, 1, 1, 12),\n",
       " (1, 0, 0, 12),\n",
       " (1, 0, 1, 12),\n",
       " (1, 1, 0, 12),\n",
       " (1, 1, 1, 12)]"
      ]
     },
     "execution_count": 57,
     "metadata": {},
     "output_type": "execute_result"
    }
   ],
   "source": [
    "seasonal_pdq"
   ]
  },
  {
   "cell_type": "code",
   "execution_count": 58,
   "id": "8417efbb-26b6-4995-8443-3a878e015b33",
   "metadata": {},
   "outputs": [
    {
     "name": "stderr",
     "output_type": "stream",
     "text": [
      " This problem is unconstrained.\n",
      " This problem is unconstrained.\n"
     ]
    },
    {
     "name": "stdout",
     "output_type": "stream",
     "text": [
      "RUNNING THE L-BFGS-B CODE\n",
      "\n",
      "           * * *\n",
      "\n",
      "Machine precision = 2.220D-16\n",
      " N =            1     M =           10\n",
      "\n",
      "At X0         0 variables are exactly at the bounds\n",
      "\n",
      "At iterate    0    f=  5.36813D+00    |proj g|=  9.50351D-06\n",
      "\n",
      "           * * *\n",
      "\n",
      "Tit   = total number of iterations\n",
      "Tnf   = total number of function evaluations\n",
      "Tnint = total number of segments explored during Cauchy searches\n",
      "Skip  = number of BFGS updates skipped\n",
      "Nact  = number of active bounds at final generalized Cauchy point\n",
      "Projg = norm of the final projected gradient\n",
      "F     = final function value\n",
      "\n",
      "           * * *\n",
      "\n",
      "   N    Tit     Tnf  Tnint  Skip  Nact     Projg        F\n",
      "    1      0      1      0     0     0   9.504D-06   5.368D+00\n",
      "  F =   5.3681347602096716     \n",
      "\n",
      "CONVERGENCE: NORM_OF_PROJECTED_GRADIENT_<=_PGTOL            \n",
      "ARIMA(0, 0, 0)x(0, 0, 0, 12)12 - AIC:15687.689769332661\n",
      "RUNNING THE L-BFGS-B CODE\n",
      "\n",
      "           * * *\n",
      "\n",
      "Machine precision = 2.220D-16\n",
      " N =            2     M =           10\n",
      "\n",
      "At X0         0 variables are exactly at the bounds\n",
      "\n",
      "At iterate    0    f=  5.02229D+00    |proj g|=  1.80252D-01\n",
      "\n",
      "At iterate    5    f=  4.99120D+00    |proj g|=  2.16793D-02\n",
      "\n",
      "At iterate   10    f=  4.92770D+00    |proj g|=  3.46770D-01\n",
      "\n",
      "At iterate   15    f=  4.73917D+00    |proj g|=  1.41785D-01\n",
      "\n",
      "At iterate   20    f=  4.73752D+00    |proj g|=  7.14095D-08\n",
      "\n",
      "           * * *\n",
      "\n",
      "Tit   = total number of iterations\n",
      "Tnf   = total number of function evaluations\n",
      "Tnint = total number of segments explored during Cauchy searches\n",
      "Skip  = number of BFGS updates skipped\n",
      "Nact  = number of active bounds at final generalized Cauchy point\n",
      "Projg = norm of the final projected gradient\n",
      "F     = final function value\n",
      "\n",
      "           * * *\n",
      "\n",
      "   N    Tit     Tnf  Tnint  Skip  Nact     Projg        F\n",
      "    2     20     29      1     0     0   7.141D-08   4.738D+00\n",
      "  F =   4.7375189527019721     \n",
      "\n",
      "CONVERGENCE: NORM_OF_PROJECTED_GRADIENT_<=_PGTOL            \n",
      "ARIMA(0, 0, 0)x(0, 0, 1, 12)12 - AIC:13847.030379795164\n",
      "RUNNING THE L-BFGS-B CODE\n",
      "\n",
      "           * * *\n",
      "\n",
      "Machine precision = 2.220D-16\n",
      " N =            1     M =           10\n",
      "\n",
      "At X0         0 variables are exactly at the bounds\n",
      "\n",
      "At iterate    0    f=  3.75628D+00    |proj g|=  7.97441D-04\n",
      "\n",
      "           * * *\n",
      "\n",
      "Tit   = total number of iterations\n",
      "Tnf   = total number of function evaluations\n",
      "Tnint = total number of segments explored during Cauchy searches\n",
      "Skip  = number of BFGS updates skipped\n",
      "Nact  = number of active bounds at final generalized Cauchy point\n",
      "Projg = norm of the final projected gradient\n",
      "F     = final function value\n",
      "\n",
      "           * * *\n",
      "\n",
      "   N    Tit     Tnf  Tnint  Skip  Nact     Projg        F\n",
      "    1      2      4      1     0     0   1.179D-07   3.756D+00\n",
      "  F =   3.7562622615826200     \n",
      "\n",
      "CONVERGENCE: NORM_OF_PROJECTED_GRADIENT_<=_PGTOL            \n",
      "ARIMA(0, 0, 0)x(0, 1, 0, 12)12 - AIC:10977.798328344415\n",
      "RUNNING THE L-BFGS-B CODE\n",
      "\n",
      "           * * *\n",
      "\n",
      "Machine precision = 2.220D-16\n",
      " N =            2     M =           10\n",
      "\n",
      "At X0         0 variables are exactly at the bounds\n",
      "\n",
      "At iterate    0    f=  3.66620D+00    |proj g|=  2.23577D-01\n"
     ]
    },
    {
     "name": "stderr",
     "output_type": "stream",
     "text": [
      " This problem is unconstrained.\n",
      " This problem is unconstrained.\n"
     ]
    },
    {
     "name": "stdout",
     "output_type": "stream",
     "text": [
      "\n",
      "At iterate    5    f=  3.61561D+00    |proj g|=  5.03450D-02\n",
      "\n",
      "           * * *\n",
      "\n",
      "Tit   = total number of iterations\n",
      "Tnf   = total number of function evaluations\n",
      "Tnint = total number of segments explored during Cauchy searches\n",
      "Skip  = number of BFGS updates skipped\n",
      "Nact  = number of active bounds at final generalized Cauchy point\n",
      "Projg = norm of the final projected gradient\n",
      "F     = final function value\n",
      "\n",
      "           * * *\n",
      "\n",
      "   N    Tit     Tnf  Tnint  Skip  Nact     Projg        F\n",
      "    2      9     13      1     0     0   8.610D-06   3.611D+00\n",
      "  F =   3.6105703313221031     \n",
      "\n",
      "CONVERGENCE: NORM_OF_PROJECTED_GRADIENT_<=_PGTOL            \n",
      "ARIMA(0, 0, 0)x(0, 1, 1, 12)12 - AIC:10554.086508123186\n",
      "RUNNING THE L-BFGS-B CODE\n",
      "\n",
      "           * * *\n",
      "\n",
      "Machine precision = 2.220D-16\n",
      " N =            2     M =           10\n",
      "\n",
      "At X0         0 variables are exactly at the bounds\n",
      "\n",
      "At iterate    0    f=  3.75416D+00    |proj g|=  1.18688D-04\n"
     ]
    },
    {
     "name": "stderr",
     "output_type": "stream",
     "text": [
      " This problem is unconstrained.\n",
      "\n",
      " Warning:  more than 10 function and gradient\n",
      "   evaluations in the last line search.  Termination\n",
      "   may possibly be caused by a bad search direction.\n",
      " This problem is unconstrained.\n"
     ]
    },
    {
     "name": "stdout",
     "output_type": "stream",
     "text": [
      "\n",
      "           * * *\n",
      "\n",
      "Tit   = total number of iterations\n",
      "Tnf   = total number of function evaluations\n",
      "Tnint = total number of segments explored during Cauchy searches\n",
      "Skip  = number of BFGS updates skipped\n",
      "Nact  = number of active bounds at final generalized Cauchy point\n",
      "Projg = norm of the final projected gradient\n",
      "F     = final function value\n",
      "\n",
      "           * * *\n",
      "\n",
      "   N    Tit     Tnf  Tnint  Skip  Nact     Projg        F\n",
      "    2      1     16      1     0     0   1.186D-04   3.754D+00\n",
      "  F =   3.7541561103381920     \n",
      "\n",
      "CONVERGENCE: REL_REDUCTION_OF_F_<=_FACTR*EPSMCH             \n",
      "ARIMA(0, 0, 0)x(1, 0, 0, 12)12 - AIC:10973.644154408197\n",
      "RUNNING THE L-BFGS-B CODE\n",
      "\n",
      "           * * *\n",
      "\n",
      "Machine precision = 2.220D-16\n",
      " N =            3     M =           10\n",
      "\n",
      "At X0         0 variables are exactly at the bounds\n",
      "\n",
      "At iterate    0    f=  3.68129D+00    |proj g|=  5.71329D-01\n",
      "\n",
      "At iterate    5    f=  3.65110D+00    |proj g|=  1.94462D-02\n",
      "\n",
      "At iterate   10    f=  3.63832D+00    |proj g|=  3.61908D-03\n",
      "\n",
      "           * * *\n",
      "\n",
      "Tit   = total number of iterations\n",
      "Tnf   = total number of function evaluations\n",
      "Tnint = total number of segments explored during Cauchy searches\n",
      "Skip  = number of BFGS updates skipped\n",
      "Nact  = number of active bounds at final generalized Cauchy point\n",
      "Projg = norm of the final projected gradient\n",
      "F     = final function value\n",
      "\n",
      "           * * *\n",
      "\n",
      "   N    Tit     Tnf  Tnint  Skip  Nact     Projg        F\n",
      "    3     12     19      1     0     0   2.473D-05   3.638D+00\n",
      "  F =   3.6383191127015384     \n",
      "\n",
      "CONVERGENCE: REL_REDUCTION_OF_F_<=_FACTR*EPSMCH             \n",
      "ARIMA(0, 0, 0)x(1, 0, 1, 12)12 - AIC:10637.168447313896\n",
      "RUNNING THE L-BFGS-B CODE\n",
      "\n",
      "           * * *\n",
      "\n",
      "Machine precision = 2.220D-16\n",
      " N =            2     M =           10\n",
      "\n",
      "At X0         0 variables are exactly at the bounds\n",
      "\n",
      "At iterate    0    f=  3.67545D+00    |proj g|=  5.48757D-06\n",
      "\n",
      "           * * *\n",
      "\n",
      "Tit   = total number of iterations\n",
      "Tnf   = total number of function evaluations\n",
      "Tnint = total number of segments explored during Cauchy searches\n",
      "Skip  = number of BFGS updates skipped\n",
      "Nact  = number of active bounds at final generalized Cauchy point\n",
      "Projg = norm of the final projected gradient\n",
      "F     = final function value\n",
      "\n",
      "           * * *\n",
      "\n",
      "   N    Tit     Tnf  Tnint  Skip  Nact     Projg        F\n",
      "    2      0      1      0     0     0   5.488D-06   3.675D+00\n",
      "  F =   3.6754544058930190     \n",
      "\n",
      "CONVERGENCE: NORM_OF_PROJECTED_GRADIENT_<=_PGTOL            \n",
      "ARIMA(0, 0, 0)x(1, 1, 0, 12)12 - AIC:10743.677774019401\n"
     ]
    },
    {
     "name": "stderr",
     "output_type": "stream",
     "text": [
      " This problem is unconstrained.\n"
     ]
    },
    {
     "name": "stdout",
     "output_type": "stream",
     "text": [
      "RUNNING THE L-BFGS-B CODE\n",
      "\n",
      "           * * *\n",
      "\n",
      "Machine precision = 2.220D-16\n",
      " N =            3     M =           10\n",
      "\n",
      "At X0         0 variables are exactly at the bounds\n",
      "\n",
      "At iterate    0    f=  3.68932D+00    |proj g|=  1.58152D-01\n"
     ]
    },
    {
     "name": "stderr",
     "output_type": "stream",
     "text": [
      " This problem is unconstrained.\n"
     ]
    },
    {
     "name": "stdout",
     "output_type": "stream",
     "text": [
      "\n",
      "At iterate    5    f=  3.61446D+00    |proj g|=  1.11808D-02\n",
      "\n",
      "At iterate   10    f=  3.61053D+00    |proj g|=  1.85084D-03\n",
      "\n",
      "           * * *\n",
      "\n",
      "Tit   = total number of iterations\n",
      "Tnf   = total number of function evaluations\n",
      "Tnint = total number of segments explored during Cauchy searches\n",
      "Skip  = number of BFGS updates skipped\n",
      "Nact  = number of active bounds at final generalized Cauchy point\n",
      "Projg = norm of the final projected gradient\n",
      "F     = final function value\n",
      "\n",
      "           * * *\n",
      "\n",
      "   N    Tit     Tnf  Tnint  Skip  Nact     Projg        F\n",
      "    3     13     19      1     0     0   6.793D-06   3.611D+00\n",
      "  F =   3.6105274075157259     \n",
      "\n",
      "CONVERGENCE: NORM_OF_PROJECTED_GRADIENT_<=_PGTOL            \n",
      "ARIMA(0, 0, 0)x(1, 1, 1, 12)12 - AIC:10555.961084760951\n",
      "RUNNING THE L-BFGS-B CODE\n",
      "\n",
      "           * * *\n",
      "\n",
      "Machine precision = 2.220D-16\n",
      " N =            2     M =           10\n",
      "\n",
      "At X0         0 variables are exactly at the bounds\n",
      "\n",
      "At iterate    0    f=  5.06149D+00    |proj g|=  2.24171D-01\n"
     ]
    },
    {
     "name": "stderr",
     "output_type": "stream",
     "text": [
      " This problem is unconstrained.\n"
     ]
    },
    {
     "name": "stdout",
     "output_type": "stream",
     "text": [
      "\n",
      "At iterate    5    f=  5.00081D+00    |proj g|=  9.16168D-02\n",
      "\n",
      "At iterate   10    f=  4.99965D+00    |proj g|=  2.55114D-02\n",
      "\n",
      "At iterate   15    f=  4.95670D+00    |proj g|=  3.61559D-01\n",
      "\n",
      "At iterate   20    f=  4.80972D+00    |proj g|=  5.63605D-01\n",
      "\n",
      "At iterate   25    f=  4.72222D+00    |proj g|=  2.94806D-01\n",
      "\n",
      "At iterate   30    f=  4.72071D+00    |proj g|=  4.52440D-05\n",
      "\n",
      "           * * *\n",
      "\n",
      "Tit   = total number of iterations\n",
      "Tnf   = total number of function evaluations\n",
      "Tnint = total number of segments explored during Cauchy searches\n",
      "Skip  = number of BFGS updates skipped\n",
      "Nact  = number of active bounds at final generalized Cauchy point\n",
      "Projg = norm of the final projected gradient\n",
      "F     = final function value\n",
      "\n",
      "           * * *\n",
      "\n",
      "   N    Tit     Tnf  Tnint  Skip  Nact     Projg        F\n",
      "    2     30     51      1     0     0   4.524D-05   4.721D+00\n",
      "  F =   4.7207098979728919     \n",
      "\n",
      "CONVERGENCE: REL_REDUCTION_OF_F_<=_FACTR*EPSMCH             \n",
      "ARIMA(0, 0, 1)x(0, 0, 0, 12)12 - AIC:13797.91432187679\n",
      "RUNNING THE L-BFGS-B CODE\n",
      "\n",
      "           * * *\n",
      "\n",
      "Machine precision = 2.220D-16\n",
      " N =            3     M =           10\n",
      "\n",
      "At X0         0 variables are exactly at the bounds\n",
      "\n",
      "At iterate    0    f=  4.90236D+00    |proj g|=  8.29601D-02\n"
     ]
    },
    {
     "name": "stderr",
     "output_type": "stream",
     "text": [
      " This problem is unconstrained.\n"
     ]
    },
    {
     "name": "stdout",
     "output_type": "stream",
     "text": [
      "\n",
      "At iterate    5    f=  4.87333D+00    |proj g|=  1.72284D-02\n",
      "\n",
      "At iterate   10    f=  4.30077D+00    |proj g|=  4.22199D-01\n",
      "\n",
      "At iterate   15    f=  4.16401D+00    |proj g|=  3.32157D-01\n",
      "\n",
      "At iterate   20    f=  4.16052D+00    |proj g|=  4.49939D-03\n",
      "\n",
      "           * * *\n",
      "\n",
      "Tit   = total number of iterations\n",
      "Tnf   = total number of function evaluations\n",
      "Tnint = total number of segments explored during Cauchy searches\n",
      "Skip  = number of BFGS updates skipped\n",
      "Nact  = number of active bounds at final generalized Cauchy point\n",
      "Projg = norm of the final projected gradient\n",
      "F     = final function value\n",
      "\n",
      "           * * *\n",
      "\n",
      "   N    Tit     Tnf  Tnint  Skip  Nact     Projg        F\n",
      "    3     22     56      1     0     0   2.189D-05   4.161D+00\n",
      "  F =   4.1605234115158272     \n",
      "\n",
      "CONVERGENCE: REL_REDUCTION_OF_F_<=_FACTR*EPSMCH             \n",
      "ARIMA(0, 0, 1)x(0, 0, 1, 12)12 - AIC:12163.049408449246\n",
      "RUNNING THE L-BFGS-B CODE\n",
      "\n",
      "           * * *\n",
      "\n",
      "Machine precision = 2.220D-16\n",
      " N =            2     M =           10\n",
      "\n",
      "At X0         0 variables are exactly at the bounds\n",
      "\n",
      "At iterate    0    f=  3.64357D+00    |proj g|=  1.02984D-01\n",
      "\n",
      "At iterate    5    f=  3.63529D+00    |proj g|=  5.35358D-04\n",
      "\n",
      "           * * *\n",
      "\n",
      "Tit   = total number of iterations\n",
      "Tnf   = total number of function evaluations\n",
      "Tnint = total number of segments explored during Cauchy searches\n",
      "Skip  = number of BFGS updates skipped\n",
      "Nact  = number of active bounds at final generalized Cauchy point\n",
      "Projg = norm of the final projected gradient\n",
      "F     = final function value\n",
      "\n",
      "           * * *\n",
      "\n",
      "   N    Tit     Tnf  Tnint  Skip  Nact     Projg        F\n",
      "    2      7     11      1     0     0   1.362D-06   3.635D+00\n",
      "  F =   3.6352863270952183     \n",
      "\n",
      "CONVERGENCE: NORM_OF_PROJECTED_GRADIENT_<=_PGTOL            \n",
      "ARIMA(0, 0, 1)x(0, 1, 0, 12)12 - AIC:10626.306647772228\n"
     ]
    },
    {
     "name": "stderr",
     "output_type": "stream",
     "text": [
      " This problem is unconstrained.\n",
      " This problem is unconstrained.\n"
     ]
    },
    {
     "name": "stdout",
     "output_type": "stream",
     "text": [
      "RUNNING THE L-BFGS-B CODE\n",
      "\n",
      "           * * *\n",
      "\n",
      "Machine precision = 2.220D-16\n",
      " N =            3     M =           10\n",
      "\n",
      "At X0         0 variables are exactly at the bounds\n",
      "\n",
      "At iterate    0    f=  3.57317D+00    |proj g|=  1.32042D-01\n",
      "\n",
      "At iterate    5    f=  3.53718D+00    |proj g|=  2.52302D-02\n",
      "\n",
      "At iterate   10    f=  3.53007D+00    |proj g|=  3.39245D-04\n",
      "\n",
      "           * * *\n",
      "\n",
      "Tit   = total number of iterations\n",
      "Tnf   = total number of function evaluations\n",
      "Tnint = total number of segments explored during Cauchy searches\n",
      "Skip  = number of BFGS updates skipped\n",
      "Nact  = number of active bounds at final generalized Cauchy point\n",
      "Projg = norm of the final projected gradient\n",
      "F     = final function value\n",
      "\n",
      "           * * *\n",
      "\n",
      "   N    Tit     Tnf  Tnint  Skip  Nact     Projg        F\n",
      "    3     11     15      1     0     0   3.600D-06   3.530D+00\n",
      "  F =   3.5300734045911879     \n",
      "\n",
      "CONVERGENCE: NORM_OF_PROJECTED_GRADIENT_<=_PGTOL            \n",
      "ARIMA(0, 0, 1)x(0, 1, 1, 12)12 - AIC:10320.874488215451\n",
      "RUNNING THE L-BFGS-B CODE\n",
      "\n",
      "           * * *\n",
      "\n",
      "Machine precision = 2.220D-16\n",
      " N =            3     M =           10\n",
      "\n",
      "At X0         0 variables are exactly at the bounds\n",
      "\n",
      "At iterate    0    f=  4.84443D+00    |proj g|=  1.84853D-02\n"
     ]
    },
    {
     "name": "stderr",
     "output_type": "stream",
     "text": [
      " This problem is unconstrained.\n"
     ]
    },
    {
     "name": "stdout",
     "output_type": "stream",
     "text": [
      "\n",
      "At iterate    5    f=  3.80015D+00    |proj g|=  1.54147D+00\n",
      "\n",
      "At iterate   10    f=  3.61548D+00    |proj g|=  1.58322D-01\n",
      "\n",
      "At iterate   15    f=  3.59528D+00    |proj g|=  2.93641D-04\n",
      "\n",
      "           * * *\n",
      "\n",
      "Tit   = total number of iterations\n",
      "Tnf   = total number of function evaluations\n",
      "Tnint = total number of segments explored during Cauchy searches\n",
      "Skip  = number of BFGS updates skipped\n",
      "Nact  = number of active bounds at final generalized Cauchy point\n",
      "Projg = norm of the final projected gradient\n",
      "F     = final function value\n",
      "\n",
      "           * * *\n",
      "\n",
      "   N    Tit     Tnf  Tnint  Skip  Nact     Projg        F\n",
      "    3     17     36      1     0     0   3.156D-06   3.595D+00\n",
      "  F =   3.5952819061329873     \n",
      "\n",
      "CONVERGENCE: NORM_OF_PROJECTED_GRADIENT_<=_PGTOL            \n",
      "ARIMA(0, 0, 1)x(1, 0, 0, 12)12 - AIC:10511.413729720589\n"
     ]
    },
    {
     "name": "stderr",
     "output_type": "stream",
     "text": [
      " This problem is unconstrained.\n"
     ]
    },
    {
     "name": "stdout",
     "output_type": "stream",
     "text": [
      "RUNNING THE L-BFGS-B CODE\n",
      "\n",
      "           * * *\n",
      "\n",
      "Machine precision = 2.220D-16\n",
      " N =            4     M =           10\n",
      "\n",
      "At X0         0 variables are exactly at the bounds\n",
      "\n",
      "At iterate    0    f=  4.83726D+00    |proj g|=  1.84929D-02\n",
      "\n",
      "At iterate    5    f=  4.63722D+00    |proj g|=  5.11030D-01\n",
      "\n",
      "At iterate   10    f=  3.92217D+00    |proj g|=  7.46901D-01\n",
      "\n",
      "At iterate   15    f=  3.59008D+00    |proj g|=  1.44567D+00\n",
      "\n",
      "At iterate   20    f=  3.56060D+00    |proj g|=  2.34410D-01\n",
      "\n",
      "At iterate   25    f=  3.55754D+00    |proj g|=  4.28215D-05\n",
      "\n",
      "           * * *\n",
      "\n",
      "Tit   = total number of iterations\n",
      "Tnf   = total number of function evaluations\n",
      "Tnint = total number of segments explored during Cauchy searches\n",
      "Skip  = number of BFGS updates skipped\n",
      "Nact  = number of active bounds at final generalized Cauchy point\n",
      "Projg = norm of the final projected gradient\n",
      "F     = final function value\n",
      "\n",
      "           * * *\n",
      "\n",
      "   N    Tit     Tnf  Tnint  Skip  Nact     Projg        F\n",
      "    4     26     45      1     0     0   2.696D-05   3.558D+00\n",
      "  F =   3.5575360506326552     \n",
      "\n",
      "CONVERGENCE: REL_REDUCTION_OF_F_<=_FACTR*EPSMCH             \n",
      "ARIMA(0, 0, 1)x(1, 0, 1, 12)12 - AIC:10403.120339948618\n",
      "RUNNING THE L-BFGS-B CODE\n",
      "\n",
      "           * * *\n",
      "\n",
      "Machine precision = 2.220D-16\n",
      " N =            3     M =           10\n",
      "\n",
      "At X0         0 variables are exactly at the bounds\n",
      "\n",
      "At iterate    0    f=  3.58909D+00    |proj g|=  5.70053D-02\n",
      "\n"
     ]
    },
    {
     "name": "stderr",
     "output_type": "stream",
     "text": [
      " This problem is unconstrained.\n"
     ]
    },
    {
     "name": "stdout",
     "output_type": "stream",
     "text": [
      "At iterate    5    f=  3.58578D+00    |proj g|=  2.78178D-02\n",
      "\n",
      "At iterate   10    f=  3.58431D+00    |proj g|=  3.81048D-05\n",
      "\n",
      "           * * *\n",
      "\n",
      "Tit   = total number of iterations\n",
      "Tnf   = total number of function evaluations\n",
      "Tnint = total number of segments explored during Cauchy searches\n",
      "Skip  = number of BFGS updates skipped\n",
      "Nact  = number of active bounds at final generalized Cauchy point\n",
      "Projg = norm of the final projected gradient\n",
      "F     = final function value\n",
      "\n",
      "           * * *\n",
      "\n",
      "   N    Tit     Tnf  Tnint  Skip  Nact     Projg        F\n",
      "    3     11     14      1     0     0   1.334D-07   3.584D+00\n",
      "  F =   3.5843114166692662     \n",
      "\n",
      "CONVERGENCE: NORM_OF_PROJECTED_GRADIENT_<=_PGTOL            \n",
      "ARIMA(0, 0, 1)x(1, 1, 0, 12)12 - AIC:10479.357959507595\n",
      "RUNNING THE L-BFGS-B CODE\n",
      "\n",
      "           * * *\n",
      "\n",
      "Machine precision = 2.220D-16\n",
      " N =            4     M =           10\n",
      "\n",
      "At X0         0 variables are exactly at the bounds\n",
      "\n",
      "At iterate    0    f=  3.58841D+00    |proj g|=  6.03293D-02\n"
     ]
    },
    {
     "name": "stderr",
     "output_type": "stream",
     "text": [
      " This problem is unconstrained.\n"
     ]
    },
    {
     "name": "stdout",
     "output_type": "stream",
     "text": [
      "\n",
      "At iterate    5    f=  3.53035D+00    |proj g|=  4.04834D-02\n",
      "\n",
      "At iterate   10    f=  3.49788D+00    |proj g|=  3.86132D-02\n",
      "\n",
      "At iterate   15    f=  3.48974D+00    |proj g|=  6.25783D-05\n",
      "\n",
      "           * * *\n",
      "\n",
      "Tit   = total number of iterations\n",
      "Tnf   = total number of function evaluations\n",
      "Tnint = total number of segments explored during Cauchy searches\n",
      "Skip  = number of BFGS updates skipped\n",
      "Nact  = number of active bounds at final generalized Cauchy point\n",
      "Projg = norm of the final projected gradient\n",
      "F     = final function value\n",
      "\n",
      "           * * *\n",
      "\n",
      "   N    Tit     Tnf  Tnint  Skip  Nact     Projg        F\n",
      "    4     16     35      1     0     0   6.060D-06   3.490D+00\n",
      "  F =   3.4897431790542019     \n",
      "\n",
      "CONVERGENCE: NORM_OF_PROJECTED_GRADIENT_<=_PGTOL            \n",
      "ARIMA(0, 0, 1)x(1, 1, 1, 12)12 - AIC:10205.029569196378\n",
      "RUNNING THE L-BFGS-B CODE\n",
      "\n",
      "           * * *\n",
      "\n",
      "Machine precision = 2.220D-16\n",
      " N =            1     M =           10\n",
      "\n",
      "At X0         0 variables are exactly at the bounds\n",
      "\n",
      "At iterate    0    f=  3.57485D+00    |proj g|=  1.57717D-04\n",
      "\n",
      "           * * *\n",
      "\n",
      "Tit   = total number of iterations\n",
      "Tnf   = total number of function evaluations\n",
      "Tnint = total number of segments explored during Cauchy searches\n",
      "Skip  = number of BFGS updates skipped\n",
      "Nact  = number of active bounds at final generalized Cauchy point\n",
      "Projg = norm of the final projected gradient\n",
      "F     = final function value\n",
      "\n",
      "           * * *\n",
      "\n",
      "   N    Tit     Tnf  Tnint  Skip  Nact     Projg        F\n",
      "    1      1      3      1     0     0   3.620D-06   3.575D+00\n",
      "  F =   3.5748509908699244     \n",
      "\n",
      "CONVERGENCE: NORM_OF_PROJECTED_GRADIENT_<=_PGTOL            \n",
      "ARIMA(0, 1, 0)x(0, 0, 0, 12)12 - AIC:10447.714595321919\n",
      "RUNNING THE L-BFGS-B CODE\n",
      "\n",
      "           * * *\n",
      "\n",
      "Machine precision = 2.220D-16\n",
      " N =            2     M =           10\n",
      "\n",
      "At X0         0 variables are exactly at the bounds\n",
      "\n",
      "At iterate    0    f=  3.54833D+00    |proj g|=  1.42505D-02\n"
     ]
    },
    {
     "name": "stderr",
     "output_type": "stream",
     "text": [
      " This problem is unconstrained.\n",
      " This problem is unconstrained.\n"
     ]
    },
    {
     "name": "stdout",
     "output_type": "stream",
     "text": [
      "\n",
      "At iterate    5    f=  3.54815D+00    |proj g|=  1.72876D-03\n",
      "\n",
      "           * * *\n",
      "\n",
      "Tit   = total number of iterations\n",
      "Tnf   = total number of function evaluations\n",
      "Tnint = total number of segments explored during Cauchy searches\n",
      "Skip  = number of BFGS updates skipped\n",
      "Nact  = number of active bounds at final generalized Cauchy point\n",
      "Projg = norm of the final projected gradient\n",
      "F     = final function value\n",
      "\n",
      "           * * *\n",
      "\n",
      "   N    Tit     Tnf  Tnint  Skip  Nact     Projg        F\n",
      "    2      8     11      1     0     0   5.379D-07   3.548D+00\n",
      "  F =   3.5481456748629130     \n",
      "\n",
      "CONVERGENCE: NORM_OF_PROJECTED_GRADIENT_<=_PGTOL            \n",
      "ARIMA(0, 1, 0)x(0, 0, 1, 12)12 - AIC:10371.681661949431\n",
      "RUNNING THE L-BFGS-B CODE\n",
      "\n",
      "           * * *\n",
      "\n",
      "Machine precision = 2.220D-16\n",
      " N =            1     M =           10\n",
      "\n",
      "At X0         0 variables are exactly at the bounds\n",
      "\n",
      "At iterate    0    f=  3.89204D+00    |proj g|=  7.28518D-04\n",
      "\n",
      "           * * *\n",
      "\n",
      "Tit   = total number of iterations\n",
      "Tnf   = total number of function evaluations\n",
      "Tnint = total number of segments explored during Cauchy searches\n",
      "Skip  = number of BFGS updates skipped\n",
      "Nact  = number of active bounds at final generalized Cauchy point\n",
      "Projg = norm of the final projected gradient\n",
      "F     = final function value\n",
      "\n",
      "           * * *\n",
      "\n",
      "   N    Tit     Tnf  Tnint  Skip  Nact     Projg        F\n",
      "    1      1      3      1     0     0   7.624D-06   3.892D+00\n",
      "  F =   3.8920177115554750     \n",
      "\n",
      "CONVERGENCE: NORM_OF_PROJECTED_GRADIENT_<=_PGTOL            \n",
      "ARIMA(0, 1, 0)x(0, 1, 0, 12)12 - AIC:11374.475753165098\n"
     ]
    },
    {
     "name": "stderr",
     "output_type": "stream",
     "text": [
      " This problem is unconstrained.\n",
      " This problem is unconstrained.\n"
     ]
    },
    {
     "name": "stdout",
     "output_type": "stream",
     "text": [
      "RUNNING THE L-BFGS-B CODE\n",
      "\n",
      "           * * *\n",
      "\n",
      "Machine precision = 2.220D-16\n",
      " N =            2     M =           10\n",
      "\n",
      "At X0         0 variables are exactly at the bounds\n",
      "\n",
      "At iterate    0    f=  3.68779D+00    |proj g|=  2.18128D-01\n",
      "\n",
      "At iterate    5    f=  3.62485D+00    |proj g|=  4.77001D-02\n",
      "\n",
      "At iterate   10    f=  3.54894D+00    |proj g|=  1.10139D-01\n",
      "\n",
      "At iterate   15    f=  3.53953D+00    |proj g|=  5.73514D-04\n",
      "\n",
      "           * * *\n",
      "\n",
      "Tit   = total number of iterations\n",
      "Tnf   = total number of function evaluations\n",
      "Tnint = total number of segments explored during Cauchy searches\n",
      "Skip  = number of BFGS updates skipped\n",
      "Nact  = number of active bounds at final generalized Cauchy point\n",
      "Projg = norm of the final projected gradient\n",
      "F     = final function value\n",
      "\n",
      "           * * *\n",
      "\n",
      "   N    Tit     Tnf  Tnint  Skip  Nact     Projg        F\n",
      "    2     16     25      1     0     0   1.173D-06   3.540D+00\n",
      "  F =   3.5395273865762222     \n",
      "\n",
      "CONVERGENCE: NORM_OF_PROJECTED_GRADIENT_<=_PGTOL            \n",
      "ARIMA(0, 1, 0)x(0, 1, 1, 12)12 - AIC:10346.499023575721\n",
      "RUNNING THE L-BFGS-B CODE\n",
      "\n",
      "           * * *\n",
      "\n",
      "Machine precision = 2.220D-16\n",
      " N =            2     M =           10\n",
      "\n",
      "At X0         0 variables are exactly at the bounds\n",
      "\n",
      "At iterate    0    f=  3.55091D+00    |proj g|=  4.94489D-06\n",
      "\n",
      "           * * *\n",
      "\n",
      "Tit   = total number of iterations\n",
      "Tnf   = total number of function evaluations\n",
      "Tnint = total number of segments explored during Cauchy searches\n",
      "Skip  = number of BFGS updates skipped\n",
      "Nact  = number of active bounds at final generalized Cauchy point\n",
      "Projg = norm of the final projected gradient\n",
      "F     = final function value\n",
      "\n",
      "           * * *\n",
      "\n",
      "   N    Tit     Tnf  Tnint  Skip  Nact     Projg        F\n",
      "    2      0      1      0     0     0   4.945D-06   3.551D+00\n",
      "  F =   3.5509059736375903     \n",
      "\n",
      "CONVERGENCE: NORM_OF_PROJECTED_GRADIENT_<=_PGTOL            \n",
      "ARIMA(0, 1, 0)x(1, 0, 0, 12)12 - AIC:10379.74725496904\n",
      "RUNNING THE L-BFGS-B CODE\n",
      "\n",
      "           * * *\n",
      "\n",
      "Machine precision = 2.220D-16\n",
      " N =            3     M =           10\n",
      "\n",
      "At X0         0 variables are exactly at the bounds\n",
      "\n",
      "At iterate    0    f=  3.54834D+00    |proj g|=  1.82841D-02\n",
      "\n",
      "At iterate    5    f=  3.54814D+00    |proj g|=  3.94973D-03\n"
     ]
    },
    {
     "name": "stderr",
     "output_type": "stream",
     "text": [
      " This problem is unconstrained.\n",
      " This problem is unconstrained.\n"
     ]
    },
    {
     "name": "stdout",
     "output_type": "stream",
     "text": [
      "  ys=-3.897E-03  -gs= 6.652E-04 BFGS update SKIPPED\n",
      "\n",
      "At iterate   10    f=  3.52299D+00    |proj g|=  4.62264D-01\n",
      "\n",
      "At iterate   15    f=  3.43970D+00    |proj g|=  5.06497D-02\n",
      "\n",
      "At iterate   20    f=  3.43839D+00    |proj g|=  2.75953D-06\n",
      "\n",
      "           * * *\n",
      "\n",
      "Tit   = total number of iterations\n",
      "Tnf   = total number of function evaluations\n",
      "Tnint = total number of segments explored during Cauchy searches\n",
      "Skip  = number of BFGS updates skipped\n",
      "Nact  = number of active bounds at final generalized Cauchy point\n",
      "Projg = norm of the final projected gradient\n",
      "F     = final function value\n",
      "\n",
      "           * * *\n",
      "\n",
      "   N    Tit     Tnf  Tnint  Skip  Nact     Projg        F\n",
      "    3     20     36      1     1     0   2.760D-06   3.438D+00\n",
      "  F =   3.4383868002853673     \n",
      "\n",
      "CONVERGENCE: NORM_OF_PROJECTED_GRADIENT_<=_PGTOL            \n",
      "ARIMA(0, 1, 0)x(1, 0, 1, 12)12 - AIC:10052.966230433844\n",
      "RUNNING THE L-BFGS-B CODE\n",
      "\n",
      "           * * *\n",
      "\n",
      "Machine precision = 2.220D-16\n",
      " N =            2     M =           10\n",
      "\n",
      "At X0         0 variables are exactly at the bounds\n",
      "\n",
      "At iterate    0    f=  3.76707D+00    |proj g|=  5.98659D-06\n",
      "\n",
      "           * * *\n",
      "\n",
      "Tit   = total number of iterations\n",
      "Tnf   = total number of function evaluations\n",
      "Tnint = total number of segments explored during Cauchy searches\n",
      "Skip  = number of BFGS updates skipped\n",
      "Nact  = number of active bounds at final generalized Cauchy point\n",
      "Projg = norm of the final projected gradient\n",
      "F     = final function value\n",
      "\n",
      "           * * *\n",
      "\n",
      "   N    Tit     Tnf  Tnint  Skip  Nact     Projg        F\n",
      "    2      0      1      0     0     0   5.987D-06   3.767D+00\n",
      "  F =   3.7670686472677439     \n",
      "\n",
      "CONVERGENCE: NORM_OF_PROJECTED_GRADIENT_<=_PGTOL            \n",
      "ARIMA(0, 1, 0)x(1, 1, 0, 12)12 - AIC:11011.374587316348\n",
      "RUNNING THE L-BFGS-B CODE\n",
      "\n",
      "           * * *\n",
      "\n",
      "Machine precision = 2.220D-16\n",
      " N =            3     M =           10\n",
      "\n",
      "At X0         0 variables are exactly at the bounds\n",
      "\n",
      "At iterate    0    f=  3.75411D+00    |proj g|=  1.68461D-01\n"
     ]
    },
    {
     "name": "stderr",
     "output_type": "stream",
     "text": [
      " This problem is unconstrained.\n",
      " This problem is unconstrained.\n"
     ]
    },
    {
     "name": "stdout",
     "output_type": "stream",
     "text": [
      "  ys=-5.018E-03  -gs= 7.634E-02 BFGS update SKIPPED\n",
      "\n",
      "At iterate    5    f=  3.58902D+00    |proj g|=  3.35884D-02\n",
      "\n",
      "At iterate   10    f=  3.54764D+00    |proj g|=  1.06655D-01\n",
      "\n",
      "At iterate   15    f=  3.53953D+00    |proj g|=  4.43115D-04\n",
      "\n",
      "           * * *\n",
      "\n",
      "Tit   = total number of iterations\n",
      "Tnf   = total number of function evaluations\n",
      "Tnint = total number of segments explored during Cauchy searches\n",
      "Skip  = number of BFGS updates skipped\n",
      "Nact  = number of active bounds at final generalized Cauchy point\n",
      "Projg = norm of the final projected gradient\n",
      "F     = final function value\n",
      "\n",
      "           * * *\n",
      "\n",
      "   N    Tit     Tnf  Tnint  Skip  Nact     Projg        F\n",
      "    3     16     37      1     1     0   1.141D-06   3.540D+00\n",
      "  F =   3.5395273286246556     \n",
      "\n",
      "CONVERGENCE: NORM_OF_PROJECTED_GRADIENT_<=_PGTOL            \n",
      "ARIMA(0, 1, 0)x(1, 1, 1, 12)12 - AIC:10348.498854241243\n",
      "RUNNING THE L-BFGS-B CODE\n",
      "\n",
      "           * * *\n",
      "\n",
      "Machine precision = 2.220D-16\n",
      " N =            2     M =           10\n",
      "\n",
      "At X0         0 variables are exactly at the bounds\n",
      "\n",
      "At iterate    0    f=  3.48248D+00    |proj g|=  1.56501D-01\n",
      "\n",
      "At iterate    5    f=  3.39642D+00    |proj g|=  9.91182D-03\n",
      "\n",
      "           * * *\n",
      "\n",
      "Tit   = total number of iterations\n",
      "Tnf   = total number of function evaluations\n",
      "Tnint = total number of segments explored during Cauchy searches\n",
      "Skip  = number of BFGS updates skipped\n",
      "Nact  = number of active bounds at final generalized Cauchy point\n",
      "Projg = norm of the final projected gradient\n",
      "F     = final function value\n",
      "\n",
      "           * * *\n",
      "\n",
      "   N    Tit     Tnf  Tnint  Skip  Nact     Projg        F\n",
      "    2      8     15      1     0     0   8.878D-07   3.396D+00\n",
      "  F =   3.3963762680448664     \n",
      "\n",
      "CONVERGENCE: NORM_OF_PROJECTED_GRADIENT_<=_PGTOL            \n"
     ]
    },
    {
     "name": "stderr",
     "output_type": "stream",
     "text": [
      " This problem is unconstrained.\n"
     ]
    },
    {
     "name": "stdout",
     "output_type": "stream",
     "text": [
      "ARIMA(0, 1, 1)x(0, 0, 0, 12)12 - AIC:9928.2114552271\n",
      "RUNNING THE L-BFGS-B CODE\n",
      "\n",
      "           * * *\n",
      "\n",
      "Machine precision = 2.220D-16\n",
      " N =            3     M =           10\n",
      "\n",
      "At X0         0 variables are exactly at the bounds\n",
      "\n",
      "At iterate    0    f=  3.45361D+00    |proj g|=  1.58762D-01\n"
     ]
    },
    {
     "name": "stderr",
     "output_type": "stream",
     "text": [
      " This problem is unconstrained.\n"
     ]
    },
    {
     "name": "stdout",
     "output_type": "stream",
     "text": [
      "\n",
      "At iterate    5    f=  3.32701D+00    |proj g|=  7.33986D-02\n",
      "\n",
      "At iterate   10    f=  3.31883D+00    |proj g|=  1.18438D-03\n",
      "\n",
      "           * * *\n",
      "\n",
      "Tit   = total number of iterations\n",
      "Tnf   = total number of function evaluations\n",
      "Tnint = total number of segments explored during Cauchy searches\n",
      "Skip  = number of BFGS updates skipped\n",
      "Nact  = number of active bounds at final generalized Cauchy point\n",
      "Projg = norm of the final projected gradient\n",
      "F     = final function value\n",
      "\n",
      "           * * *\n",
      "\n",
      "   N    Tit     Tnf  Tnint  Skip  Nact     Projg        F\n",
      "    3     12     20      1     0     0   3.433D-06   3.319D+00\n",
      "  F =   3.3188252171146924     \n",
      "\n",
      "CONVERGENCE: NORM_OF_PROJECTED_GRADIENT_<=_PGTOL            \n",
      "ARIMA(0, 1, 1)x(0, 0, 1, 12)12 - AIC:9703.60728440913\n",
      "RUNNING THE L-BFGS-B CODE\n",
      "\n",
      "           * * *\n",
      "\n",
      "Machine precision = 2.220D-16\n",
      " N =            2     M =           10\n",
      "\n",
      "At X0         0 variables are exactly at the bounds\n",
      "\n",
      "At iterate    0    f=  3.87565D+00    |proj g|=  7.07316D-02\n",
      "\n"
     ]
    },
    {
     "name": "stderr",
     "output_type": "stream",
     "text": [
      " This problem is unconstrained.\n"
     ]
    },
    {
     "name": "stdout",
     "output_type": "stream",
     "text": [
      "At iterate    5    f=  3.75698D+00    |proj g|=  9.59664D-03\n",
      "\n",
      "           * * *\n",
      "\n",
      "Tit   = total number of iterations\n",
      "Tnf   = total number of function evaluations\n",
      "Tnint = total number of segments explored during Cauchy searches\n",
      "Skip  = number of BFGS updates skipped\n",
      "Nact  = number of active bounds at final generalized Cauchy point\n",
      "Projg = norm of the final projected gradient\n",
      "F     = final function value\n",
      "\n",
      "           * * *\n",
      "\n",
      "   N    Tit     Tnf  Tnint  Skip  Nact     Projg        F\n",
      "    2      8     17      1     0     0   2.202D-04   3.751D+00\n",
      "  F =   3.7513389863690287     \n",
      "\n",
      "CONVERGENCE: REL_REDUCTION_OF_F_<=_FACTR*EPSMCH             \n",
      "ARIMA(0, 1, 1)x(0, 1, 0, 12)12 - AIC:10965.412518170302\n",
      "RUNNING THE L-BFGS-B CODE\n",
      "\n",
      "           * * *\n",
      "\n",
      "Machine precision = 2.220D-16\n",
      " N =            3     M =           10\n",
      "\n",
      "At X0         0 variables are exactly at the bounds\n",
      "\n",
      "At iterate    0    f=  3.65320D+00    |proj g|=  2.23185D-01\n"
     ]
    },
    {
     "name": "stderr",
     "output_type": "stream",
     "text": [
      " This problem is unconstrained.\n"
     ]
    },
    {
     "name": "stdout",
     "output_type": "stream",
     "text": [
      "\n",
      "At iterate    5    f=  3.57418D+00    |proj g|=  1.82204D-01\n",
      "\n",
      "At iterate   10    f=  3.41412D+00    |proj g|=  8.56210D-01\n",
      "\n",
      "At iterate   15    f=  3.36424D+00    |proj g|=  8.69241D-02\n",
      "\n",
      "At iterate   20    f=  3.36353D+00    |proj g|=  2.27880D-05\n",
      "\n",
      "           * * *\n",
      "\n",
      "Tit   = total number of iterations\n",
      "Tnf   = total number of function evaluations\n",
      "Tnint = total number of segments explored during Cauchy searches\n",
      "Skip  = number of BFGS updates skipped\n",
      "Nact  = number of active bounds at final generalized Cauchy point\n",
      "Projg = norm of the final projected gradient\n",
      "F     = final function value\n",
      "\n",
      "           * * *\n",
      "\n",
      "   N    Tit     Tnf  Tnint  Skip  Nact     Projg        F\n",
      "    3     20     30      1     0     0   2.279D-05   3.364D+00\n",
      "  F =   3.3635261097123212     \n",
      "\n",
      "CONVERGENCE: REL_REDUCTION_OF_F_<=_FACTR*EPSMCH             \n",
      "ARIMA(0, 1, 1)x(0, 1, 1, 12)12 - AIC:9834.223292579403\n",
      "RUNNING THE L-BFGS-B CODE\n",
      "\n",
      "           * * *\n",
      "\n",
      "Machine precision = 2.220D-16\n",
      " N =            3     M =           10\n",
      "\n",
      "At X0         0 variables are exactly at the bounds\n",
      "\n",
      "At iterate    0    f=  3.46099D+00    |proj g|=  1.56421D-01\n"
     ]
    },
    {
     "name": "stderr",
     "output_type": "stream",
     "text": [
      " This problem is unconstrained.\n"
     ]
    },
    {
     "name": "stdout",
     "output_type": "stream",
     "text": [
      "\n",
      "At iterate    5    f=  3.37625D+00    |proj g|=  2.20093D-02\n",
      "\n",
      "At iterate   10    f=  3.36741D+00    |proj g|=  8.68273D-04\n",
      "\n",
      "           * * *\n",
      "\n",
      "Tit   = total number of iterations\n",
      "Tnf   = total number of function evaluations\n",
      "Tnint = total number of segments explored during Cauchy searches\n",
      "Skip  = number of BFGS updates skipped\n",
      "Nact  = number of active bounds at final generalized Cauchy point\n",
      "Projg = norm of the final projected gradient\n",
      "F     = final function value\n",
      "\n",
      "           * * *\n",
      "\n",
      "   N    Tit     Tnf  Tnint  Skip  Nact     Projg        F\n",
      "    3     12     15      1     0     0   1.867D-06   3.367D+00\n",
      "  F =   3.3674115106435329     \n",
      "\n",
      "CONVERGENCE: NORM_OF_PROJECTED_GRADIENT_<=_PGTOL            \n",
      "ARIMA(0, 1, 1)x(1, 0, 0, 12)12 - AIC:9845.576434100403\n",
      "RUNNING THE L-BFGS-B CODE\n",
      "\n",
      "           * * *\n",
      "\n"
     ]
    },
    {
     "name": "stderr",
     "output_type": "stream",
     "text": [
      " This problem is unconstrained.\n"
     ]
    },
    {
     "name": "stdout",
     "output_type": "stream",
     "text": [
      "Machine precision = 2.220D-16\n",
      " N =            4     M =           10\n",
      "\n",
      "At X0         0 variables are exactly at the bounds\n",
      "\n",
      "At iterate    0    f=  3.45362D+00    |proj g|=  1.58754D-01\n",
      "\n",
      "At iterate    5    f=  3.31436D+00    |proj g|=  1.35467D-01\n",
      "\n",
      "At iterate   10    f=  3.29095D+00    |proj g|=  3.22840D-02\n",
      "\n",
      "At iterate   15    f=  3.27276D+00    |proj g|=  1.34553D-02\n",
      "\n",
      "           * * *\n",
      "\n",
      "Tit   = total number of iterations\n",
      "Tnf   = total number of function evaluations\n",
      "Tnint = total number of segments explored during Cauchy searches\n",
      "Skip  = number of BFGS updates skipped\n",
      "Nact  = number of active bounds at final generalized Cauchy point\n",
      "Projg = norm of the final projected gradient\n",
      "F     = final function value\n",
      "\n",
      "           * * *\n",
      "\n",
      "   N    Tit     Tnf  Tnint  Skip  Nact     Projg        F\n",
      "    4     19     26      1     0     0   6.895D-06   3.273D+00\n",
      "  F =   3.2727151126358147     \n",
      "\n",
      "CONVERGENCE: NORM_OF_PROJECTED_GRADIENT_<=_PGTOL            \n",
      "ARIMA(0, 1, 1)x(1, 0, 1, 12)12 - AIC:9570.87355912185\n"
     ]
    },
    {
     "name": "stderr",
     "output_type": "stream",
     "text": [
      " This problem is unconstrained.\n"
     ]
    },
    {
     "name": "stdout",
     "output_type": "stream",
     "text": [
      "RUNNING THE L-BFGS-B CODE\n",
      "\n",
      "           * * *\n",
      "\n",
      "Machine precision = 2.220D-16\n",
      " N =            3     M =           10\n",
      "\n",
      "At X0         0 variables are exactly at the bounds\n",
      "\n",
      "At iterate    0    f=  3.75780D+00    |proj g|=  5.13345D-02\n",
      "\n",
      "At iterate    5    f=  3.68010D+00    |proj g|=  2.29111D-02\n",
      "\n",
      "At iterate   10    f=  3.65761D+00    |proj g|=  2.02402D-02\n",
      "\n",
      "           * * *\n",
      "\n",
      "Tit   = total number of iterations\n",
      "Tnf   = total number of function evaluations\n",
      "Tnint = total number of segments explored during Cauchy searches\n",
      "Skip  = number of BFGS updates skipped\n",
      "Nact  = number of active bounds at final generalized Cauchy point\n",
      "Projg = norm of the final projected gradient\n",
      "F     = final function value\n",
      "\n",
      "           * * *\n",
      "\n",
      "   N    Tit     Tnf  Tnint  Skip  Nact     Projg        F\n",
      "    3     14     24      1     0     0   1.805D-07   3.658D+00\n",
      "  F =   3.6575258806482753     \n",
      "\n",
      "CONVERGENCE: NORM_OF_PROJECTED_GRADIENT_<=_PGTOL            \n",
      "ARIMA(0, 1, 1)x(1, 1, 0, 12)12 - AIC:10693.290623254261\n",
      "RUNNING THE L-BFGS-B CODE\n",
      "\n",
      "           * * *\n",
      "\n",
      "Machine precision = 2.220D-16\n",
      " N =            4     M =           10\n",
      "\n",
      "At X0         0 variables are exactly at the bounds\n",
      "\n",
      "At iterate    0    f=  3.72857D+00    |proj g|=  1.23301D-01\n"
     ]
    },
    {
     "name": "stderr",
     "output_type": "stream",
     "text": [
      " This problem is unconstrained.\n"
     ]
    },
    {
     "name": "stdout",
     "output_type": "stream",
     "text": [
      "\n",
      "At iterate    5    f=  3.54487D+00    |proj g|=  1.02351D-01\n",
      "\n",
      "At iterate   10    f=  3.51147D+00    |proj g|=  1.55169D-01\n",
      "\n",
      "At iterate   15    f=  3.36143D+00    |proj g|=  2.16253D-01\n",
      "\n",
      "At iterate   20    f=  3.35801D+00    |proj g|=  1.04595D-05\n",
      "\n",
      "           * * *\n",
      "\n",
      "Tit   = total number of iterations\n",
      "Tnf   = total number of function evaluations\n",
      "Tnint = total number of segments explored during Cauchy searches\n",
      "Skip  = number of BFGS updates skipped\n",
      "Nact  = number of active bounds at final generalized Cauchy point\n",
      "Projg = norm of the final projected gradient\n",
      "F     = final function value\n",
      "\n",
      "           * * *\n",
      "\n",
      "   N    Tit     Tnf  Tnint  Skip  Nact     Projg        F\n",
      "    4     21     34      1     0     0   1.285D-06   3.358D+00\n",
      "  F =   3.3580126604908282     \n",
      "\n",
      "CONVERGENCE: NORM_OF_PROJECTED_GRADIENT_<=_PGTOL            \n",
      "ARIMA(0, 1, 1)x(1, 1, 1, 12)12 - AIC:9820.1129939542\n",
      "RUNNING THE L-BFGS-B CODE\n",
      "\n",
      "           * * *\n",
      "\n",
      "Machine precision = 2.220D-16\n",
      " N =            2     M =           10\n",
      "\n",
      "At X0         0 variables are exactly at the bounds\n",
      "\n",
      "At iterate    0    f=  3.57358D+00    |proj g|=  1.81263D-04\n",
      "\n",
      "           * * *\n",
      "\n",
      "Tit   = total number of iterations\n",
      "Tnf   = total number of function evaluations\n",
      "Tnint = total number of segments explored during Cauchy searches\n",
      "Skip  = number of BFGS updates skipped\n",
      "Nact  = number of active bounds at final generalized Cauchy point\n",
      "Projg = norm of the final projected gradient\n",
      "F     = final function value\n",
      "\n",
      "           * * *\n",
      "\n",
      "   N    Tit     Tnf  Tnint  Skip  Nact     Projg        F\n",
      "    2      1     14      1     0     0   1.812D-04   3.574D+00\n",
      "  F =   3.5735755867701871     \n",
      "\n",
      "CONVERGENCE: REL_REDUCTION_OF_F_<=_FACTR*EPSMCH             \n",
      "ARIMA(1, 0, 0)x(0, 0, 0, 12)12 - AIC:10445.987864542487\n",
      "RUNNING THE L-BFGS-B CODE\n",
      "\n",
      "           * * *\n",
      "\n",
      "Machine precision = 2.220D-16\n",
      " N =            3     M =           10\n",
      "\n",
      "At X0         0 variables are exactly at the bounds\n",
      "\n",
      "At iterate    0    f=  3.84125D+00    |proj g|=  9.47200D-01\n"
     ]
    },
    {
     "name": "stderr",
     "output_type": "stream",
     "text": [
      " This problem is unconstrained.\n",
      "\n",
      " Warning:  more than 10 function and gradient\n",
      "   evaluations in the last line search.  Termination\n",
      "   may possibly be caused by a bad search direction.\n",
      " This problem is unconstrained.\n"
     ]
    },
    {
     "name": "stdout",
     "output_type": "stream",
     "text": [
      "\n",
      "At iterate    5    f=  3.54982D+00    |proj g|=  1.00121D-01\n",
      "\n",
      "At iterate   10    f=  3.54750D+00    |proj g|=  6.88522D-04\n",
      "\n",
      "At iterate   15    f=  3.54750D+00    |proj g|=  8.03205D-05\n",
      "\n",
      "           * * *\n",
      "\n",
      "Tit   = total number of iterations\n",
      "Tnf   = total number of function evaluations\n",
      "Tnint = total number of segments explored during Cauchy searches\n",
      "Skip  = number of BFGS updates skipped\n",
      "Nact  = number of active bounds at final generalized Cauchy point\n",
      "Projg = norm of the final projected gradient\n",
      "F     = final function value\n",
      "\n",
      "           * * *\n",
      "\n",
      "   N    Tit     Tnf  Tnint  Skip  Nact     Projg        F\n",
      "    3     15     18      1     0     0   8.032D-05   3.547D+00\n",
      "  F =   3.5474984037501911     \n",
      "\n",
      "CONVERGENCE: REL_REDUCTION_OF_F_<=_FACTR*EPSMCH             \n",
      "ARIMA(1, 0, 0)x(0, 0, 1, 12)12 - AIC:10371.790335758058\n",
      "RUNNING THE L-BFGS-B CODE\n",
      "\n",
      "           * * *\n",
      "\n",
      "Machine precision = 2.220D-16\n",
      " N =            2     M =           10\n",
      "\n",
      "At X0         0 variables are exactly at the bounds\n",
      "\n",
      "At iterate    0    f=  3.69591D+00    |proj g|=  5.58389D-06\n",
      "\n",
      "           * * *\n",
      "\n",
      "Tit   = total number of iterations\n",
      "Tnf   = total number of function evaluations\n",
      "Tnint = total number of segments explored during Cauchy searches\n",
      "Skip  = number of BFGS updates skipped\n",
      "Nact  = number of active bounds at final generalized Cauchy point\n",
      "Projg = norm of the final projected gradient\n",
      "F     = final function value\n",
      "\n",
      "           * * *\n",
      "\n",
      "   N    Tit     Tnf  Tnint  Skip  Nact     Projg        F\n",
      "    2      0      1      0     0     0   5.584D-06   3.696D+00\n",
      "  F =   3.6959109525780529     \n",
      "\n",
      "CONVERGENCE: NORM_OF_PROJECTED_GRADIENT_<=_PGTOL            \n",
      "ARIMA(1, 0, 0)x(0, 1, 0, 12)12 - AIC:10803.45180343307\n",
      "RUNNING THE L-BFGS-B CODE\n",
      "\n",
      "           * * *\n",
      "\n",
      "Machine precision = 2.220D-16\n",
      " N =            3     M =           10\n",
      "\n",
      "At X0         0 variables are exactly at the bounds\n",
      "\n",
      "At iterate    0    f=  3.59927D+00    |proj g|=  2.40495D-01\n"
     ]
    },
    {
     "name": "stderr",
     "output_type": "stream",
     "text": [
      " This problem is unconstrained.\n",
      " This problem is unconstrained.\n"
     ]
    },
    {
     "name": "stdout",
     "output_type": "stream",
     "text": [
      "\n",
      "At iterate    5    f=  3.50419D+00    |proj g|=  3.08753D-02\n",
      "\n",
      "At iterate   10    f=  3.47370D+00    |proj g|=  3.41479D-03\n",
      "\n",
      "           * * *\n",
      "\n",
      "Tit   = total number of iterations\n",
      "Tnf   = total number of function evaluations\n",
      "Tnint = total number of segments explored during Cauchy searches\n",
      "Skip  = number of BFGS updates skipped\n",
      "Nact  = number of active bounds at final generalized Cauchy point\n",
      "Projg = norm of the final projected gradient\n",
      "F     = final function value\n",
      "\n",
      "           * * *\n",
      "\n",
      "   N    Tit     Tnf  Tnint  Skip  Nact     Projg        F\n",
      "    3     12     21      1     0     0   1.590D-05   3.474D+00\n",
      "  F =   3.4737037652834375     \n",
      "\n",
      "CONVERGENCE: REL_REDUCTION_OF_F_<=_FACTR*EPSMCH             \n",
      "ARIMA(1, 0, 0)x(0, 1, 1, 12)12 - AIC:10156.162402158205\n",
      "RUNNING THE L-BFGS-B CODE\n",
      "\n",
      "           * * *\n",
      "\n",
      "Machine precision = 2.220D-16\n",
      " N =            3     M =           10\n",
      "\n",
      "At X0         0 variables are exactly at the bounds\n",
      "\n",
      "At iterate    0    f=  4.02098D+00    |proj g|=  9.70933D-01\n",
      "\n",
      "At iterate    5    f=  3.56890D+00    |proj g|=  2.01699D-01\n"
     ]
    },
    {
     "name": "stderr",
     "output_type": "stream",
     "text": [
      " This problem is unconstrained.\n"
     ]
    },
    {
     "name": "stdout",
     "output_type": "stream",
     "text": [
      "\n",
      "At iterate   10    f=  3.54845D+00    |proj g|=  1.58122D-02\n",
      "\n",
      "At iterate   15    f=  3.54750D+00    |proj g|=  5.97420D-06\n",
      "\n",
      "           * * *\n",
      "\n",
      "Tit   = total number of iterations\n",
      "Tnf   = total number of function evaluations\n",
      "Tnint = total number of segments explored during Cauchy searches\n",
      "Skip  = number of BFGS updates skipped\n",
      "Nact  = number of active bounds at final generalized Cauchy point\n",
      "Projg = norm of the final projected gradient\n",
      "F     = final function value\n",
      "\n",
      "           * * *\n",
      "\n",
      "   N    Tit     Tnf  Tnint  Skip  Nact     Projg        F\n",
      "    3     15     24      1     0     0   5.974D-06   3.548D+00\n",
      "  F =   3.5475027814190687     \n",
      "\n",
      "CONVERGENCE: NORM_OF_PROJECTED_GRADIENT_<=_PGTOL            \n",
      "ARIMA(1, 0, 0)x(1, 0, 0, 12)12 - AIC:10371.803127306519\n",
      "RUNNING THE L-BFGS-B CODE\n",
      "\n",
      "           * * *\n",
      "\n",
      "Machine precision = 2.220D-16\n",
      " N =            4     M =           10\n",
      "\n",
      "At X0         0 variables are exactly at the bounds\n",
      "\n",
      "At iterate    0    f=  3.84219D+00    |proj g|=  7.87381D-01\n"
     ]
    },
    {
     "name": "stderr",
     "output_type": "stream",
     "text": [
      " This problem is unconstrained.\n"
     ]
    },
    {
     "name": "stdout",
     "output_type": "stream",
     "text": [
      "\n",
      "At iterate    5    f=  3.48938D+00    |proj g|=  4.19878D+00\n",
      "\n",
      "At iterate   10    f=  3.48273D+00    |proj g|=  2.89196D+00\n",
      "\n",
      "At iterate   15    f=  3.45520D+00    |proj g|=  1.79011D-01\n",
      "\n",
      "At iterate   20    f=  3.45363D+00    |proj g|=  3.91358D-01\n",
      "\n",
      "At iterate   25    f=  3.44116D+00    |proj g|=  3.02194D-01\n",
      "\n",
      "           * * *\n",
      "\n",
      "Tit   = total number of iterations\n",
      "Tnf   = total number of function evaluations\n",
      "Tnint = total number of segments explored during Cauchy searches\n",
      "Skip  = number of BFGS updates skipped\n",
      "Nact  = number of active bounds at final generalized Cauchy point\n",
      "Projg = norm of the final projected gradient\n",
      "F     = final function value\n",
      "\n",
      "           * * *\n",
      "\n",
      "   N    Tit     Tnf  Tnint  Skip  Nact     Projg        F\n",
      "    4     28     44      1     0     0   3.152D-04   3.441D+00\n",
      "  F =   3.4410678901463165     \n",
      "\n",
      "CONVERGENCE: REL_REDUCTION_OF_F_<=_FACTR*EPSMCH             \n",
      "ARIMA(1, 0, 0)x(1, 0, 1, 12)12 - AIC:10062.800375007537\n",
      "RUNNING THE L-BFGS-B CODE\n",
      "\n",
      "           * * *\n",
      "\n",
      "Machine precision = 2.220D-16\n",
      " N =            3     M =           10\n",
      "\n",
      "At X0         0 variables are exactly at the bounds\n",
      "\n",
      "At iterate    0    f=  3.59962D+00    |proj g|=  4.99871D-02\n"
     ]
    },
    {
     "name": "stderr",
     "output_type": "stream",
     "text": [
      " This problem is unconstrained.\n"
     ]
    },
    {
     "name": "stdout",
     "output_type": "stream",
     "text": [
      "\n",
      "At iterate    5    f=  3.59149D+00    |proj g|=  1.38309D-03\n",
      "\n",
      "           * * *\n",
      "\n",
      "Tit   = total number of iterations\n",
      "Tnf   = total number of function evaluations\n",
      "Tnint = total number of segments explored during Cauchy searches\n",
      "Skip  = number of BFGS updates skipped\n",
      "Nact  = number of active bounds at final generalized Cauchy point\n",
      "Projg = norm of the final projected gradient\n",
      "F     = final function value\n",
      "\n",
      "           * * *\n",
      "\n",
      "   N    Tit     Tnf  Tnint  Skip  Nact     Projg        F\n",
      "    3      7     11      1     0     0   2.361D-07   3.591D+00\n",
      "  F =   3.5914840199366354     \n",
      "\n",
      "CONVERGENCE: NORM_OF_PROJECTED_GRADIENT_<=_PGTOL            \n",
      "ARIMA(1, 0, 0)x(1, 1, 0, 12)12 - AIC:10500.316306254848\n",
      "RUNNING THE L-BFGS-B CODE\n",
      "\n",
      "           * * *\n",
      "\n",
      "Machine precision = 2.220D-16\n",
      " N =            4     M =           10\n",
      "\n",
      "At X0         0 variables are exactly at the bounds\n",
      "\n",
      "At iterate    0    f=  3.61591D+00    |proj g|=  1.73479D-01\n"
     ]
    },
    {
     "name": "stderr",
     "output_type": "stream",
     "text": [
      " This problem is unconstrained.\n"
     ]
    },
    {
     "name": "stdout",
     "output_type": "stream",
     "text": [
      "\n",
      "At iterate    5    f=  3.50285D+00    |proj g|=  1.60122D-01\n",
      "\n",
      "At iterate   10    f=  3.49511D+00    |proj g|=  3.12765D-02\n",
      "\n",
      "At iterate   15    f=  3.47191D+00    |proj g|=  4.68930D-02\n",
      "\n",
      "At iterate   20    f=  3.46988D+00    |proj g|=  3.50456D-04\n",
      "\n",
      "           * * *\n",
      "\n",
      "Tit   = total number of iterations\n",
      "Tnf   = total number of function evaluations\n",
      "Tnint = total number of segments explored during Cauchy searches\n",
      "Skip  = number of BFGS updates skipped\n",
      "Nact  = number of active bounds at final generalized Cauchy point\n",
      "Projg = norm of the final projected gradient\n",
      "F     = final function value\n",
      "\n",
      "           * * *\n",
      "\n",
      "   N    Tit     Tnf  Tnint  Skip  Nact     Projg        F\n",
      "    4     22     35      1     0     0   9.192D-05   3.470D+00\n",
      "  F =   3.4698833928669655     \n",
      "\n",
      "CONVERGENCE: REL_REDUCTION_OF_F_<=_FACTR*EPSMCH             \n",
      "ARIMA(1, 0, 0)x(1, 1, 1, 12)12 - AIC:10146.999273957274\n",
      "RUNNING THE L-BFGS-B CODE\n",
      "\n",
      "           * * *\n",
      "\n",
      "Machine precision = 2.220D-16\n",
      " N =            3     M =           10\n",
      "\n",
      "At X0         0 variables are exactly at the bounds\n",
      "\n",
      "At iterate    0    f=  3.48862D+00    |proj g|=  1.51141D-01\n",
      "\n",
      "At iterate    5    f=  3.40906D+00    |proj g|=  4.01644D-01\n"
     ]
    },
    {
     "name": "stderr",
     "output_type": "stream",
     "text": [
      " This problem is unconstrained.\n"
     ]
    },
    {
     "name": "stdout",
     "output_type": "stream",
     "text": [
      "\n",
      "At iterate   10    f=  3.40899D+00    |proj g|=  2.72127D-01\n",
      "\n",
      "At iterate   15    f=  3.40611D+00    |proj g|=  2.23948D+00\n",
      "\n",
      "At iterate   20    f=  3.39856D+00    |proj g|=  5.94936D-02\n",
      "\n",
      "           * * *\n",
      "\n",
      "Tit   = total number of iterations\n",
      "Tnf   = total number of function evaluations\n",
      "Tnint = total number of segments explored during Cauchy searches\n",
      "Skip  = number of BFGS updates skipped\n",
      "Nact  = number of active bounds at final generalized Cauchy point\n",
      "Projg = norm of the final projected gradient\n",
      "F     = final function value\n",
      "\n",
      "           * * *\n",
      "\n",
      "   N    Tit     Tnf  Tnint  Skip  Nact     Projg        F\n",
      "    3     22     31      1     0     0   2.301D-03   3.399D+00\n",
      "  F =   3.3985605671702808     \n",
      "\n",
      "CONVERGENCE: REL_REDUCTION_OF_F_<=_FACTR*EPSMCH             \n",
      "ARIMA(1, 0, 1)x(0, 0, 0, 12)12 - AIC:9936.593977271561\n",
      "RUNNING THE L-BFGS-B CODE\n",
      "\n",
      "           * * *\n",
      "\n",
      "Machine precision = 2.220D-16\n",
      " N =            4     M =           10\n",
      "\n",
      "At X0         0 variables are exactly at the bounds\n",
      "\n",
      "At iterate    0    f=  3.74428D+00    |proj g|=  8.08889D-01\n"
     ]
    },
    {
     "name": "stderr",
     "output_type": "stream",
     "text": [
      " This problem is unconstrained.\n"
     ]
    },
    {
     "name": "stdout",
     "output_type": "stream",
     "text": [
      "\n",
      "At iterate    5    f=  3.41813D+00    |proj g|=  2.20849D+00\n",
      "\n",
      "At iterate   10    f=  3.36330D+00    |proj g|=  3.48477D-01\n",
      "\n",
      "At iterate   15    f=  3.34483D+00    |proj g|=  3.23344D+00\n",
      "\n",
      "At iterate   20    f=  3.34382D+00    |proj g|=  3.34724D-02\n",
      "\n",
      "At iterate   25    f=  3.33743D+00    |proj g|=  7.54577D+00\n",
      "\n",
      "At iterate   30    f=  3.32282D+00    |proj g|=  4.60596D-02\n",
      "\n",
      "At iterate   35    f=  3.32104D+00    |proj g|=  3.59360D-02\n",
      "\n",
      "           * * *\n",
      "\n",
      "Tit   = total number of iterations\n",
      "Tnf   = total number of function evaluations\n",
      "Tnint = total number of segments explored during Cauchy searches\n",
      "Skip  = number of BFGS updates skipped\n",
      "Nact  = number of active bounds at final generalized Cauchy point\n",
      "Projg = norm of the final projected gradient\n",
      "F     = final function value\n",
      "\n",
      "           * * *\n",
      "\n",
      "   N    Tit     Tnf  Tnint  Skip  Nact     Projg        F\n",
      "    4     38     65      1     0     0   6.095D-03   3.321D+00\n",
      "  F =   3.3210327373175055     \n",
      "\n",
      "CONVERGENCE: REL_REDUCTION_OF_F_<=_FACTR*EPSMCH             \n",
      "ARIMA(1, 0, 1)x(0, 0, 1, 12)12 - AIC:9712.05765844175\n",
      "RUNNING THE L-BFGS-B CODE\n",
      "\n",
      "           * * *\n",
      "\n",
      "Machine precision = 2.220D-16\n",
      " N =            3     M =           10\n",
      "\n",
      "At X0         0 variables are exactly at the bounds\n",
      "\n",
      "At iterate    0    f=  3.63672D+00    |proj g|=  1.11876D-01\n"
     ]
    },
    {
     "name": "stderr",
     "output_type": "stream",
     "text": [
      "\n",
      " Warning:  more than 10 function and gradient\n",
      "   evaluations in the last line search.  Termination\n",
      "   may possibly be caused by a bad search direction.\n",
      " This problem is unconstrained.\n"
     ]
    },
    {
     "name": "stdout",
     "output_type": "stream",
     "text": [
      "\n",
      "At iterate    5    f=  3.56928D+00    |proj g|=  2.70649D-01\n",
      "\n",
      "At iterate   10    f=  3.55816D+00    |proj g|=  4.00182D-01\n",
      "\n",
      "At iterate   15    f=  3.55046D+00    |proj g|=  8.05545D-03\n",
      "\n",
      "           * * *\n",
      "\n",
      "Tit   = total number of iterations\n",
      "Tnf   = total number of function evaluations\n",
      "Tnint = total number of segments explored during Cauchy searches\n",
      "Skip  = number of BFGS updates skipped\n",
      "Nact  = number of active bounds at final generalized Cauchy point\n",
      "Projg = norm of the final projected gradient\n",
      "F     = final function value\n",
      "\n",
      "           * * *\n",
      "\n",
      "   N    Tit     Tnf  Tnint  Skip  Nact     Projg        F\n",
      "    3     18     37      1     0     0   2.663D-06   3.550D+00\n",
      "  F =   3.5504505301686526     \n",
      "\n",
      "CONVERGENCE: NORM_OF_PROJECTED_GRADIENT_<=_PGTOL            \n",
      "ARIMA(1, 0, 1)x(0, 1, 0, 12)12 - AIC:10380.416449152803\n",
      "RUNNING THE L-BFGS-B CODE\n",
      "\n",
      "           * * *\n",
      "\n",
      "Machine precision = 2.220D-16\n",
      " N =            4     M =           10\n",
      "\n",
      "At X0         0 variables are exactly at the bounds\n",
      "\n",
      "At iterate    0    f=  3.57224D+00    |proj g|=  1.10169D-01\n"
     ]
    },
    {
     "name": "stderr",
     "output_type": "stream",
     "text": [
      " This problem is unconstrained.\n"
     ]
    },
    {
     "name": "stdout",
     "output_type": "stream",
     "text": [
      "\n",
      "At iterate    5    f=  3.46990D+00    |proj g|=  1.15573D-01\n",
      "\n",
      "At iterate   10    f=  3.40011D+00    |proj g|=  1.13748D+00\n",
      "\n",
      "At iterate   15    f=  3.38504D+00    |proj g|=  3.84952D-02\n",
      "\n",
      "At iterate   20    f=  3.36475D+00    |proj g|=  2.13752D-01\n",
      "\n",
      "At iterate   25    f=  3.36398D+00    |proj g|=  2.17502D-05\n",
      "\n",
      "           * * *\n",
      "\n",
      "Tit   = total number of iterations\n",
      "Tnf   = total number of function evaluations\n",
      "Tnint = total number of segments explored during Cauchy searches\n",
      "Skip  = number of BFGS updates skipped\n",
      "Nact  = number of active bounds at final generalized Cauchy point\n",
      "Projg = norm of the final projected gradient\n",
      "F     = final function value\n",
      "\n",
      "           * * *\n",
      "\n",
      "   N    Tit     Tnf  Tnint  Skip  Nact     Projg        F\n",
      "    4     25     48      1     0     0   2.175D-05   3.364D+00\n",
      "  F =   3.3639829788582225     \n",
      "\n",
      "CONVERGENCE: REL_REDUCTION_OF_F_<=_FACTR*EPSMCH             \n",
      "ARIMA(1, 0, 1)x(0, 1, 1, 12)12 - AIC:9837.558264223726\n",
      "RUNNING THE L-BFGS-B CODE\n",
      "\n",
      "           * * *\n",
      "\n",
      "Machine precision = 2.220D-16\n",
      " N =            4     M =           10\n",
      "\n",
      "At X0         0 variables are exactly at the bounds\n",
      "\n",
      "At iterate    0    f=  4.03943D+00    |proj g|=  1.05664D+00\n"
     ]
    },
    {
     "name": "stderr",
     "output_type": "stream",
     "text": [
      " This problem is unconstrained.\n"
     ]
    },
    {
     "name": "stdout",
     "output_type": "stream",
     "text": [
      "\n",
      "At iterate    5    f=  3.59868D+00    |proj g|=  1.03847D+00\n",
      "\n",
      "At iterate   10    f=  3.45336D+00    |proj g|=  7.84346D-01\n",
      "\n",
      "At iterate   15    f=  3.39260D+00    |proj g|=  8.58841D-02\n",
      "\n",
      "At iterate   20    f=  3.38918D+00    |proj g|=  1.19719D+00\n",
      "\n",
      "At iterate   25    f=  3.36815D+00    |proj g|=  1.84204D+00\n",
      "\n",
      "At iterate   30    f=  3.36741D+00    |proj g|=  1.82410D-02\n",
      "\n",
      "           * * *\n",
      "\n",
      "Tit   = total number of iterations\n",
      "Tnf   = total number of function evaluations\n",
      "Tnint = total number of segments explored during Cauchy searches\n",
      "Skip  = number of BFGS updates skipped\n",
      "Nact  = number of active bounds at final generalized Cauchy point\n",
      "Projg = norm of the final projected gradient\n",
      "F     = final function value\n",
      "\n",
      "           * * *\n",
      "\n",
      "   N    Tit     Tnf  Tnint  Skip  Nact     Projg        F\n",
      "    4     33     49      1     0     0   1.677D-06   3.367D+00\n",
      "  F =   3.3674116858014886     \n",
      "\n",
      "CONVERGENCE: NORM_OF_PROJECTED_GRADIENT_<=_PGTOL            \n",
      "ARIMA(1, 0, 1)x(1, 0, 0, 12)12 - AIC:9847.57694591195\n",
      "RUNNING THE L-BFGS-B CODE\n",
      "\n",
      "           * * *\n",
      "\n",
      "Machine precision = 2.220D-16\n",
      " N =            5     M =           10\n",
      "\n",
      "At X0         0 variables are exactly at the bounds\n",
      "\n",
      "At iterate    0    f=  3.81893D+00    |proj g|=  8.34864D-01\n"
     ]
    },
    {
     "name": "stderr",
     "output_type": "stream",
     "text": [
      " This problem is unconstrained.\n"
     ]
    },
    {
     "name": "stdout",
     "output_type": "stream",
     "text": [
      "\n",
      "At iterate    5    f=  3.43525D+00    |proj g|=  1.52714D+00\n",
      "\n",
      "At iterate   10    f=  3.35170D+00    |proj g|=  6.46605D-01\n",
      "\n",
      "At iterate   15    f=  3.32127D+00    |proj g|=  7.90754D+00\n",
      "\n",
      "At iterate   20    f=  3.31185D+00    |proj g|=  1.40712D-01\n",
      "\n",
      "At iterate   25    f=  3.30743D+00    |proj g|=  1.34911D+00\n",
      "\n",
      "At iterate   30    f=  3.30675D+00    |proj g|=  4.17228D-01\n",
      "\n",
      "At iterate   35    f=  3.28226D+00    |proj g|=  3.32517D+00\n",
      "\n",
      "At iterate   40    f=  3.27478D+00    |proj g|=  5.96818D-02\n",
      "\n",
      "At iterate   45    f=  3.27474D+00    |proj g|=  1.95870D-02\n"
     ]
    },
    {
     "name": "stderr",
     "output_type": "stream",
     "text": [
      "\n",
      " Bad direction in the line search;\n",
      "   refresh the lbfgs memory and restart the iteration.\n"
     ]
    },
    {
     "name": "stdout",
     "output_type": "stream",
     "text": [
      "\n",
      "           * * *\n",
      "\n",
      "Tit   = total number of iterations\n",
      "Tnf   = total number of function evaluations\n",
      "Tnint = total number of segments explored during Cauchy searches\n",
      "Skip  = number of BFGS updates skipped\n",
      "Nact  = number of active bounds at final generalized Cauchy point\n",
      "Projg = norm of the final projected gradient\n",
      "F     = final function value\n",
      "\n",
      "           * * *\n",
      "\n",
      "   N    Tit     Tnf  Tnint  Skip  Nact     Projg        F\n",
      "    5     49    109      2     0     0   1.715D-04   3.275D+00\n",
      "  F =   3.2747393769706488     \n",
      "\n",
      "ABNORMAL_TERMINATION_IN_LNSRCH                              \n"
     ]
    },
    {
     "name": "stderr",
     "output_type": "stream",
     "text": [
      "\n",
      " Line search cannot locate an adequate point after MAXLS\n",
      "  function and gradient evaluations.\n",
      "  Previous x, f and g restored.\n",
      " Possible causes: 1 error in function or gradient evaluation;\n",
      "                  2 rounding error dominate computation.\n"
     ]
    },
    {
     "name": "stdout",
     "output_type": "stream",
     "text": [
      "ARIMA(1, 0, 1)x(1, 0, 1, 12)12 - AIC:9578.788459508236\n",
      "RUNNING THE L-BFGS-B CODE\n",
      "\n",
      "           * * *\n",
      "\n",
      "Machine precision = 2.220D-16\n",
      " N =            4     M =           10\n",
      "\n",
      "At X0         0 variables are exactly at the bounds\n",
      "\n",
      "At iterate    0    f=  3.58951D+00    |proj g|=  8.45616D-02\n"
     ]
    },
    {
     "name": "stderr",
     "output_type": "stream",
     "text": [
      " This problem is unconstrained.\n"
     ]
    },
    {
     "name": "stdout",
     "output_type": "stream",
     "text": [
      "\n",
      "At iterate    5    f=  3.58438D+00    |proj g|=  1.61835D-02\n",
      "\n",
      "At iterate   10    f=  3.58085D+00    |proj g|=  9.61321D-03\n",
      "\n",
      "           * * *\n",
      "\n",
      "Tit   = total number of iterations\n",
      "Tnf   = total number of function evaluations\n",
      "Tnint = total number of segments explored during Cauchy searches\n",
      "Skip  = number of BFGS updates skipped\n",
      "Nact  = number of active bounds at final generalized Cauchy point\n",
      "Projg = norm of the final projected gradient\n",
      "F     = final function value\n",
      "\n",
      "           * * *\n",
      "\n",
      "   N    Tit     Tnf  Tnint  Skip  Nact     Projg        F\n",
      "    4     14     16      1     0     0   1.718D-06   3.581D+00\n",
      "  F =   3.5808053890192517     \n",
      "\n",
      "CONVERGENCE: NORM_OF_PROJECTED_GRADIENT_<=_PGTOL            \n",
      "ARIMA(1, 0, 1)x(1, 1, 0, 12)12 - AIC:10471.113346714254\n",
      "RUNNING THE L-BFGS-B CODE\n",
      "\n",
      "           * * *\n",
      "\n",
      "Machine precision = 2.220D-16\n",
      " N =            5     M =           10\n",
      "\n",
      "At X0         0 variables are exactly at the bounds\n",
      "\n",
      "At iterate    0    f=  3.58850D+00    |proj g|=  3.41469D-02\n"
     ]
    },
    {
     "name": "stderr",
     "output_type": "stream",
     "text": [
      " This problem is unconstrained.\n"
     ]
    },
    {
     "name": "stdout",
     "output_type": "stream",
     "text": [
      "\n",
      "At iterate    5    f=  3.50549D+00    |proj g|=  8.86241D-02\n",
      "  ys=-3.112E-03  -gs= 1.596E-02 BFGS update SKIPPED\n",
      "\n",
      "At iterate   10    f=  3.46589D+00    |proj g|=  1.41299D-01\n",
      "\n",
      "At iterate   15    f=  3.44545D+00    |proj g|=  1.20531D-01\n",
      "\n",
      "At iterate   20    f=  3.43312D+00    |proj g|=  1.63226D-01\n",
      "\n",
      "At iterate   25    f=  3.43093D+00    |proj g|=  5.23480D-02\n",
      "\n",
      "At iterate   30    f=  3.43052D+00    |proj g|=  1.59449D-04\n",
      "\n",
      "           * * *\n",
      "\n",
      "Tit   = total number of iterations\n",
      "Tnf   = total number of function evaluations\n",
      "Tnint = total number of segments explored during Cauchy searches\n",
      "Skip  = number of BFGS updates skipped\n",
      "Nact  = number of active bounds at final generalized Cauchy point\n",
      "Projg = norm of the final projected gradient\n",
      "F     = final function value\n",
      "\n",
      "           * * *\n",
      "\n",
      "   N    Tit     Tnf  Tnint  Skip  Nact     Projg        F\n",
      "    5     31     56      1     1     0   1.244D-04   3.431D+00\n",
      "  F =   3.4305248976889566     \n",
      "\n",
      "CONVERGENCE: REL_REDUCTION_OF_F_<=_FACTR*EPSMCH             \n",
      "ARIMA(1, 0, 1)x(1, 1, 1, 12)12 - AIC:10033.993751047132\n",
      "RUNNING THE L-BFGS-B CODE\n",
      "\n",
      "           * * *\n",
      "\n",
      "Machine precision = 2.220D-16\n",
      " N =            2     M =           10\n",
      "\n",
      "At X0         0 variables are exactly at the bounds\n",
      "\n",
      "At iterate    0    f=  3.51482D+00    |proj g|=  5.63052D-06\n",
      "\n",
      "           * * *\n",
      "\n",
      "Tit   = total number of iterations\n",
      "Tnf   = total number of function evaluations\n",
      "Tnint = total number of segments explored during Cauchy searches\n",
      "Skip  = number of BFGS updates skipped\n",
      "Nact  = number of active bounds at final generalized Cauchy point\n",
      "Projg = norm of the final projected gradient\n",
      "F     = final function value\n",
      "\n",
      "           * * *\n",
      "\n",
      "   N    Tit     Tnf  Tnint  Skip  Nact     Projg        F\n",
      "    2      0      1      0     0     0   5.631D-06   3.515D+00\n",
      "  F =   3.5148242054553118     \n",
      "\n",
      "CONVERGENCE: NORM_OF_PROJECTED_GRADIENT_<=_PGTOL            \n",
      "ARIMA(1, 1, 0)x(0, 0, 0, 12)12 - AIC:10274.316328340421\n",
      "RUNNING THE L-BFGS-B CODE\n",
      "\n",
      "           * * *\n",
      "\n",
      "Machine precision = 2.220D-16\n",
      " N =            3     M =           10\n",
      "\n",
      "At X0         0 variables are exactly at the bounds\n",
      "\n",
      "At iterate    0    f=  3.48426D+00    |proj g|=  1.73789D-01\n"
     ]
    },
    {
     "name": "stderr",
     "output_type": "stream",
     "text": [
      " This problem is unconstrained.\n",
      " This problem is unconstrained.\n"
     ]
    },
    {
     "name": "stdout",
     "output_type": "stream",
     "text": [
      "\n",
      "At iterate    5    f=  3.34684D+00    |proj g|=  2.96195D-02\n",
      "\n",
      "At iterate   10    f=  3.32987D+00    |proj g|=  5.33326D-05\n",
      "\n",
      "           * * *\n",
      "\n",
      "Tit   = total number of iterations\n",
      "Tnf   = total number of function evaluations\n",
      "Tnint = total number of segments explored during Cauchy searches\n",
      "Skip  = number of BFGS updates skipped\n",
      "Nact  = number of active bounds at final generalized Cauchy point\n",
      "Projg = norm of the final projected gradient\n",
      "F     = final function value\n",
      "\n",
      "           * * *\n",
      "\n",
      "   N    Tit     Tnf  Tnint  Skip  Nact     Projg        F\n",
      "    3     11     20      1     0     0   1.962D-05   3.330D+00\n",
      "  F =   3.3298691621649077     \n",
      "\n",
      "CONVERGENCE: REL_REDUCTION_OF_F_<=_FACTR*EPSMCH             \n",
      "ARIMA(1, 1, 0)x(0, 0, 1, 12)12 - AIC:9735.87769184586\n",
      "RUNNING THE L-BFGS-B CODE\n",
      "\n",
      "           * * *\n",
      "\n",
      "Machine precision = 2.220D-16\n",
      " N =            2     M =           10\n",
      "\n",
      "At X0         0 variables are exactly at the bounds\n",
      "\n",
      "At iterate    0    f=  3.88769D+00    |proj g|=  5.00235D-06\n",
      "\n",
      "           * * *\n",
      "\n",
      "Tit   = total number of iterations\n",
      "Tnf   = total number of function evaluations\n",
      "Tnint = total number of segments explored during Cauchy searches\n",
      "Skip  = number of BFGS updates skipped\n",
      "Nact  = number of active bounds at final generalized Cauchy point\n",
      "Projg = norm of the final projected gradient\n",
      "F     = final function value\n",
      "\n",
      "           * * *\n",
      "\n",
      "   N    Tit     Tnf  Tnint  Skip  Nact     Projg        F\n",
      "    2      0      1      0     0     0   5.002D-06   3.888D+00\n",
      "  F =   3.8876939684912113     \n",
      "\n",
      "CONVERGENCE: NORM_OF_PROJECTED_GRADIENT_<=_PGTOL            \n",
      "ARIMA(1, 1, 0)x(0, 1, 0, 12)12 - AIC:11363.84177593132\n",
      "RUNNING THE L-BFGS-B CODE\n",
      "\n",
      "           * * *\n",
      "\n",
      "Machine precision = 2.220D-16\n",
      " N =            3     M =           10\n",
      "\n",
      "At X0         0 variables are exactly at the bounds\n",
      "\n",
      "At iterate    0    f=  3.66963D+00    |proj g|=  2.21680D-01\n"
     ]
    },
    {
     "name": "stderr",
     "output_type": "stream",
     "text": [
      " This problem is unconstrained.\n",
      " This problem is unconstrained.\n"
     ]
    },
    {
     "name": "stdout",
     "output_type": "stream",
     "text": [
      "\n",
      "At iterate    5    f=  3.59315D+00    |proj g|=  4.28586D-02\n",
      "\n",
      "At iterate   10    f=  3.48363D+00    |proj g|=  9.00706D-02\n",
      "\n",
      "At iterate   15    f=  3.48049D+00    |proj g|=  2.39169D-06\n",
      "\n",
      "           * * *\n",
      "\n",
      "Tit   = total number of iterations\n",
      "Tnf   = total number of function evaluations\n",
      "Tnint = total number of segments explored during Cauchy searches\n",
      "Skip  = number of BFGS updates skipped\n",
      "Nact  = number of active bounds at final generalized Cauchy point\n",
      "Projg = norm of the final projected gradient\n",
      "F     = final function value\n",
      "\n",
      "           * * *\n",
      "\n",
      "   N    Tit     Tnf  Tnint  Skip  Nact     Projg        F\n",
      "    3     15     22      1     0     0   2.392D-06   3.480D+00\n",
      "  F =   3.4804943891034674     \n",
      "\n",
      "CONVERGENCE: NORM_OF_PROJECTED_GRADIENT_<=_PGTOL            \n",
      "ARIMA(1, 1, 0)x(0, 1, 1, 12)12 - AIC:10176.004604960332\n",
      "RUNNING THE L-BFGS-B CODE\n",
      "\n",
      "           * * *\n",
      "\n",
      "Machine precision = 2.220D-16\n",
      " N =            3     M =           10\n",
      "\n",
      "At X0         0 variables are exactly at the bounds\n",
      "\n",
      "At iterate    0    f=  3.48826D+00    |proj g|=  1.84133D-01\n",
      "\n",
      "At iterate    5    f=  3.46511D+00    |proj g|=  6.78930D-03\n"
     ]
    },
    {
     "name": "stderr",
     "output_type": "stream",
     "text": [
      " This problem is unconstrained.\n"
     ]
    },
    {
     "name": "stdout",
     "output_type": "stream",
     "text": [
      "\n",
      "           * * *\n",
      "\n",
      "Tit   = total number of iterations\n",
      "Tnf   = total number of function evaluations\n",
      "Tnint = total number of segments explored during Cauchy searches\n",
      "Skip  = number of BFGS updates skipped\n",
      "Nact  = number of active bounds at final generalized Cauchy point\n",
      "Projg = norm of the final projected gradient\n",
      "F     = final function value\n",
      "\n",
      "           * * *\n",
      "\n",
      "   N    Tit     Tnf  Tnint  Skip  Nact     Projg        F\n",
      "    3      9     11      1     0     0   1.004D-06   3.465D+00\n",
      "  F =   3.4649495146017757     \n",
      "\n",
      "CONVERGENCE: NORM_OF_PROJECTED_GRADIENT_<=_PGTOL            \n",
      "ARIMA(1, 1, 0)x(1, 0, 0, 12)12 - AIC:10130.582481666388\n",
      "RUNNING THE L-BFGS-B CODE\n",
      "\n",
      "           * * *\n",
      "\n",
      "Machine precision = 2.220D-16\n",
      " N =            4     M =           10\n",
      "\n",
      "At X0         0 variables are exactly at the bounds\n",
      "\n",
      "At iterate    0    f=  3.48427D+00    |proj g|=  1.73501D-01\n"
     ]
    },
    {
     "name": "stderr",
     "output_type": "stream",
     "text": [
      " This problem is unconstrained.\n"
     ]
    },
    {
     "name": "stdout",
     "output_type": "stream",
     "text": [
      "\n",
      "At iterate    5    f=  3.38059D+00    |proj g|=  2.27402D-01\n",
      "\n",
      "At iterate   10    f=  3.33927D+00    |proj g|=  5.09658D-02\n",
      "\n",
      "At iterate   15    f=  3.32220D+00    |proj g|=  9.34370D-04\n",
      "\n",
      "           * * *\n",
      "\n",
      "Tit   = total number of iterations\n",
      "Tnf   = total number of function evaluations\n",
      "Tnint = total number of segments explored during Cauchy searches\n",
      "Skip  = number of BFGS updates skipped\n",
      "Nact  = number of active bounds at final generalized Cauchy point\n",
      "Projg = norm of the final projected gradient\n",
      "F     = final function value\n",
      "\n",
      "           * * *\n",
      "\n",
      "   N    Tit     Tnf  Tnint  Skip  Nact     Projg        F\n",
      "    4     18     23      1     0     0   2.181D-06   3.322D+00\n",
      "  F =   3.3221971581847338     \n",
      "\n",
      "CONVERGENCE: NORM_OF_PROJECTED_GRADIENT_<=_PGTOL            \n",
      "ARIMA(1, 1, 0)x(1, 0, 1, 12)12 - AIC:9715.460096215793\n",
      "RUNNING THE L-BFGS-B CODE\n",
      "\n",
      "           * * *\n",
      "\n",
      "Machine precision = 2.220D-16\n",
      " N =            3     M =           10\n",
      "\n",
      "At X0         0 variables are exactly at the bounds\n",
      "\n",
      "At iterate    0    f=  3.76289D+00    |proj g|=  6.48862D-02\n",
      "\n",
      "At iterate    5    f=  3.75195D+00    |proj g|=  6.46229D-02\n"
     ]
    },
    {
     "name": "stderr",
     "output_type": "stream",
     "text": [
      " This problem is unconstrained.\n"
     ]
    },
    {
     "name": "stdout",
     "output_type": "stream",
     "text": [
      "\n",
      "At iterate   10    f=  3.74927D+00    |proj g|=  4.36451D-07\n",
      "\n",
      "           * * *\n",
      "\n",
      "Tit   = total number of iterations\n",
      "Tnf   = total number of function evaluations\n",
      "Tnint = total number of segments explored during Cauchy searches\n",
      "Skip  = number of BFGS updates skipped\n",
      "Nact  = number of active bounds at final generalized Cauchy point\n",
      "Projg = norm of the final projected gradient\n",
      "F     = final function value\n",
      "\n",
      "           * * *\n",
      "\n",
      "   N    Tit     Tnf  Tnint  Skip  Nact     Projg        F\n",
      "    3     10     12      1     0     0   4.365D-07   3.749D+00\n",
      "  F =   3.7492659983464320     \n",
      "\n",
      "CONVERGENCE: NORM_OF_PROJECTED_GRADIENT_<=_PGTOL            \n",
      "ARIMA(1, 1, 0)x(1, 1, 0, 12)12 - AIC:10961.355247168274\n",
      "RUNNING THE L-BFGS-B CODE\n",
      "\n",
      "           * * *\n",
      "\n",
      "Machine precision = 2.220D-16\n",
      " N =            4     M =           10\n",
      "\n",
      "At X0         0 variables are exactly at the bounds\n",
      "\n",
      "At iterate    0    f=  3.74406D+00    |proj g|=  1.73842D-01\n"
     ]
    },
    {
     "name": "stderr",
     "output_type": "stream",
     "text": [
      " This problem is unconstrained.\n"
     ]
    },
    {
     "name": "stdout",
     "output_type": "stream",
     "text": [
      "\n",
      "At iterate    5    f=  3.58404D+00    |proj g|=  4.46193D-02\n",
      "\n",
      "At iterate   10    f=  3.52797D+00    |proj g|=  2.54871D-01\n",
      "\n",
      "At iterate   15    f=  3.45980D+00    |proj g|=  1.76529D-03\n",
      "\n",
      "           * * *\n",
      "\n",
      "Tit   = total number of iterations\n",
      "Tnf   = total number of function evaluations\n",
      "Tnint = total number of segments explored during Cauchy searches\n",
      "Skip  = number of BFGS updates skipped\n",
      "Nact  = number of active bounds at final generalized Cauchy point\n",
      "Projg = norm of the final projected gradient\n",
      "F     = final function value\n",
      "\n",
      "           * * *\n",
      "\n",
      "   N    Tit     Tnf  Tnint  Skip  Nact     Projg        F\n",
      "    4     19     30      1     0     0   1.156D-05   3.460D+00\n",
      "  F =   3.4597947727416782     \n",
      "\n",
      "CONVERGENCE: REL_REDUCTION_OF_F_<=_FACTR*EPSMCH             \n",
      "ARIMA(1, 1, 0)x(1, 1, 1, 12)12 - AIC:10117.520325951184\n",
      "RUNNING THE L-BFGS-B CODE\n",
      "\n",
      "           * * *\n",
      "\n",
      "Machine precision = 2.220D-16\n",
      " N =            3     M =           10\n",
      "\n",
      "At X0         0 variables are exactly at the bounds\n",
      "\n",
      "At iterate    0    f=  3.46073D+00    |proj g|=  2.51225D-01\n",
      "\n",
      "At iterate    5    f=  3.38697D+00    |proj g|=  3.47899D-02\n"
     ]
    },
    {
     "name": "stderr",
     "output_type": "stream",
     "text": [
      " This problem is unconstrained.\n"
     ]
    },
    {
     "name": "stdout",
     "output_type": "stream",
     "text": [
      "\n",
      "At iterate   10    f=  3.37624D+00    |proj g|=  6.03334D-02\n",
      "\n",
      "           * * *\n",
      "\n",
      "Tit   = total number of iterations\n",
      "Tnf   = total number of function evaluations\n",
      "Tnint = total number of segments explored during Cauchy searches\n",
      "Skip  = number of BFGS updates skipped\n",
      "Nact  = number of active bounds at final generalized Cauchy point\n",
      "Projg = norm of the final projected gradient\n",
      "F     = final function value\n",
      "\n",
      "           * * *\n",
      "\n",
      "   N    Tit     Tnf  Tnint  Skip  Nact     Projg        F\n",
      "    3     14     19      1     0     0   5.811D-07   3.376D+00\n",
      "  F =   3.3759675718007132     \n",
      "\n",
      "CONVERGENCE: NORM_OF_PROJECTED_GRADIENT_<=_PGTOL            \n",
      "ARIMA(1, 1, 1)x(0, 0, 0, 12)12 - AIC:9870.577244801683\n",
      "RUNNING THE L-BFGS-B CODE\n",
      "\n",
      "           * * *\n",
      "\n",
      "Machine precision = 2.220D-16\n",
      " N =            4     M =           10\n",
      "\n",
      "At X0         0 variables are exactly at the bounds\n",
      "\n",
      "At iterate    0    f=  3.43282D+00    |proj g|=  2.51716D-01\n"
     ]
    },
    {
     "name": "stderr",
     "output_type": "stream",
     "text": [
      " This problem is unconstrained.\n"
     ]
    },
    {
     "name": "stdout",
     "output_type": "stream",
     "text": [
      "\n",
      "At iterate    5    f=  3.35323D+00    |proj g|=  3.21690D-02\n",
      "\n",
      "At iterate   10    f=  3.32118D+00    |proj g|=  1.16773D-01\n",
      "\n",
      "At iterate   15    f=  3.31595D+00    |proj g|=  3.16056D-02\n",
      "\n",
      "At iterate   20    f=  3.31546D+00    |proj g|=  1.11284D-06\n",
      "\n",
      "           * * *\n",
      "\n",
      "Tit   = total number of iterations\n",
      "Tnf   = total number of function evaluations\n",
      "Tnint = total number of segments explored during Cauchy searches\n",
      "Skip  = number of BFGS updates skipped\n",
      "Nact  = number of active bounds at final generalized Cauchy point\n",
      "Projg = norm of the final projected gradient\n",
      "F     = final function value\n",
      "\n",
      "           * * *\n",
      "\n",
      "   N    Tit     Tnf  Tnint  Skip  Nact     Projg        F\n",
      "    4     20     27      1     0     0   1.113D-06   3.315D+00\n",
      "  F =   3.3154621072587638     \n",
      "\n",
      "CONVERGENCE: NORM_OF_PROJECTED_GRADIENT_<=_PGTOL            \n",
      "ARIMA(1, 1, 1)x(0, 0, 1, 12)12 - AIC:9695.780277410107\n",
      "RUNNING THE L-BFGS-B CODE\n",
      "\n",
      "           * * *\n",
      "\n",
      "Machine precision = 2.220D-16\n",
      " N =            3     M =           10\n",
      "\n",
      "At X0         0 variables are exactly at the bounds\n",
      "\n",
      "At iterate    0    f=  3.85506D+00    |proj g|=  2.03038D-01\n"
     ]
    },
    {
     "name": "stderr",
     "output_type": "stream",
     "text": [
      " This problem is unconstrained.\n"
     ]
    },
    {
     "name": "stdout",
     "output_type": "stream",
     "text": [
      "\n",
      "At iterate    5    f=  3.72960D+00    |proj g|=  3.58005D-01\n",
      "\n",
      "At iterate   10    f=  3.72050D+00    |proj g|=  2.43173D-02\n",
      "\n",
      "At iterate   15    f=  3.70726D+00    |proj g|=  9.96162D-02\n",
      "\n",
      "At iterate   20    f=  3.69334D+00    |proj g|=  1.13399D-04\n",
      "\n",
      "           * * *\n",
      "\n",
      "Tit   = total number of iterations\n",
      "Tnf   = total number of function evaluations\n",
      "Tnint = total number of segments explored during Cauchy searches\n",
      "Skip  = number of BFGS updates skipped\n",
      "Nact  = number of active bounds at final generalized Cauchy point\n",
      "Projg = norm of the final projected gradient\n",
      "F     = final function value\n",
      "\n",
      "           * * *\n",
      "\n",
      "   N    Tit     Tnf  Tnint  Skip  Nact     Projg        F\n",
      "    3     21     31      1     0     0   3.310D-07   3.693D+00\n",
      "  F =   3.6933407075013118     \n",
      "\n",
      "CONVERGENCE: NORM_OF_PROJECTED_GRADIENT_<=_PGTOL            \n",
      "ARIMA(1, 1, 1)x(0, 1, 0, 12)12 - AIC:10797.941547318833\n",
      "RUNNING THE L-BFGS-B CODE\n",
      "\n",
      "           * * *\n",
      "\n",
      "Machine precision = 2.220D-16\n",
      " N =            4     M =           10\n",
      "\n",
      "At X0         0 variables are exactly at the bounds\n",
      "\n",
      "At iterate    0    f=  3.64509D+00    |proj g|=  2.15947D-01\n"
     ]
    },
    {
     "name": "stderr",
     "output_type": "stream",
     "text": [
      " This problem is unconstrained.\n"
     ]
    },
    {
     "name": "stdout",
     "output_type": "stream",
     "text": [
      "\n",
      "At iterate    5    f=  3.52281D+00    |proj g|=  1.53711D-01\n",
      "\n",
      "At iterate   10    f=  3.43478D+00    |proj g|=  4.19555D-01\n",
      "\n",
      "At iterate   15    f=  3.34373D+00    |proj g|=  5.38010D-02\n",
      "\n",
      "At iterate   20    f=  3.34358D+00    |proj g|=  4.56417D-06\n",
      "\n",
      "           * * *\n",
      "\n",
      "Tit   = total number of iterations\n",
      "Tnf   = total number of function evaluations\n",
      "Tnint = total number of segments explored during Cauchy searches\n",
      "Skip  = number of BFGS updates skipped\n",
      "Nact  = number of active bounds at final generalized Cauchy point\n",
      "Projg = norm of the final projected gradient\n",
      "F     = final function value\n",
      "\n",
      "           * * *\n",
      "\n",
      "   N    Tit     Tnf  Tnint  Skip  Nact     Projg        F\n",
      "    4     20     28      1     0     0   4.564D-06   3.344D+00\n",
      "  F =   3.3435830210649384     \n",
      "\n",
      "CONVERGENCE: NORM_OF_PROJECTED_GRADIENT_<=_PGTOL            \n",
      "ARIMA(1, 1, 1)x(0, 1, 1, 12)12 - AIC:9777.94958755175\n",
      "RUNNING THE L-BFGS-B CODE\n",
      "\n",
      "           * * *\n",
      "\n",
      "Machine precision = 2.220D-16\n",
      " N =            4     M =           10\n",
      "\n",
      "At X0         0 variables are exactly at the bounds\n",
      "\n",
      "At iterate    0    f=  3.43666D+00    |proj g|=  2.50528D-01\n"
     ]
    },
    {
     "name": "stderr",
     "output_type": "stream",
     "text": [
      " This problem is unconstrained.\n"
     ]
    },
    {
     "name": "stdout",
     "output_type": "stream",
     "text": [
      "\n",
      "At iterate    5    f=  3.36218D+00    |proj g|=  2.45565D-02\n",
      "\n",
      "At iterate   10    f=  3.35166D+00    |proj g|=  4.34441D-02\n",
      "\n",
      "At iterate   15    f=  3.35063D+00    |proj g|=  6.10303D-06\n",
      "\n",
      "           * * *\n",
      "\n",
      "Tit   = total number of iterations\n",
      "Tnf   = total number of function evaluations\n",
      "Tnint = total number of segments explored during Cauchy searches\n",
      "Skip  = number of BFGS updates skipped\n",
      "Nact  = number of active bounds at final generalized Cauchy point\n",
      "Projg = norm of the final projected gradient\n",
      "F     = final function value\n",
      "\n",
      "           * * *\n",
      "\n",
      "   N    Tit     Tnf  Tnint  Skip  Nact     Projg        F\n",
      "    4     15     18      1     0     0   6.103D-06   3.351D+00\n",
      "  F =   3.3506292103911850     \n",
      "\n",
      "CONVERGENCE: NORM_OF_PROJECTED_GRADIENT_<=_PGTOL            \n",
      "ARIMA(1, 1, 1)x(1, 0, 0, 12)12 - AIC:9798.538552763042\n",
      "RUNNING THE L-BFGS-B CODE\n",
      "\n",
      "           * * *\n",
      "\n",
      "Machine precision = 2.220D-16\n",
      " N =            5     M =           10\n",
      "\n",
      "At X0         0 variables are exactly at the bounds\n",
      "\n",
      "At iterate    0    f=  3.43282D+00    |proj g|=  2.51713D-01\n"
     ]
    },
    {
     "name": "stderr",
     "output_type": "stream",
     "text": [
      " This problem is unconstrained.\n"
     ]
    },
    {
     "name": "stdout",
     "output_type": "stream",
     "text": [
      "\n",
      "At iterate    5    f=  3.34973D+00    |proj g|=  1.10188D-01\n",
      "\n",
      "At iterate   10    f=  3.31550D+00    |proj g|=  2.43436D-01\n",
      "\n",
      "At iterate   15    f=  3.27271D+00    |proj g|=  3.22972D-02\n",
      "\n",
      "At iterate   20    f=  3.26648D+00    |proj g|=  3.64841D-02\n",
      "\n",
      "At iterate   25    f=  3.26583D+00    |proj g|=  5.31251D-05\n",
      "\n",
      "           * * *\n",
      "\n",
      "Tit   = total number of iterations\n",
      "Tnf   = total number of function evaluations\n",
      "Tnint = total number of segments explored during Cauchy searches\n",
      "Skip  = number of BFGS updates skipped\n",
      "Nact  = number of active bounds at final generalized Cauchy point\n",
      "Projg = norm of the final projected gradient\n",
      "F     = final function value\n",
      "\n",
      "           * * *\n",
      "\n",
      "   N    Tit     Tnf  Tnint  Skip  Nact     Projg        F\n",
      "    5     26     41      1     0     0   7.689D-06   3.266D+00\n",
      "  F =   3.2658337824457426     \n",
      "\n",
      "CONVERGENCE: NORM_OF_PROJECTED_GRADIENT_<=_PGTOL            \n",
      "ARIMA(1, 1, 1)x(1, 0, 1, 12)12 - AIC:9552.76631230646\n",
      "RUNNING THE L-BFGS-B CODE\n",
      "\n",
      "           * * *\n",
      "\n",
      "Machine precision = 2.220D-16\n",
      " N =            4     M =           10\n",
      "\n",
      "At X0         0 variables are exactly at the bounds\n",
      "\n",
      "At iterate    0    f=  3.74292D+00    |proj g|=  1.48494D-01\n"
     ]
    },
    {
     "name": "stderr",
     "output_type": "stream",
     "text": [
      " This problem is unconstrained.\n"
     ]
    },
    {
     "name": "stdout",
     "output_type": "stream",
     "text": [
      "\n",
      "At iterate    5    f=  3.64685D+00    |proj g|=  1.81964D-01\n",
      "\n",
      "At iterate   10    f=  3.63224D+00    |proj g|=  9.79822D-02\n",
      "\n",
      "At iterate   15    f=  3.58944D+00    |proj g|=  2.56540D-02\n",
      "\n",
      "At iterate   20    f=  3.58941D+00    |proj g|=  1.61280D-06\n",
      "\n",
      "           * * *\n",
      "\n",
      "Tit   = total number of iterations\n",
      "Tnf   = total number of function evaluations\n",
      "Tnint = total number of segments explored during Cauchy searches\n",
      "Skip  = number of BFGS updates skipped\n",
      "Nact  = number of active bounds at final generalized Cauchy point\n",
      "Projg = norm of the final projected gradient\n",
      "F     = final function value\n",
      "\n",
      "           * * *\n",
      "\n",
      "   N    Tit     Tnf  Tnint  Skip  Nact     Projg        F\n",
      "    4     20     25      1     0     0   1.613D-06   3.589D+00\n",
      "  F =   3.5894111115044067     \n",
      "\n",
      "CONVERGENCE: NORM_OF_PROJECTED_GRADIENT_<=_PGTOL            \n",
      "ARIMA(1, 1, 1)x(1, 1, 0, 12)12 - AIC:10496.259267815876\n",
      "RUNNING THE L-BFGS-B CODE\n",
      "\n",
      "           * * *\n",
      "\n",
      "Machine precision = 2.220D-16\n",
      " N =            5     M =           10\n",
      "\n",
      "At X0         0 variables are exactly at the bounds\n",
      "\n",
      "At iterate    0    f=  3.72143D+00    |proj g|=  1.91608D-01\n"
     ]
    },
    {
     "name": "stderr",
     "output_type": "stream",
     "text": [
      " This problem is unconstrained.\n"
     ]
    },
    {
     "name": "stdout",
     "output_type": "stream",
     "text": [
      "\n",
      "At iterate    5    f=  3.53745D+00    |proj g|=  1.10339D-01\n",
      "\n",
      "At iterate   10    f=  3.51287D+00    |proj g|=  9.98830D-02\n",
      "\n",
      "At iterate   15    f=  3.35054D+00    |proj g|=  2.57777D-01\n",
      "\n",
      "At iterate   20    f=  3.34379D+00    |proj g|=  3.16763D-04\n"
     ]
    },
    {
     "name": "stderr",
     "output_type": "stream",
     "text": [
      "\n",
      " Warning:  more than 10 function and gradient\n",
      "   evaluations in the last line search.  Termination\n",
      "   may possibly be caused by a bad search direction.\n"
     ]
    },
    {
     "name": "stdout",
     "output_type": "stream",
     "text": [
      "\n",
      "           * * *\n",
      "\n",
      "Tit   = total number of iterations\n",
      "Tnf   = total number of function evaluations\n",
      "Tnint = total number of segments explored during Cauchy searches\n",
      "Skip  = number of BFGS updates skipped\n",
      "Nact  = number of active bounds at final generalized Cauchy point\n",
      "Projg = norm of the final projected gradient\n",
      "F     = final function value\n",
      "\n",
      "           * * *\n",
      "\n",
      "   N    Tit     Tnf  Tnint  Skip  Nact     Projg        F\n",
      "    5     23     55      1     0     0   2.900D-05   3.344D+00\n",
      "  F =   3.3437884783655876     \n",
      "\n",
      "CONVERGENCE: REL_REDUCTION_OF_F_<=_FACTR*EPSMCH             \n",
      "ARIMA(1, 1, 1)x(1, 1, 1, 12)12 - AIC:9780.549933784247\n"
     ]
    }
   ],
   "source": [
    "for param in pdq:\n",
    "    for param_seasonal in seasonal_pdq:\n",
    "        try:\n",
    "            mod = sm.tsa.statespace.SARIMAX(train,\n",
    "                                            order=param,\n",
    "                                            seasonal_order=param_seasonal,\n",
    "                                            enforce_stationarity=False,\n",
    "                                            enforce_invertibility=False)\n",
    "            results = mod.fit()\n",
    "            print('ARIMA{}x{}12 - AIC:{}'.format(param, param_seasonal, results.aic))\n",
    "        except:\n",
    "            continue\n"
   ]
  },
  {
   "cell_type": "code",
   "execution_count": 59,
   "id": "7c474901-88cd-4f9c-9533-fe0c6e756bf6",
   "metadata": {},
   "outputs": [
    {
     "ename": "TypeError",
     "evalue": "predict() missing 1 required positional argument: 'params'",
     "output_type": "error",
     "traceback": [
      "\u001b[0;31m---------------------------------------------------------------------------\u001b[0m",
      "\u001b[0;31mTypeError\u001b[0m                                 Traceback (most recent call last)",
      "\u001b[0;32m/var/folders/tt/99v8dp0d60sfw82fs51dhr4m0000gn/T/ipykernel_46749/3322192314.py\u001b[0m in \u001b[0;36m<module>\u001b[0;34m\u001b[0m\n\u001b[0;32m----> 1\u001b[0;31m \u001b[0myhat\u001b[0m\u001b[0;34m[\u001b[0m\u001b[0;34m'sarimax'\u001b[0m\u001b[0;34m]\u001b[0m \u001b[0;34m=\u001b[0m \u001b[0mmod\u001b[0m\u001b[0;34m.\u001b[0m\u001b[0mpredict\u001b[0m\u001b[0;34m(\u001b[0m\u001b[0mstart\u001b[0m\u001b[0;34m=\u001b[0m\u001b[0;34m'20170101'\u001b[0m\u001b[0;34m,\u001b[0m \u001b[0mend\u001b[0m\u001b[0;34m=\u001b[0m\u001b[0;34m'20171231'\u001b[0m\u001b[0;34m,\u001b[0m \u001b[0mdynamic\u001b[0m\u001b[0;34m=\u001b[0m\u001b[0;32mTrue\u001b[0m\u001b[0;34m)\u001b[0m\u001b[0;34m\u001b[0m\u001b[0;34m\u001b[0m\u001b[0m\n\u001b[0m\u001b[1;32m      2\u001b[0m \u001b[0myhat\u001b[0m\u001b[0;34m.\u001b[0m\u001b[0mhead\u001b[0m\u001b[0;34m(\u001b[0m\u001b[0;34m)\u001b[0m\u001b[0;34m\u001b[0m\u001b[0;34m\u001b[0m\u001b[0m\n",
      "\u001b[0;31mTypeError\u001b[0m: predict() missing 1 required positional argument: 'params'"
     ]
    }
   ],
   "source": [
    "yhat['sarimax'] = mod.predict(start='20170101', end='20171231', dynamic=True)\n",
    "yhat.head()\n"
   ]
  },
  {
   "cell_type": "code",
   "execution_count": null,
   "id": "87116927-c2ae-47fe-9d7b-c968e2d10f3d",
   "metadata": {},
   "outputs": [],
   "source": []
  }
 ],
 "metadata": {
  "kernelspec": {
   "display_name": "Python 3.9.7 64-bit ('base': conda)",
   "language": "python",
   "name": "python397jvsc74a57bd038cca0c38332a56087b24af0bc80247f4fced29cb4f7f437d91dc159adec9c4e"
  },
  "language_info": {
   "codemirror_mode": {
    "name": "ipython",
    "version": 3
   },
   "file_extension": ".py",
   "mimetype": "text/x-python",
   "name": "python",
   "nbconvert_exporter": "python",
   "pygments_lexer": "ipython3",
   "version": "3.9.7"
  }
 },
 "nbformat": 4,
 "nbformat_minor": 5
}
