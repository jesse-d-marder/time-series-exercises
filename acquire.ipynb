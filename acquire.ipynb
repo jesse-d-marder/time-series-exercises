{
 "cells": [
  {
   "cell_type": "code",
   "execution_count": 1,
   "id": "378880c3-6f27-4541-9b06-436906e4846b",
   "metadata": {},
   "outputs": [],
   "source": [
    "import requests\n",
    "import pandas as pd\n",
    "import acquire"
   ]
  },
  {
   "cell_type": "markdown",
   "id": "c052cadb-e905-4171-9b38-8e08075e1816",
   "metadata": {},
   "source": [
    "# 1. Get all items"
   ]
  },
  {
   "cell_type": "code",
   "execution_count": 2,
   "id": "17459027-98a4-438e-a6a2-b6c833227c49",
   "metadata": {},
   "outputs": [
    {
     "name": "stdout",
     "output_type": "stream",
     "text": [
      "Shape of items dataframe  (50, 6)\n"
     ]
    },
    {
     "data": {
      "text/html": [
       "<div>\n",
       "<style scoped>\n",
       "    .dataframe tbody tr th:only-of-type {\n",
       "        vertical-align: middle;\n",
       "    }\n",
       "\n",
       "    .dataframe tbody tr th {\n",
       "        vertical-align: top;\n",
       "    }\n",
       "\n",
       "    .dataframe thead th {\n",
       "        text-align: right;\n",
       "    }\n",
       "</style>\n",
       "<table border=\"1\" class=\"dataframe\">\n",
       "  <thead>\n",
       "    <tr style=\"text-align: right;\">\n",
       "      <th></th>\n",
       "      <th>item_brand</th>\n",
       "      <th>item_id</th>\n",
       "      <th>item_name</th>\n",
       "      <th>item_price</th>\n",
       "      <th>item_upc12</th>\n",
       "      <th>item_upc14</th>\n",
       "    </tr>\n",
       "  </thead>\n",
       "  <tbody>\n",
       "    <tr>\n",
       "      <th>0</th>\n",
       "      <td>Riceland</td>\n",
       "      <td>1</td>\n",
       "      <td>Riceland American Jazmine Rice</td>\n",
       "      <td>0.84</td>\n",
       "      <td>35200264013</td>\n",
       "      <td>35200264013</td>\n",
       "    </tr>\n",
       "    <tr>\n",
       "      <th>1</th>\n",
       "      <td>Caress</td>\n",
       "      <td>2</td>\n",
       "      <td>Caress Velvet Bliss Ultra Silkening Beauty Bar...</td>\n",
       "      <td>6.44</td>\n",
       "      <td>11111065925</td>\n",
       "      <td>11111065925</td>\n",
       "    </tr>\n",
       "    <tr>\n",
       "      <th>2</th>\n",
       "      <td>Earths Best</td>\n",
       "      <td>3</td>\n",
       "      <td>Earths Best Organic Fruit Yogurt Smoothie Mixe...</td>\n",
       "      <td>2.43</td>\n",
       "      <td>23923330139</td>\n",
       "      <td>23923330139</td>\n",
       "    </tr>\n",
       "    <tr>\n",
       "      <th>3</th>\n",
       "      <td>Boars Head</td>\n",
       "      <td>4</td>\n",
       "      <td>Boars Head Sliced White American Cheese - 120 Ct</td>\n",
       "      <td>3.14</td>\n",
       "      <td>208528800007</td>\n",
       "      <td>208528800007</td>\n",
       "    </tr>\n",
       "    <tr>\n",
       "      <th>4</th>\n",
       "      <td>Back To Nature</td>\n",
       "      <td>5</td>\n",
       "      <td>Back To Nature Gluten Free White Cheddar Rice ...</td>\n",
       "      <td>2.61</td>\n",
       "      <td>759283100036</td>\n",
       "      <td>759283100036</td>\n",
       "    </tr>\n",
       "  </tbody>\n",
       "</table>\n",
       "</div>"
      ],
      "text/plain": [
       "       item_brand  item_id                                          item_name  \\\n",
       "0        Riceland        1                     Riceland American Jazmine Rice   \n",
       "1          Caress        2  Caress Velvet Bliss Ultra Silkening Beauty Bar...   \n",
       "2     Earths Best        3  Earths Best Organic Fruit Yogurt Smoothie Mixe...   \n",
       "3      Boars Head        4   Boars Head Sliced White American Cheese - 120 Ct   \n",
       "4  Back To Nature        5  Back To Nature Gluten Free White Cheddar Rice ...   \n",
       "\n",
       "   item_price    item_upc12    item_upc14  \n",
       "0        0.84   35200264013   35200264013  \n",
       "1        6.44   11111065925   11111065925  \n",
       "2        2.43   23923330139   23923330139  \n",
       "3        3.14  208528800007  208528800007  \n",
       "4        2.61  759283100036  759283100036  "
      ]
     },
     "execution_count": 2,
     "metadata": {},
     "output_type": "execute_result"
    }
   ],
   "source": [
    "domain = 'https://api.data.codeup.com/'\n",
    "endpoint = 'api/v1/items'\n",
    "items_list = []\n",
    "\n",
    "url = domain + endpoint\n",
    "response = requests.get(url)\n",
    "data = response.json()\n",
    "\n",
    "items_list.extend(data['payload']['items'])\n",
    "\n",
    "for page in range(data['payload']['max_page']-1):\n",
    "    url = domain + data['payload']['next_page']\n",
    "    response = requests.get(url)\n",
    "    data = response.json()\n",
    "    \n",
    "    items_list.extend(data['payload']['items'])\n",
    "\n",
    "items = pd.DataFrame(items_list)\n",
    "\n",
    "print(\"Shape of items dataframe \", items.shape)\n",
    "items.head()"
   ]
  },
  {
   "cell_type": "markdown",
   "id": "0ea7f9e3-de6b-437c-a8a8-f9b2eac609a3",
   "metadata": {},
   "source": [
    "# 2. Get all stores information"
   ]
  },
  {
   "cell_type": "code",
   "execution_count": 3,
   "id": "3ee55e9e-5c0f-4381-972c-9f79cf1b98f6",
   "metadata": {},
   "outputs": [
    {
     "name": "stdout",
     "output_type": "stream",
     "text": [
      "Shape of stores df:  (10, 5)\n"
     ]
    },
    {
     "data": {
      "text/html": [
       "<div>\n",
       "<style scoped>\n",
       "    .dataframe tbody tr th:only-of-type {\n",
       "        vertical-align: middle;\n",
       "    }\n",
       "\n",
       "    .dataframe tbody tr th {\n",
       "        vertical-align: top;\n",
       "    }\n",
       "\n",
       "    .dataframe thead th {\n",
       "        text-align: right;\n",
       "    }\n",
       "</style>\n",
       "<table border=\"1\" class=\"dataframe\">\n",
       "  <thead>\n",
       "    <tr style=\"text-align: right;\">\n",
       "      <th></th>\n",
       "      <th>store_address</th>\n",
       "      <th>store_city</th>\n",
       "      <th>store_id</th>\n",
       "      <th>store_state</th>\n",
       "      <th>store_zipcode</th>\n",
       "    </tr>\n",
       "  </thead>\n",
       "  <tbody>\n",
       "    <tr>\n",
       "      <th>0</th>\n",
       "      <td>12125 Alamo Ranch Pkwy</td>\n",
       "      <td>San Antonio</td>\n",
       "      <td>1</td>\n",
       "      <td>TX</td>\n",
       "      <td>78253</td>\n",
       "    </tr>\n",
       "    <tr>\n",
       "      <th>1</th>\n",
       "      <td>9255 FM 471 West</td>\n",
       "      <td>San Antonio</td>\n",
       "      <td>2</td>\n",
       "      <td>TX</td>\n",
       "      <td>78251</td>\n",
       "    </tr>\n",
       "    <tr>\n",
       "      <th>2</th>\n",
       "      <td>2118 Fredericksburg Rdj</td>\n",
       "      <td>San Antonio</td>\n",
       "      <td>3</td>\n",
       "      <td>TX</td>\n",
       "      <td>78201</td>\n",
       "    </tr>\n",
       "    <tr>\n",
       "      <th>3</th>\n",
       "      <td>516 S Flores St</td>\n",
       "      <td>San Antonio</td>\n",
       "      <td>4</td>\n",
       "      <td>TX</td>\n",
       "      <td>78204</td>\n",
       "    </tr>\n",
       "    <tr>\n",
       "      <th>4</th>\n",
       "      <td>1520 Austin Hwy</td>\n",
       "      <td>San Antonio</td>\n",
       "      <td>5</td>\n",
       "      <td>TX</td>\n",
       "      <td>78218</td>\n",
       "    </tr>\n",
       "  </tbody>\n",
       "</table>\n",
       "</div>"
      ],
      "text/plain": [
       "             store_address   store_city  store_id store_state store_zipcode\n",
       "0   12125 Alamo Ranch Pkwy  San Antonio         1          TX         78253\n",
       "1         9255 FM 471 West  San Antonio         2          TX         78251\n",
       "2  2118 Fredericksburg Rdj  San Antonio         3          TX         78201\n",
       "3          516 S Flores St  San Antonio         4          TX         78204\n",
       "4          1520 Austin Hwy  San Antonio         5          TX         78218"
      ]
     },
     "execution_count": 3,
     "metadata": {},
     "output_type": "execute_result"
    }
   ],
   "source": [
    "domain = 'https://api.data.codeup.com/'\n",
    "endpoint = 'api/v1/stores'\n",
    "stores_list = []\n",
    "\n",
    "url = domain + endpoint\n",
    "response = requests.get(url)\n",
    "data = response.json()\n",
    "\n",
    "stores_list.extend(data['payload']['stores'])\n",
    "\n",
    "for page in range(data['payload']['max_page']-1):\n",
    "    print(\"Checking page: \" , page)\n",
    "    url = domain + data['payload']['next_page']\n",
    "    response = requests.get(url)\n",
    "    data = response.json()\n",
    "    \n",
    "    stores_list.extend(data['payload']['stores'])\n",
    "\n",
    "stores = pd.DataFrame(stores_list)\n",
    "\n",
    "print(\"Shape of stores df: \",stores.shape)\n",
    "stores.head()\n"
   ]
  },
  {
   "cell_type": "code",
   "execution_count": 4,
   "id": "973e9e92-6108-43ce-8389-01aed9459629",
   "metadata": {},
   "outputs": [],
   "source": [
    "domain = 'https://api.data.codeup.com/'\n",
    "endpoint = 'api/v1/sales'\n",
    "sales_list = []\n",
    "\n",
    "url = domain + endpoint\n",
    "response = requests.get(url)\n",
    "data = response.json()\n",
    "\n",
    "# sales_list.extend(data['payload']['sales'])\n",
    "\n",
    "# for page in range(data['payload']['max_page']-1):\n",
    "#     print(\"Checking page: \" , page, \"of \", data['payload']['max_page'])\n",
    "#     url = domain + data['payload']['next_page']\n",
    "#     response = requests.get(url)\n",
    "#     data = response.json()\n",
    "    \n",
    "#     stores_list.extend(data['payload']['sales'])\n",
    "\n",
    "# sales = pd.DataFrame(sales_list)\n",
    "\n",
    "# print(\"Shape of sales df: \",sales.shape)\n",
    "# sales.head()"
   ]
  },
  {
   "cell_type": "markdown",
   "id": "b10f81e2-7f26-4e09-864d-29ab3bf6844f",
   "metadata": {},
   "source": [
    "# 4. Save to csvs"
   ]
  },
  {
   "cell_type": "code",
   "execution_count": 5,
   "id": "e0167006-8fca-486f-96f1-d0a95eed9a10",
   "metadata": {},
   "outputs": [],
   "source": [
    "# sales.to_csv('sales.csv',index=False)\n",
    "# stores.to_csv('stores.csv', index=False)\n",
    "# items.to_csv('items.csv', index=False)"
   ]
  },
  {
   "cell_type": "markdown",
   "id": "650e14cd-79d2-493b-9fd5-45c4ede55b57",
   "metadata": {},
   "source": [
    "# 5. Combine all data into one large dataframe"
   ]
  },
  {
   "cell_type": "code",
   "execution_count": 6,
   "id": "a0a2fd61-3502-4427-93b6-c61553d0ff66",
   "metadata": {},
   "outputs": [],
   "source": [
    "\n",
    "# sales = acquire.acquire_sales()\n",
    "# items = acquire.acquire_items()\n",
    "# stores = acquire.acquire_stores()\n",
    "\n",
    "# combined = sales.merge(items, \n",
    "#                        left_on = 'item', \n",
    "#                        right_on = 'item_id').merge(stores,\n",
    "#                                                    left_on = 'store', \n",
    "#                                                    right_on = 'store_id')"
   ]
  },
  {
   "cell_type": "code",
   "execution_count": 7,
   "id": "be25a37a-4786-427a-903f-2b264634a6eb",
   "metadata": {},
   "outputs": [],
   "source": [
    "combined = acquire.acquire_all()"
   ]
  },
  {
   "cell_type": "code",
   "execution_count": 8,
   "id": "61251727-cd6f-4d41-8cd8-5d251ed6defd",
   "metadata": {},
   "outputs": [
    {
     "data": {
      "text/plain": [
       "(5000, 16)"
      ]
     },
     "execution_count": 8,
     "metadata": {},
     "output_type": "execute_result"
    }
   ],
   "source": [
    "combined.shape"
   ]
  },
  {
   "cell_type": "markdown",
   "id": "9e3407e3-c4fe-4ca2-98a5-a3eccfed6795",
   "metadata": {},
   "source": [
    "# 6. Open power systems data for Germany"
   ]
  },
  {
   "cell_type": "code",
   "execution_count": 9,
   "id": "115c4eac-a2e1-43b4-8395-52d06188fb4a",
   "metadata": {},
   "outputs": [],
   "source": [
    "# data = pd.read_csv('https://raw.githubusercontent.com/jenfly/opsd/master/opsd_germany_daily.csv')\n",
    "\n",
    "# data.to_csv('power_systems.csv', index=False)"
   ]
  },
  {
   "cell_type": "code",
   "execution_count": 10,
   "id": "a372532e-fd5f-47f5-ad06-9fb40039e8d9",
   "metadata": {},
   "outputs": [],
   "source": [
    "data = acquire.acquire_power_data()"
   ]
  },
  {
   "cell_type": "code",
   "execution_count": 12,
   "id": "0de4550f-f834-4224-9ada-f26da48ecf9b",
   "metadata": {},
   "outputs": [
    {
     "data": {
      "text/plain": [
       "(4383, 5)"
      ]
     },
     "execution_count": 12,
     "metadata": {},
     "output_type": "execute_result"
    }
   ],
   "source": [
    "data.shape"
   ]
  },
  {
   "cell_type": "code",
   "execution_count": null,
   "id": "52932b70-1e5f-4f24-9518-be20f6e011ac",
   "metadata": {},
   "outputs": [],
   "source": []
  }
 ],
 "metadata": {
  "kernelspec": {
   "display_name": "Python 3.9.7 64-bit ('base': conda)",
   "language": "python",
   "name": "python397jvsc74a57bd038cca0c38332a56087b24af0bc80247f4fced29cb4f7f437d91dc159adec9c4e"
  },
  "language_info": {
   "codemirror_mode": {
    "name": "ipython",
    "version": 3
   },
   "file_extension": ".py",
   "mimetype": "text/x-python",
   "name": "python",
   "nbconvert_exporter": "python",
   "pygments_lexer": "ipython3",
   "version": "3.9.7"
  }
 },
 "nbformat": 4,
 "nbformat_minor": 5
}
