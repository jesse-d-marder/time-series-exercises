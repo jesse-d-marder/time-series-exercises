{
 "cells": [
  {
   "cell_type": "code",
   "execution_count": 1,
   "id": "2bb322cc-65f6-4271-b21a-f0bf4e6043da",
   "metadata": {},
   "outputs": [],
   "source": [
    "import acquire\n",
    "import prepare\n",
    "\n",
    "import pandas as pd\n",
    "import numpy as np\n",
    "import seaborn as sns\n",
    "import matplotlib.pyplot as plt\n",
    "from datetime import datetime\n",
    "\n",
    "import warnings\n",
    "warnings.filterwarnings('ignore')"
   ]
  },
  {
   "cell_type": "code",
   "execution_count": 2,
   "id": "b7c3cf10-4b04-4e2c-a3bf-0368136ab2c7",
   "metadata": {},
   "outputs": [],
   "source": [
    "df=acquire.acquire_all()"
   ]
  },
  {
   "cell_type": "code",
   "execution_count": 3,
   "id": "bfa603a7-2495-4aa1-a2f1-97f43c328a38",
   "metadata": {},
   "outputs": [],
   "source": [
    "df=prepare.prepare_store(df)"
   ]
  },
  {
   "cell_type": "code",
   "execution_count": 4,
   "id": "b0347880-2582-4f5f-b750-58414385e681",
   "metadata": {},
   "outputs": [
    {
     "data": {
      "text/html": [
       "<div>\n",
       "<style scoped>\n",
       "    .dataframe tbody tr th:only-of-type {\n",
       "        vertical-align: middle;\n",
       "    }\n",
       "\n",
       "    .dataframe tbody tr th {\n",
       "        vertical-align: top;\n",
       "    }\n",
       "\n",
       "    .dataframe thead th {\n",
       "        text-align: right;\n",
       "    }\n",
       "</style>\n",
       "<table border=\"1\" class=\"dataframe\">\n",
       "  <thead>\n",
       "    <tr style=\"text-align: right;\">\n",
       "      <th></th>\n",
       "      <th>item</th>\n",
       "      <th>quantity</th>\n",
       "      <th>sale_id</th>\n",
       "      <th>store</th>\n",
       "      <th>item_brand</th>\n",
       "      <th>item_id</th>\n",
       "      <th>item_name</th>\n",
       "      <th>item_price</th>\n",
       "      <th>item_upc12</th>\n",
       "      <th>item_upc14</th>\n",
       "      <th>store_address</th>\n",
       "      <th>store_city</th>\n",
       "      <th>store_id</th>\n",
       "      <th>store_state</th>\n",
       "      <th>store_zipcode</th>\n",
       "      <th>month</th>\n",
       "      <th>day_of_week</th>\n",
       "      <th>sales_total</th>\n",
       "    </tr>\n",
       "    <tr>\n",
       "      <th>sale_date</th>\n",
       "      <th></th>\n",
       "      <th></th>\n",
       "      <th></th>\n",
       "      <th></th>\n",
       "      <th></th>\n",
       "      <th></th>\n",
       "      <th></th>\n",
       "      <th></th>\n",
       "      <th></th>\n",
       "      <th></th>\n",
       "      <th></th>\n",
       "      <th></th>\n",
       "      <th></th>\n",
       "      <th></th>\n",
       "      <th></th>\n",
       "      <th></th>\n",
       "      <th></th>\n",
       "      <th></th>\n",
       "    </tr>\n",
       "  </thead>\n",
       "  <tbody>\n",
       "    <tr>\n",
       "      <th>2013-01-01</th>\n",
       "      <td>1</td>\n",
       "      <td>13.0</td>\n",
       "      <td>1</td>\n",
       "      <td>1</td>\n",
       "      <td>Riceland</td>\n",
       "      <td>1</td>\n",
       "      <td>Riceland American Jazmine Rice</td>\n",
       "      <td>0.84</td>\n",
       "      <td>35200264013</td>\n",
       "      <td>35200264013</td>\n",
       "      <td>12125 Alamo Ranch Pkwy</td>\n",
       "      <td>San Antonio</td>\n",
       "      <td>1</td>\n",
       "      <td>TX</td>\n",
       "      <td>78253</td>\n",
       "      <td>1</td>\n",
       "      <td>1</td>\n",
       "      <td>10.92</td>\n",
       "    </tr>\n",
       "  </tbody>\n",
       "</table>\n",
       "</div>"
      ],
      "text/plain": [
       "            item  quantity  sale_id  store item_brand  item_id  \\\n",
       "sale_date                                                        \n",
       "2013-01-01     1      13.0        1      1   Riceland        1   \n",
       "\n",
       "                                 item_name  item_price   item_upc12  \\\n",
       "sale_date                                                             \n",
       "2013-01-01  Riceland American Jazmine Rice        0.84  35200264013   \n",
       "\n",
       "             item_upc14           store_address   store_city  store_id  \\\n",
       "sale_date                                                                \n",
       "2013-01-01  35200264013  12125 Alamo Ranch Pkwy  San Antonio         1   \n",
       "\n",
       "           store_state  store_zipcode  month  day_of_week  sales_total  \n",
       "sale_date                                                               \n",
       "2013-01-01          TX          78253      1            1        10.92  "
      ]
     },
     "execution_count": 4,
     "metadata": {},
     "output_type": "execute_result"
    }
   ],
   "source": [
    "df.head(1)"
   ]
  },
  {
   "cell_type": "code",
   "execution_count": 5,
   "id": "68ab96ad-fa1d-4ff4-8ecc-f7e5b5c91f00",
   "metadata": {},
   "outputs": [],
   "source": [
    "# pd.to_datetime(df.sale_date.str.split(' 00:00:00 GMT').str[0].str.split(', ').str[1],format='%d %b %Y')"
   ]
  },
  {
   "cell_type": "code",
   "execution_count": 6,
   "id": "02359dee-73a9-4e5d-a6e7-9ff532dc77e2",
   "metadata": {},
   "outputs": [],
   "source": [
    "# start_time = datetime.now()\n",
    "# df.sale_date[:] = pd.to_datetime(df.sale_date,format='%a, %d %b %Y %H:%M:%S %Z').dt.date\n",
    "# end_time = datetime.now()\n",
    "\n",
    "# print(\"It took \",(end_time-start_time).seconds)"
   ]
  },
  {
   "cell_type": "code",
   "execution_count": 7,
   "id": "54ba87aa-7d0d-4f29-908d-b45e7c2719b4",
   "metadata": {},
   "outputs": [
    {
     "data": {
      "text/plain": [
       "Text(0.5, 1.0, 'Sale Amount Distribution')"
      ]
     },
     "execution_count": 7,
     "metadata": {},
     "output_type": "execute_result"
    },
    {
     "data": {
      "image/png": "[encoded data removed]",
      "text/plain": [
       "<Figure size 432x288 with 1 Axes>"
      ]
     },
     "metadata": {
      "needs_background": "light"
     },
     "output_type": "display_data"
    }
   ],
   "source": [
    "df.quantity.hist()\n",
    "plt.title('Sale Amount Distribution')"
   ]
  },
  {
   "cell_type": "code",
   "execution_count": 8,
   "id": "79be17e8-c14e-4541-ba63-3479d198d2c2",
   "metadata": {},
   "outputs": [
    {
     "data": {
      "text/plain": [
       "Text(0.5, 1.0, 'Item Price Distribution')"
      ]
     },
     "execution_count": 8,
     "metadata": {},
     "output_type": "execute_result"
    },
    {
     "data": {
      "image/png": "[encoded data removed]",
      "text/plain": [
       "<Figure size 432x288 with 1 Axes>"
      ]
     },
     "metadata": {
      "needs_background": "light"
     },
     "output_type": "display_data"
    }
   ],
   "source": [
    "df.item_price.hist()\n",
    "plt.title('Item Price Distribution')"
   ]
  },
  {
   "cell_type": "code",
   "execution_count": 9,
   "id": "de2249ff-b0e9-43d5-8b74-47dc5495354e",
   "metadata": {},
   "outputs": [],
   "source": [
    "# df= df.set_index('sale_date')\n",
    "\n",
    "# df['month'] = df.index.month\n",
    "# df['day_of_week'] = df.index.day_of_week\n",
    "\n",
    "# df['sales_total'] = df.sale_amount*df.item_price\n",
    "\n",
    "# df.sort_index()"
   ]
  },
  {
   "cell_type": "code",
   "execution_count": 10,
   "id": "6d0d658c-8032-4241-8618-56eed152a5c2",
   "metadata": {},
   "outputs": [
    {
     "data": {
      "text/plain": [
       "store_id  item_id\n",
       "1         1          1826\n",
       "          2          1826\n",
       "          3          1826\n",
       "          4          1826\n",
       "          5          1826\n",
       "                     ... \n",
       "10        46         1826\n",
       "          47         1826\n",
       "          48         1826\n",
       "          49         1826\n",
       "          50         1826\n",
       "Name: sale_date, Length: 500, dtype: int64"
      ]
     },
     "execution_count": 10,
     "metadata": {},
     "output_type": "execute_result"
    }
   ],
   "source": [
    "df.reset_index().groupby(['store_id','item_id']).sale_date.nunique()"
   ]
  },
  {
   "cell_type": "markdown",
   "id": "32f85c9d-a16f-4f66-8845-b7fa96317664",
   "metadata": {},
   "source": [
    "### Looking at sales per item id per store over time"
   ]
  },
  {
   "cell_type": "code",
   "execution_count": 11,
   "id": "f33a2257-5d6d-4061-ac60-aa9391b1eb97",
   "metadata": {},
   "outputs": [
    {
     "data": {
      "text/plain": [
       "Timedelta('1826 days 00:00:00')"
      ]
     },
     "execution_count": 11,
     "metadata": {},
     "output_type": "execute_result"
    }
   ],
   "source": [
    "df.index.max()-df.index.min()+pd.Timedelta(days=1)"
   ]
  },
  {
   "cell_type": "markdown",
   "id": "ffeec2aa-42b8-45c6-9df3-5a6acdc28c7a",
   "metadata": {},
   "source": [
    "Based on time delta of 1826 days from max to min and the fact that when grouped by sales and item and looked at number of unique sale dates all values were 1826 can conclude have continuous dates"
   ]
  },
  {
   "cell_type": "code",
   "execution_count": 12,
   "id": "5408cc0c-9401-49dc-b4d0-d56140b01c1b",
   "metadata": {},
   "outputs": [],
   "source": [
    "df = acquire.acquire_power_data()"
   ]
  },
  {
   "cell_type": "code",
   "execution_count": 13,
   "id": "d3d32fca-1b1a-4360-b86b-32d97fe32b8d",
   "metadata": {},
   "outputs": [],
   "source": [
    "df = prepare.prepare_power(df)"
   ]
  },
  {
   "cell_type": "code",
   "execution_count": 14,
   "id": "67e24dbb-3c1c-4b5f-8962-94a2c8d3b648",
   "metadata": {},
   "outputs": [],
   "source": [
    "# df.index = pd.to_datetime(df.Date)\n",
    "\n",
    "# df= df.sort_index()\n",
    "\n",
    "# df['month'] = df.index.month\n",
    "# df['year'] = df.index.year"
   ]
  },
  {
   "cell_type": "code",
   "execution_count": 15,
   "id": "70a32eba-571c-4424-b0f1-79701dc7b4b1",
   "metadata": {},
   "outputs": [
    {
     "data": {
      "text/html": [
       "<div>\n",
       "<style scoped>\n",
       "    .dataframe tbody tr th:only-of-type {\n",
       "        vertical-align: middle;\n",
       "    }\n",
       "\n",
       "    .dataframe tbody tr th {\n",
       "        vertical-align: top;\n",
       "    }\n",
       "\n",
       "    .dataframe thead th {\n",
       "        text-align: right;\n",
       "    }\n",
       "</style>\n",
       "<table border=\"1\" class=\"dataframe\">\n",
       "  <thead>\n",
       "    <tr style=\"text-align: right;\">\n",
       "      <th></th>\n",
       "      <th>date</th>\n",
       "      <th>consumption</th>\n",
       "      <th>wind</th>\n",
       "      <th>solar</th>\n",
       "      <th>wind_solar</th>\n",
       "      <th>month</th>\n",
       "      <th>year</th>\n",
       "    </tr>\n",
       "    <tr>\n",
       "      <th>Date</th>\n",
       "      <th></th>\n",
       "      <th></th>\n",
       "      <th></th>\n",
       "      <th></th>\n",
       "      <th></th>\n",
       "      <th></th>\n",
       "      <th></th>\n",
       "    </tr>\n",
       "  </thead>\n",
       "  <tbody>\n",
       "    <tr>\n",
       "      <th>2006-01-01</th>\n",
       "      <td>2006-01-01</td>\n",
       "      <td>1069.18400</td>\n",
       "      <td>0.000</td>\n",
       "      <td>0.000</td>\n",
       "      <td>0.000</td>\n",
       "      <td>1</td>\n",
       "      <td>2006</td>\n",
       "    </tr>\n",
       "    <tr>\n",
       "      <th>2006-01-02</th>\n",
       "      <td>2006-01-02</td>\n",
       "      <td>1380.52100</td>\n",
       "      <td>0.000</td>\n",
       "      <td>0.000</td>\n",
       "      <td>0.000</td>\n",
       "      <td>1</td>\n",
       "      <td>2006</td>\n",
       "    </tr>\n",
       "    <tr>\n",
       "      <th>2006-01-03</th>\n",
       "      <td>2006-01-03</td>\n",
       "      <td>1442.53300</td>\n",
       "      <td>0.000</td>\n",
       "      <td>0.000</td>\n",
       "      <td>0.000</td>\n",
       "      <td>1</td>\n",
       "      <td>2006</td>\n",
       "    </tr>\n",
       "    <tr>\n",
       "      <th>2006-01-04</th>\n",
       "      <td>2006-01-04</td>\n",
       "      <td>1457.21700</td>\n",
       "      <td>0.000</td>\n",
       "      <td>0.000</td>\n",
       "      <td>0.000</td>\n",
       "      <td>1</td>\n",
       "      <td>2006</td>\n",
       "    </tr>\n",
       "    <tr>\n",
       "      <th>2006-01-05</th>\n",
       "      <td>2006-01-05</td>\n",
       "      <td>1477.13100</td>\n",
       "      <td>0.000</td>\n",
       "      <td>0.000</td>\n",
       "      <td>0.000</td>\n",
       "      <td>1</td>\n",
       "      <td>2006</td>\n",
       "    </tr>\n",
       "    <tr>\n",
       "      <th>...</th>\n",
       "      <td>...</td>\n",
       "      <td>...</td>\n",
       "      <td>...</td>\n",
       "      <td>...</td>\n",
       "      <td>...</td>\n",
       "      <td>...</td>\n",
       "      <td>...</td>\n",
       "    </tr>\n",
       "    <tr>\n",
       "      <th>2017-12-27</th>\n",
       "      <td>2017-12-27</td>\n",
       "      <td>1263.94091</td>\n",
       "      <td>394.507</td>\n",
       "      <td>16.530</td>\n",
       "      <td>411.037</td>\n",
       "      <td>12</td>\n",
       "      <td>2017</td>\n",
       "    </tr>\n",
       "    <tr>\n",
       "      <th>2017-12-28</th>\n",
       "      <td>2017-12-28</td>\n",
       "      <td>1299.86398</td>\n",
       "      <td>506.424</td>\n",
       "      <td>14.162</td>\n",
       "      <td>520.586</td>\n",
       "      <td>12</td>\n",
       "      <td>2017</td>\n",
       "    </tr>\n",
       "    <tr>\n",
       "      <th>2017-12-29</th>\n",
       "      <td>2017-12-29</td>\n",
       "      <td>1295.08753</td>\n",
       "      <td>584.277</td>\n",
       "      <td>29.854</td>\n",
       "      <td>614.131</td>\n",
       "      <td>12</td>\n",
       "      <td>2017</td>\n",
       "    </tr>\n",
       "    <tr>\n",
       "      <th>2017-12-30</th>\n",
       "      <td>2017-12-30</td>\n",
       "      <td>1215.44897</td>\n",
       "      <td>721.247</td>\n",
       "      <td>7.467</td>\n",
       "      <td>728.714</td>\n",
       "      <td>12</td>\n",
       "      <td>2017</td>\n",
       "    </tr>\n",
       "    <tr>\n",
       "      <th>2017-12-31</th>\n",
       "      <td>2017-12-31</td>\n",
       "      <td>1107.11488</td>\n",
       "      <td>721.176</td>\n",
       "      <td>19.980</td>\n",
       "      <td>741.156</td>\n",
       "      <td>12</td>\n",
       "      <td>2017</td>\n",
       "    </tr>\n",
       "  </tbody>\n",
       "</table>\n",
       "<p>4383 rows × 7 columns</p>\n",
       "</div>"
      ],
      "text/plain": [
       "                  date  consumption     wind   solar  wind_solar  month  year\n",
       "Date                                                                         \n",
       "2006-01-01  2006-01-01   1069.18400    0.000   0.000       0.000      1  2006\n",
       "2006-01-02  2006-01-02   1380.52100    0.000   0.000       0.000      1  2006\n",
       "2006-01-03  2006-01-03   1442.53300    0.000   0.000       0.000      1  2006\n",
       "2006-01-04  2006-01-04   1457.21700    0.000   0.000       0.000      1  2006\n",
       "2006-01-05  2006-01-05   1477.13100    0.000   0.000       0.000      1  2006\n",
       "...                ...          ...      ...     ...         ...    ...   ...\n",
       "2017-12-27  2017-12-27   1263.94091  394.507  16.530     411.037     12  2017\n",
       "2017-12-28  2017-12-28   1299.86398  506.424  14.162     520.586     12  2017\n",
       "2017-12-29  2017-12-29   1295.08753  584.277  29.854     614.131     12  2017\n",
       "2017-12-30  2017-12-30   1215.44897  721.247   7.467     728.714     12  2017\n",
       "2017-12-31  2017-12-31   1107.11488  721.176  19.980     741.156     12  2017\n",
       "\n",
       "[4383 rows x 7 columns]"
      ]
     },
     "execution_count": 15,
     "metadata": {},
     "output_type": "execute_result"
    }
   ],
   "source": [
    "df"
   ]
  },
  {
   "cell_type": "code",
   "execution_count": 16,
   "id": "0c893a8d-5898-40ac-bfbe-eea2f67bcb8e",
   "metadata": {},
   "outputs": [
    {
     "data": {
      "text/plain": [
       "<Figure size 1728x720 with 0 Axes>"
      ]
     },
     "metadata": {},
     "output_type": "display_data"
    },
    {
     "data": {
      "image/png": "[encoded data removed]",
      "text/plain": [
       "<Figure size 432x288 with 6 Axes>"
      ]
     },
     "metadata": {
      "needs_background": "light"
     },
     "output_type": "display_data"
    }
   ],
   "source": [
    "plt.figure(figsize=(24,10))\n",
    "df.hist()\n",
    "plt.tight_layout()"
   ]
  },
  {
   "cell_type": "code",
   "execution_count": 19,
   "id": "36f91e96-1e9d-4831-be88-06c20afbdcaf",
   "metadata": {},
   "outputs": [],
   "source": [
    "df[\"combined\"] = df.wind+df.solar"
   ]
  },
  {
   "cell_type": "code",
   "execution_count": 22,
   "id": "0a684d84-a79f-47ab-9257-ce01ae640004",
   "metadata": {},
   "outputs": [
    {
     "data": {
      "text/plain": [
       "80240.374"
      ]
     },
     "execution_count": 22,
     "metadata": {},
     "output_type": "execute_result"
    }
   ],
   "source": [
    "(df.combined - df.wind_solar).sum()"
   ]
  },
  {
   "cell_type": "code",
   "execution_count": null,
   "id": "f278d180-7ff6-4bfc-b1e1-8bd8a7469152",
   "metadata": {},
   "outputs": [],
   "source": []
  }
 ],
 "metadata": {
  "kernelspec": {
   "display_name": "Python 3.9.7 64-bit ('base': conda)",
   "language": "python",
   "name": "python397jvsc74a57bd038cca0c38332a56087b24af0bc80247f4fced29cb4f7f437d91dc159adec9c4e"
  },
  "language_info": {
   "codemirror_mode": {
    "name": "ipython",
    "version": 3
   },
   "file_extension": ".py",
   "mimetype": "text/x-python",
   "name": "python",
   "nbconvert_exporter": "python",
   "pygments_lexer": "ipython3",
   "version": "3.9.7"
  }
 },
 "nbformat": 4,
 "nbformat_minor": 5
}
